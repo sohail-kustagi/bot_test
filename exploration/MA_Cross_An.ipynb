{
 "cells": [
  {
   "cell_type": "code",
   "execution_count": 10,
   "id": "ed1e3197",
   "metadata": {},
   "outputs": [],
   "source": [
    "import pandas as pd\n",
    "from plotting import CandlePlot\n",
    "pd.set_option(\"display.max_columns\", None)"
   ]
  },
  {
   "cell_type": "code",
   "execution_count": 11,
   "id": "c69a1c64",
   "metadata": {},
   "outputs": [],
   "source": [
    "df_ma_res = pd.read_pickle(\"../data/ma_res.pkl\")\n",
    "df_ma_trades = pd.read_pickle(\"../data/ma_trades.pkl\")"
   ]
  },
  {
   "cell_type": "code",
   "execution_count": 12,
   "id": "002dc629",
   "metadata": {},
   "outputs": [
    {
     "data": {
      "text/plain": [
       "array(['H1'], dtype=object)"
      ]
     },
     "execution_count": 12,
     "metadata": {},
     "output_type": "execute_result"
    }
   ],
   "source": [
    "df_ma_res.granularity.unique()"
   ]
  },
  {
   "cell_type": "code",
   "execution_count": 13,
   "id": "3bc85f28",
   "metadata": {},
   "outputs": [],
   "source": [
    "df_ma_res_h1 = df_ma_res[df_ma_res.granularity == \"H1\"].copy()\n",
    "df_ma_trades_h1 = df_ma_trades[df_ma_trades.granularity == \"H1\"].copy()"
   ]
  },
  {
   "cell_type": "code",
   "execution_count": 14,
   "id": "a4cae280",
   "metadata": {},
   "outputs": [
    {
     "data": {
      "text/plain": [
       "(3762, 27)"
      ]
     },
     "execution_count": 14,
     "metadata": {},
     "output_type": "execute_result"
    }
   ],
   "source": [
    "df_ma_trades_h1.shape"
   ]
  },
  {
   "cell_type": "code",
   "execution_count": 15,
   "id": "1f1357db",
   "metadata": {},
   "outputs": [
    {
     "data": {
      "text/plain": [
       "Index(['pair', 'num_trades', 'total_gain', 'mean_gain', 'min_gain', 'max_gain',\n",
       "       'ma_l', 'ma_s', 'cross', 'granularity'],\n",
       "      dtype='object')"
      ]
     },
     "execution_count": 15,
     "metadata": {},
     "output_type": "execute_result"
    }
   ],
   "source": [
    "df_ma_res_h1.columns"
   ]
  },
  {
   "cell_type": "code",
   "execution_count": 16,
   "id": "596ecfa0",
   "metadata": {},
   "outputs": [],
   "source": [
    "df_cross_summary = df_ma_res_h1[['pair', 'num_trades', 'total_gain','cross']].copy()"
   ]
  },
  {
   "cell_type": "code",
   "execution_count": 17,
   "id": "28376ea9",
   "metadata": {},
   "outputs": [],
   "source": [
    "df_cross_gr = df_cross_summary.groupby(by=\"cross\", as_index=False).sum()\n",
    "df_cross_gr.sort_values(by=\"total_gain\", ascending=False, inplace=True)"
   ]
  },
  {
   "cell_type": "code",
   "execution_count": 18,
   "id": "6885b252",
   "metadata": {},
   "outputs": [
    {
     "data": {
      "text/html": [
       "<div>\n",
       "<style scoped>\n",
       "    .dataframe tbody tr th:only-of-type {\n",
       "        vertical-align: middle;\n",
       "    }\n",
       "\n",
       "    .dataframe tbody tr th {\n",
       "        vertical-align: top;\n",
       "    }\n",
       "\n",
       "    .dataframe thead th {\n",
       "        text-align: right;\n",
       "    }\n",
       "</style>\n",
       "<table border=\"1\" class=\"dataframe\">\n",
       "  <thead>\n",
       "    <tr style=\"text-align: right;\">\n",
       "      <th></th>\n",
       "      <th>cross</th>\n",
       "      <th>pair</th>\n",
       "      <th>num_trades</th>\n",
       "      <th>total_gain</th>\n",
       "    </tr>\n",
       "  </thead>\n",
       "  <tbody>\n",
       "    <tr>\n",
       "      <th>1</th>\n",
       "      <td>MA_10_MA_40</td>\n",
       "      <td>EURUSDEURGBPGBPUSDEURUSDEURGBPGBPUSD</td>\n",
       "      <td>1308</td>\n",
       "      <td>-982</td>\n",
       "    </tr>\n",
       "    <tr>\n",
       "      <th>0</th>\n",
       "      <td>MA_10_MA_20</td>\n",
       "      <td>EURUSDEURGBPGBPUSDEURUSDEURGBPGBPUSD</td>\n",
       "      <td>2454</td>\n",
       "      <td>-6638</td>\n",
       "    </tr>\n",
       "  </tbody>\n",
       "</table>\n",
       "</div>"
      ],
      "text/plain": [
       "         cross                                  pair  num_trades  total_gain\n",
       "1  MA_10_MA_40  EURUSDEURGBPGBPUSDEURUSDEURGBPGBPUSD        1308        -982\n",
       "0  MA_10_MA_20  EURUSDEURGBPGBPUSDEURUSDEURGBPGBPUSD        2454       -6638"
      ]
     },
     "execution_count": 18,
     "metadata": {},
     "output_type": "execute_result"
    }
   ],
   "source": [
    "df_cross_gr.head()"
   ]
  },
  {
   "cell_type": "code",
   "execution_count": 19,
   "id": "2aede132",
   "metadata": {},
   "outputs": [],
   "source": [
    "total_pairs = len(df_ma_res_h1.pair.unique())"
   ]
  },
  {
   "cell_type": "code",
   "execution_count": 20,
   "id": "1b460708",
   "metadata": {},
   "outputs": [
    {
     "data": {
      "text/plain": [
       "3"
      ]
     },
     "execution_count": 20,
     "metadata": {},
     "output_type": "execute_result"
    }
   ],
   "source": [
    "total_pairs"
   ]
  },
  {
   "cell_type": "code",
   "execution_count": 21,
   "id": "dfe06d16",
   "metadata": {},
   "outputs": [],
   "source": [
    "temp = df_ma_res_h1[df_ma_res_h1.cross == \"MA_10_MA_40\"]"
   ]
  },
  {
   "cell_type": "code",
   "execution_count": 22,
   "id": "f8d15622",
   "metadata": {},
   "outputs": [
    {
     "data": {
      "text/plain": [
       "2"
      ]
     },
     "execution_count": 22,
     "metadata": {},
     "output_type": "execute_result"
    }
   ],
   "source": [
    "temp[temp.total_gain > 0].shape[0]"
   ]
  },
  {
   "cell_type": "code",
   "execution_count": 23,
   "id": "e290be51",
   "metadata": {},
   "outputs": [
    {
     "name": "stdout",
     "output_type": "stream",
     "text": [
      "MA_10_MA_20 pg:0 perc gain:0%\n",
      "MA_10_MA_40 pg:2 perc gain:67%\n"
     ]
    }
   ],
   "source": [
    "for c in df_ma_res_h1.cross.unique():\n",
    "    temp = df_ma_res_h1[df_ma_res_h1.cross == c]\n",
    "    pg = temp[temp.total_gain > 0].shape[0]\n",
    "    print(f\"{c} pg:{pg} perc gain:{(pg / total_pairs) * 100:.0f}%\")"
   ]
  },
  {
   "cell_type": "code",
   "execution_count": 24,
   "id": "5ac6b45f",
   "metadata": {},
   "outputs": [],
   "source": [
    "cross = \"MA_10_MA_20\"\n",
    "df_MA_10_MA_20 = df_ma_res_h1[df_ma_res_h1.cross == cross].copy()\n",
    "df_MA_10_MA_20.sort_values(by=\"total_gain\", ascending=False, inplace=True)"
   ]
  },
  {
   "cell_type": "code",
   "execution_count": 25,
   "id": "c2d5205b",
   "metadata": {},
   "outputs": [
    {
     "data": {
      "text/html": [
       "<div>\n",
       "<style scoped>\n",
       "    .dataframe tbody tr th:only-of-type {\n",
       "        vertical-align: middle;\n",
       "    }\n",
       "\n",
       "    .dataframe tbody tr th {\n",
       "        vertical-align: top;\n",
       "    }\n",
       "\n",
       "    .dataframe thead th {\n",
       "        text-align: right;\n",
       "    }\n",
       "</style>\n",
       "<table border=\"1\" class=\"dataframe\">\n",
       "  <thead>\n",
       "    <tr style=\"text-align: right;\">\n",
       "      <th></th>\n",
       "      <th>pair</th>\n",
       "      <th>num_trades</th>\n",
       "      <th>total_gain</th>\n",
       "      <th>mean_gain</th>\n",
       "      <th>min_gain</th>\n",
       "      <th>max_gain</th>\n",
       "      <th>ma_l</th>\n",
       "      <th>ma_s</th>\n",
       "      <th>cross</th>\n",
       "      <th>granularity</th>\n",
       "    </tr>\n",
       "  </thead>\n",
       "  <tbody>\n",
       "    <tr>\n",
       "      <th>10</th>\n",
       "      <td>GBPUSD</td>\n",
       "      <td>408</td>\n",
       "      <td>-752</td>\n",
       "      <td>-1</td>\n",
       "      <td>-249</td>\n",
       "      <td>464</td>\n",
       "      <td>MA_20</td>\n",
       "      <td>MA_10</td>\n",
       "      <td>MA_10_MA_20</td>\n",
       "      <td>H1</td>\n",
       "    </tr>\n",
       "    <tr>\n",
       "      <th>4</th>\n",
       "      <td>GBPUSD</td>\n",
       "      <td>408</td>\n",
       "      <td>-752</td>\n",
       "      <td>-1</td>\n",
       "      <td>-249</td>\n",
       "      <td>464</td>\n",
       "      <td>MA_20</td>\n",
       "      <td>MA_10</td>\n",
       "      <td>MA_10_MA_20</td>\n",
       "      <td>H1</td>\n",
       "    </tr>\n",
       "    <tr>\n",
       "      <th>8</th>\n",
       "      <td>EURGBP</td>\n",
       "      <td>414</td>\n",
       "      <td>-1137</td>\n",
       "      <td>-2</td>\n",
       "      <td>-96</td>\n",
       "      <td>165</td>\n",
       "      <td>MA_20</td>\n",
       "      <td>MA_10</td>\n",
       "      <td>MA_10_MA_20</td>\n",
       "      <td>H1</td>\n",
       "    </tr>\n",
       "    <tr>\n",
       "      <th>2</th>\n",
       "      <td>EURGBP</td>\n",
       "      <td>414</td>\n",
       "      <td>-1137</td>\n",
       "      <td>-2</td>\n",
       "      <td>-96</td>\n",
       "      <td>165</td>\n",
       "      <td>MA_20</td>\n",
       "      <td>MA_10</td>\n",
       "      <td>MA_10_MA_20</td>\n",
       "      <td>H1</td>\n",
       "    </tr>\n",
       "    <tr>\n",
       "      <th>0</th>\n",
       "      <td>EURUSD</td>\n",
       "      <td>405</td>\n",
       "      <td>-1430</td>\n",
       "      <td>-3</td>\n",
       "      <td>-220</td>\n",
       "      <td>224</td>\n",
       "      <td>MA_20</td>\n",
       "      <td>MA_10</td>\n",
       "      <td>MA_10_MA_20</td>\n",
       "      <td>H1</td>\n",
       "    </tr>\n",
       "    <tr>\n",
       "      <th>6</th>\n",
       "      <td>EURUSD</td>\n",
       "      <td>405</td>\n",
       "      <td>-1430</td>\n",
       "      <td>-3</td>\n",
       "      <td>-220</td>\n",
       "      <td>224</td>\n",
       "      <td>MA_20</td>\n",
       "      <td>MA_10</td>\n",
       "      <td>MA_10_MA_20</td>\n",
       "      <td>H1</td>\n",
       "    </tr>\n",
       "  </tbody>\n",
       "</table>\n",
       "</div>"
      ],
      "text/plain": [
       "      pair  num_trades  total_gain  mean_gain  min_gain  max_gain   ma_l  \\\n",
       "10  GBPUSD         408        -752         -1      -249       464  MA_20   \n",
       "4   GBPUSD         408        -752         -1      -249       464  MA_20   \n",
       "8   EURGBP         414       -1137         -2       -96       165  MA_20   \n",
       "2   EURGBP         414       -1137         -2       -96       165  MA_20   \n",
       "0   EURUSD         405       -1430         -3      -220       224  MA_20   \n",
       "6   EURUSD         405       -1430         -3      -220       224  MA_20   \n",
       "\n",
       "     ma_s        cross granularity  \n",
       "10  MA_10  MA_10_MA_20          H1  \n",
       "4   MA_10  MA_10_MA_20          H1  \n",
       "8   MA_10  MA_10_MA_20          H1  \n",
       "2   MA_10  MA_10_MA_20          H1  \n",
       "0   MA_10  MA_10_MA_20          H1  \n",
       "6   MA_10  MA_10_MA_20          H1  "
      ]
     },
     "execution_count": 25,
     "metadata": {},
     "output_type": "execute_result"
    }
   ],
   "source": [
    "df_MA_10_MA_20"
   ]
  },
  {
   "cell_type": "code",
   "execution_count": 26,
   "id": "5d5f1c99",
   "metadata": {},
   "outputs": [],
   "source": [
    "df_gains = df_ma_trades_h1[(df_ma_trades_h1.cross==cross)&\n",
    "                           (df_ma_trades_h1.pair==\"CAD_JPY\")].copy()"
   ]
  },
  {
   "cell_type": "code",
   "execution_count": 27,
   "id": "51bca4a1",
   "metadata": {},
   "outputs": [
    {
     "data": {
      "text/html": [
       "<div>\n",
       "<style scoped>\n",
       "    .dataframe tbody tr th:only-of-type {\n",
       "        vertical-align: middle;\n",
       "    }\n",
       "\n",
       "    .dataframe tbody tr th {\n",
       "        vertical-align: top;\n",
       "    }\n",
       "\n",
       "    .dataframe thead th {\n",
       "        text-align: right;\n",
       "    }\n",
       "</style>\n",
       "<table border=\"1\" class=\"dataframe\">\n",
       "  <thead>\n",
       "    <tr style=\"text-align: right;\">\n",
       "      <th></th>\n",
       "      <th>time</th>\n",
       "      <th>bid_o</th>\n",
       "      <th>bid_h</th>\n",
       "      <th>bid_l</th>\n",
       "      <th>bid_c</th>\n",
       "      <th>ask_o</th>\n",
       "      <th>ask_h</th>\n",
       "      <th>ask_l</th>\n",
       "      <th>ask_c</th>\n",
       "      <th>mid_o</th>\n",
       "      <th>mid_h</th>\n",
       "      <th>mid_l</th>\n",
       "      <th>mid_c</th>\n",
       "      <th>MA_40</th>\n",
       "      <th>MA_10</th>\n",
       "      <th>MA_20</th>\n",
       "      <th>DELTA</th>\n",
       "      <th>DELTA_PREV</th>\n",
       "      <th>TRADE</th>\n",
       "      <th>DIFF</th>\n",
       "      <th>GAIN</th>\n",
       "      <th>granularity</th>\n",
       "      <th>pair</th>\n",
       "      <th>GAIN_C</th>\n",
       "      <th>ma_l</th>\n",
       "      <th>ma_s</th>\n",
       "      <th>cross</th>\n",
       "    </tr>\n",
       "  </thead>\n",
       "  <tbody>\n",
       "  </tbody>\n",
       "</table>\n",
       "</div>"
      ],
      "text/plain": [
       "Empty DataFrame\n",
       "Columns: [time, bid_o, bid_h, bid_l, bid_c, ask_o, ask_h, ask_l, ask_c, mid_o, mid_h, mid_l, mid_c, MA_40, MA_10, MA_20, DELTA, DELTA_PREV, TRADE, DIFF, GAIN, granularity, pair, GAIN_C, ma_l, ma_s, cross]\n",
       "Index: []"
      ]
     },
     "execution_count": 27,
     "metadata": {},
     "output_type": "execute_result"
    }
   ],
   "source": [
    "df_gains.head(3)"
   ]
  },
  {
   "cell_type": "code",
   "execution_count": 28,
   "id": "ab9653d6",
   "metadata": {},
   "outputs": [
    {
     "data": {
      "application/vnd.plotly.v1+json": {
       "config": {
        "plotlyServerURL": "https://plot.ly"
       },
       "data": [
        {
         "line": {
          "shape": "spline",
          "width": 2
         },
         "name": "GAIN_C",
         "type": "scatter",
         "x": [],
         "xaxis": "x",
         "y": [],
         "yaxis": "y"
        }
       ],
       "layout": {
        "font": {
         "color": "#e1e1e1",
         "size": 8
        },
        "height": 400,
        "margin": {
         "b": 10,
         "l": 10,
         "r": 10,
         "t": 10
        },
        "paper_bgcolor": "#2c303c",
        "plot_bgcolor": "#2c303c",
        "template": {
         "data": {
          "bar": [
           {
            "error_x": {
             "color": "#2a3f5f"
            },
            "error_y": {
             "color": "#2a3f5f"
            },
            "marker": {
             "line": {
              "color": "#E5ECF6",
              "width": 0.5
             },
             "pattern": {
              "fillmode": "overlay",
              "size": 10,
              "solidity": 0.2
             }
            },
            "type": "bar"
           }
          ],
          "barpolar": [
           {
            "marker": {
             "line": {
              "color": "#E5ECF6",
              "width": 0.5
             },
             "pattern": {
              "fillmode": "overlay",
              "size": 10,
              "solidity": 0.2
             }
            },
            "type": "barpolar"
           }
          ],
          "carpet": [
           {
            "aaxis": {
             "endlinecolor": "#2a3f5f",
             "gridcolor": "white",
             "linecolor": "white",
             "minorgridcolor": "white",
             "startlinecolor": "#2a3f5f"
            },
            "baxis": {
             "endlinecolor": "#2a3f5f",
             "gridcolor": "white",
             "linecolor": "white",
             "minorgridcolor": "white",
             "startlinecolor": "#2a3f5f"
            },
            "type": "carpet"
           }
          ],
          "choropleth": [
           {
            "colorbar": {
             "outlinewidth": 0,
             "ticks": ""
            },
            "type": "choropleth"
           }
          ],
          "contour": [
           {
            "colorbar": {
             "outlinewidth": 0,
             "ticks": ""
            },
            "colorscale": [
             [
              0,
              "#0d0887"
             ],
             [
              0.1111111111111111,
              "#46039f"
             ],
             [
              0.2222222222222222,
              "#7201a8"
             ],
             [
              0.3333333333333333,
              "#9c179e"
             ],
             [
              0.4444444444444444,
              "#bd3786"
             ],
             [
              0.5555555555555556,
              "#d8576b"
             ],
             [
              0.6666666666666666,
              "#ed7953"
             ],
             [
              0.7777777777777778,
              "#fb9f3a"
             ],
             [
              0.8888888888888888,
              "#fdca26"
             ],
             [
              1,
              "#f0f921"
             ]
            ],
            "type": "contour"
           }
          ],
          "contourcarpet": [
           {
            "colorbar": {
             "outlinewidth": 0,
             "ticks": ""
            },
            "type": "contourcarpet"
           }
          ],
          "heatmap": [
           {
            "colorbar": {
             "outlinewidth": 0,
             "ticks": ""
            },
            "colorscale": [
             [
              0,
              "#0d0887"
             ],
             [
              0.1111111111111111,
              "#46039f"
             ],
             [
              0.2222222222222222,
              "#7201a8"
             ],
             [
              0.3333333333333333,
              "#9c179e"
             ],
             [
              0.4444444444444444,
              "#bd3786"
             ],
             [
              0.5555555555555556,
              "#d8576b"
             ],
             [
              0.6666666666666666,
              "#ed7953"
             ],
             [
              0.7777777777777778,
              "#fb9f3a"
             ],
             [
              0.8888888888888888,
              "#fdca26"
             ],
             [
              1,
              "#f0f921"
             ]
            ],
            "type": "heatmap"
           }
          ],
          "histogram": [
           {
            "marker": {
             "pattern": {
              "fillmode": "overlay",
              "size": 10,
              "solidity": 0.2
             }
            },
            "type": "histogram"
           }
          ],
          "histogram2d": [
           {
            "colorbar": {
             "outlinewidth": 0,
             "ticks": ""
            },
            "colorscale": [
             [
              0,
              "#0d0887"
             ],
             [
              0.1111111111111111,
              "#46039f"
             ],
             [
              0.2222222222222222,
              "#7201a8"
             ],
             [
              0.3333333333333333,
              "#9c179e"
             ],
             [
              0.4444444444444444,
              "#bd3786"
             ],
             [
              0.5555555555555556,
              "#d8576b"
             ],
             [
              0.6666666666666666,
              "#ed7953"
             ],
             [
              0.7777777777777778,
              "#fb9f3a"
             ],
             [
              0.8888888888888888,
              "#fdca26"
             ],
             [
              1,
              "#f0f921"
             ]
            ],
            "type": "histogram2d"
           }
          ],
          "histogram2dcontour": [
           {
            "colorbar": {
             "outlinewidth": 0,
             "ticks": ""
            },
            "colorscale": [
             [
              0,
              "#0d0887"
             ],
             [
              0.1111111111111111,
              "#46039f"
             ],
             [
              0.2222222222222222,
              "#7201a8"
             ],
             [
              0.3333333333333333,
              "#9c179e"
             ],
             [
              0.4444444444444444,
              "#bd3786"
             ],
             [
              0.5555555555555556,
              "#d8576b"
             ],
             [
              0.6666666666666666,
              "#ed7953"
             ],
             [
              0.7777777777777778,
              "#fb9f3a"
             ],
             [
              0.8888888888888888,
              "#fdca26"
             ],
             [
              1,
              "#f0f921"
             ]
            ],
            "type": "histogram2dcontour"
           }
          ],
          "mesh3d": [
           {
            "colorbar": {
             "outlinewidth": 0,
             "ticks": ""
            },
            "type": "mesh3d"
           }
          ],
          "parcoords": [
           {
            "line": {
             "colorbar": {
              "outlinewidth": 0,
              "ticks": ""
             }
            },
            "type": "parcoords"
           }
          ],
          "pie": [
           {
            "automargin": true,
            "type": "pie"
           }
          ],
          "scatter": [
           {
            "fillpattern": {
             "fillmode": "overlay",
             "size": 10,
             "solidity": 0.2
            },
            "type": "scatter"
           }
          ],
          "scatter3d": [
           {
            "line": {
             "colorbar": {
              "outlinewidth": 0,
              "ticks": ""
             }
            },
            "marker": {
             "colorbar": {
              "outlinewidth": 0,
              "ticks": ""
             }
            },
            "type": "scatter3d"
           }
          ],
          "scattercarpet": [
           {
            "marker": {
             "colorbar": {
              "outlinewidth": 0,
              "ticks": ""
             }
            },
            "type": "scattercarpet"
           }
          ],
          "scattergeo": [
           {
            "marker": {
             "colorbar": {
              "outlinewidth": 0,
              "ticks": ""
             }
            },
            "type": "scattergeo"
           }
          ],
          "scattergl": [
           {
            "marker": {
             "colorbar": {
              "outlinewidth": 0,
              "ticks": ""
             }
            },
            "type": "scattergl"
           }
          ],
          "scattermap": [
           {
            "marker": {
             "colorbar": {
              "outlinewidth": 0,
              "ticks": ""
             }
            },
            "type": "scattermap"
           }
          ],
          "scattermapbox": [
           {
            "marker": {
             "colorbar": {
              "outlinewidth": 0,
              "ticks": ""
             }
            },
            "type": "scattermapbox"
           }
          ],
          "scatterpolar": [
           {
            "marker": {
             "colorbar": {
              "outlinewidth": 0,
              "ticks": ""
             }
            },
            "type": "scatterpolar"
           }
          ],
          "scatterpolargl": [
           {
            "marker": {
             "colorbar": {
              "outlinewidth": 0,
              "ticks": ""
             }
            },
            "type": "scatterpolargl"
           }
          ],
          "scatterternary": [
           {
            "marker": {
             "colorbar": {
              "outlinewidth": 0,
              "ticks": ""
             }
            },
            "type": "scatterternary"
           }
          ],
          "surface": [
           {
            "colorbar": {
             "outlinewidth": 0,
             "ticks": ""
            },
            "colorscale": [
             [
              0,
              "#0d0887"
             ],
             [
              0.1111111111111111,
              "#46039f"
             ],
             [
              0.2222222222222222,
              "#7201a8"
             ],
             [
              0.3333333333333333,
              "#9c179e"
             ],
             [
              0.4444444444444444,
              "#bd3786"
             ],
             [
              0.5555555555555556,
              "#d8576b"
             ],
             [
              0.6666666666666666,
              "#ed7953"
             ],
             [
              0.7777777777777778,
              "#fb9f3a"
             ],
             [
              0.8888888888888888,
              "#fdca26"
             ],
             [
              1,
              "#f0f921"
             ]
            ],
            "type": "surface"
           }
          ],
          "table": [
           {
            "cells": {
             "fill": {
              "color": "#EBF0F8"
             },
             "line": {
              "color": "white"
             }
            },
            "header": {
             "fill": {
              "color": "#C8D4E3"
             },
             "line": {
              "color": "white"
             }
            },
            "type": "table"
           }
          ]
         },
         "layout": {
          "annotationdefaults": {
           "arrowcolor": "#2a3f5f",
           "arrowhead": 0,
           "arrowwidth": 1
          },
          "autotypenumbers": "strict",
          "coloraxis": {
           "colorbar": {
            "outlinewidth": 0,
            "ticks": ""
           }
          },
          "colorscale": {
           "diverging": [
            [
             0,
             "#8e0152"
            ],
            [
             0.1,
             "#c51b7d"
            ],
            [
             0.2,
             "#de77ae"
            ],
            [
             0.3,
             "#f1b6da"
            ],
            [
             0.4,
             "#fde0ef"
            ],
            [
             0.5,
             "#f7f7f7"
            ],
            [
             0.6,
             "#e6f5d0"
            ],
            [
             0.7,
             "#b8e186"
            ],
            [
             0.8,
             "#7fbc41"
            ],
            [
             0.9,
             "#4d9221"
            ],
            [
             1,
             "#276419"
            ]
           ],
           "sequential": [
            [
             0,
             "#0d0887"
            ],
            [
             0.1111111111111111,
             "#46039f"
            ],
            [
             0.2222222222222222,
             "#7201a8"
            ],
            [
             0.3333333333333333,
             "#9c179e"
            ],
            [
             0.4444444444444444,
             "#bd3786"
            ],
            [
             0.5555555555555556,
             "#d8576b"
            ],
            [
             0.6666666666666666,
             "#ed7953"
            ],
            [
             0.7777777777777778,
             "#fb9f3a"
            ],
            [
             0.8888888888888888,
             "#fdca26"
            ],
            [
             1,
             "#f0f921"
            ]
           ],
           "sequentialminus": [
            [
             0,
             "#0d0887"
            ],
            [
             0.1111111111111111,
             "#46039f"
            ],
            [
             0.2222222222222222,
             "#7201a8"
            ],
            [
             0.3333333333333333,
             "#9c179e"
            ],
            [
             0.4444444444444444,
             "#bd3786"
            ],
            [
             0.5555555555555556,
             "#d8576b"
            ],
            [
             0.6666666666666666,
             "#ed7953"
            ],
            [
             0.7777777777777778,
             "#fb9f3a"
            ],
            [
             0.8888888888888888,
             "#fdca26"
            ],
            [
             1,
             "#f0f921"
            ]
           ]
          },
          "colorway": [
           "#636efa",
           "#EF553B",
           "#00cc96",
           "#ab63fa",
           "#FFA15A",
           "#19d3f3",
           "#FF6692",
           "#B6E880",
           "#FF97FF",
           "#FECB52"
          ],
          "font": {
           "color": "#2a3f5f"
          },
          "geo": {
           "bgcolor": "white",
           "lakecolor": "white",
           "landcolor": "#E5ECF6",
           "showlakes": true,
           "showland": true,
           "subunitcolor": "white"
          },
          "hoverlabel": {
           "align": "left"
          },
          "hovermode": "closest",
          "mapbox": {
           "style": "light"
          },
          "paper_bgcolor": "white",
          "plot_bgcolor": "#E5ECF6",
          "polar": {
           "angularaxis": {
            "gridcolor": "white",
            "linecolor": "white",
            "ticks": ""
           },
           "bgcolor": "#E5ECF6",
           "radialaxis": {
            "gridcolor": "white",
            "linecolor": "white",
            "ticks": ""
           }
          },
          "scene": {
           "xaxis": {
            "backgroundcolor": "#E5ECF6",
            "gridcolor": "white",
            "gridwidth": 2,
            "linecolor": "white",
            "showbackground": true,
            "ticks": "",
            "zerolinecolor": "white"
           },
           "yaxis": {
            "backgroundcolor": "#E5ECF6",
            "gridcolor": "white",
            "gridwidth": 2,
            "linecolor": "white",
            "showbackground": true,
            "ticks": "",
            "zerolinecolor": "white"
           },
           "zaxis": {
            "backgroundcolor": "#E5ECF6",
            "gridcolor": "white",
            "gridwidth": 2,
            "linecolor": "white",
            "showbackground": true,
            "ticks": "",
            "zerolinecolor": "white"
           }
          },
          "shapedefaults": {
           "line": {
            "color": "#2a3f5f"
           }
          },
          "ternary": {
           "aaxis": {
            "gridcolor": "white",
            "linecolor": "white",
            "ticks": ""
           },
           "baxis": {
            "gridcolor": "white",
            "linecolor": "white",
            "ticks": ""
           },
           "bgcolor": "#E5ECF6",
           "caxis": {
            "gridcolor": "white",
            "linecolor": "white",
            "ticks": ""
           }
          },
          "title": {
           "x": 0.05
          },
          "xaxis": {
           "automargin": true,
           "gridcolor": "white",
           "linecolor": "white",
           "ticks": "",
           "title": {
            "standoff": 15
           },
           "zerolinecolor": "white",
           "zerolinewidth": 2
          },
          "yaxis": {
           "automargin": true,
           "gridcolor": "white",
           "linecolor": "white",
           "ticks": "",
           "title": {
            "standoff": 15
           },
           "zerolinecolor": "white",
           "zerolinewidth": 2
          }
         }
        },
        "width": 900,
        "xaxis": {
         "anchor": "y",
         "domain": [
          0,
          0.94
         ],
         "gridcolor": "#1f292f",
         "nticks": 5,
         "rangeslider": {
          "visible": false
         }
        },
        "yaxis": {
         "anchor": "x",
         "domain": [
          0,
          1
         ],
         "gridcolor": "#1f292f"
        },
        "yaxis2": {
         "anchor": "x",
         "gridcolor": "#1f292f",
         "overlaying": "y",
         "side": "right"
        }
       }
      }
     },
     "metadata": {},
     "output_type": "display_data"
    }
   ],
   "source": [
    "cp = CandlePlot(df_gains, candles=False)\n",
    "cp.show_plot(line_traces=['GAIN_C'])"
   ]
  },
  {
   "cell_type": "code",
   "execution_count": 29,
   "id": "8b8a946d",
   "metadata": {
    "scrolled": false
   },
   "outputs": [],
   "source": [
    "for curr in df_MA_10_MA_20[df_MA_10_MA_20.total_gain > 0].pair.unique():\n",
    "    temp_gains = df_ma_trades_h1[(df_ma_trades_h1.cross==cross)&\n",
    "                           (df_ma_trades_h1.pair==curr)].copy()\n",
    "    print(curr, int(temp_gains.GAIN.sum()))\n",
    "    cp = CandlePlot(temp_gains, candles=False)\n",
    "    cp.show_plot(line_traces=['GAIN_C'])"
   ]
  },
  {
   "cell_type": "code",
   "execution_count": null,
   "id": "66a3e9f5",
   "metadata": {},
   "outputs": [],
   "source": []
  },
  {
   "cell_type": "code",
   "execution_count": null,
   "id": "ff0cbebf",
   "metadata": {},
   "outputs": [],
   "source": []
  },
  {
   "cell_type": "code",
   "execution_count": null,
   "id": "9f1d88b0",
   "metadata": {},
   "outputs": [],
   "source": []
  },
  {
   "cell_type": "code",
   "execution_count": null,
   "id": "ba14553c",
   "metadata": {},
   "outputs": [],
   "source": []
  },
  {
   "cell_type": "code",
   "execution_count": null,
   "id": "e2024e59",
   "metadata": {},
   "outputs": [],
   "source": []
  },
  {
   "cell_type": "code",
   "execution_count": null,
   "id": "ec3d41bc",
   "metadata": {},
   "outputs": [],
   "source": []
  },
  {
   "cell_type": "code",
   "execution_count": null,
   "id": "5fb7ba3f",
   "metadata": {},
   "outputs": [],
   "source": []
  },
  {
   "cell_type": "code",
   "execution_count": null,
   "id": "edc61e16",
   "metadata": {},
   "outputs": [],
   "source": []
  }
 ],
 "metadata": {
  "kernelspec": {
   "display_name": "venv",
   "language": "python",
   "name": "python3"
  },
  "language_info": {
   "codemirror_mode": {
    "name": "ipython",
    "version": 3
   },
   "file_extension": ".py",
   "mimetype": "text/x-python",
   "name": "python",
   "nbconvert_exporter": "python",
   "pygments_lexer": "ipython3",
   "version": "3.12.3"
  }
 },
 "nbformat": 4,
 "nbformat_minor": 5
}
