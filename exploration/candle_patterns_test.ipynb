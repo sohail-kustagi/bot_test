{
 "cells": [
  {
   "cell_type": "code",
   "execution_count": 1,
   "id": "c57a360f",
   "metadata": {},
   "outputs": [],
   "source": [
    "import sys\n",
    "sys.path.append(\"../\")\n",
    "from plotting import CandlePlot\n",
    "import pandas as pd"
   ]
  },
  {
   "cell_type": "code",
   "execution_count": 2,
   "id": "41024369",
   "metadata": {},
   "outputs": [],
   "source": [
    "from technicals.test import apply_patterns"
   ]
  },
  {
   "cell_type": "code",
   "execution_count": 3,
   "id": "8c9f7457",
   "metadata": {},
   "outputs": [],
   "source": [
    "df = pd.read_pickle(\"../data/XAUUSD_H1.pkl\")"
   ]
  },
  {
   "cell_type": "code",
   "execution_count": 4,
   "id": "b7c9f42d",
   "metadata": {},
   "outputs": [],
   "source": [
    "df_an = df[['time', 'mid_o', 'mid_h', 'mid_l', 'mid_c']].copy()"
   ]
  },
  {
   "cell_type": "code",
   "execution_count": 5,
   "id": "9a60edd2",
   "metadata": {},
   "outputs": [
    {
     "data": {
      "text/html": [
       "<div>\n",
       "<style scoped>\n",
       "    .dataframe tbody tr th:only-of-type {\n",
       "        vertical-align: middle;\n",
       "    }\n",
       "\n",
       "    .dataframe tbody tr th {\n",
       "        vertical-align: top;\n",
       "    }\n",
       "\n",
       "    .dataframe thead th {\n",
       "        text-align: right;\n",
       "    }\n",
       "</style>\n",
       "<table border=\"1\" class=\"dataframe\">\n",
       "  <thead>\n",
       "    <tr style=\"text-align: right;\">\n",
       "      <th></th>\n",
       "      <th>time</th>\n",
       "      <th>mid_o</th>\n",
       "      <th>mid_h</th>\n",
       "      <th>mid_l</th>\n",
       "      <th>mid_c</th>\n",
       "    </tr>\n",
       "  </thead>\n",
       "  <tbody>\n",
       "    <tr>\n",
       "      <th>31258</th>\n",
       "      <td>2025-03-13 11:00:00</td>\n",
       "      <td>2944.150</td>\n",
       "      <td>2948.690</td>\n",
       "      <td>2944.150</td>\n",
       "      <td>2946.370</td>\n",
       "    </tr>\n",
       "    <tr>\n",
       "      <th>31259</th>\n",
       "      <td>2025-03-13 12:00:00</td>\n",
       "      <td>2946.365</td>\n",
       "      <td>2949.295</td>\n",
       "      <td>2941.090</td>\n",
       "      <td>2942.475</td>\n",
       "    </tr>\n",
       "    <tr>\n",
       "      <th>31260</th>\n",
       "      <td>2025-03-13 13:00:00</td>\n",
       "      <td>2942.460</td>\n",
       "      <td>2952.495</td>\n",
       "      <td>2939.150</td>\n",
       "      <td>2950.470</td>\n",
       "    </tr>\n",
       "    <tr>\n",
       "      <th>31261</th>\n",
       "      <td>2025-03-13 14:00:00</td>\n",
       "      <td>2950.485</td>\n",
       "      <td>2971.220</td>\n",
       "      <td>2949.935</td>\n",
       "      <td>2970.015</td>\n",
       "    </tr>\n",
       "    <tr>\n",
       "      <th>31262</th>\n",
       "      <td>2025-03-13 15:00:00</td>\n",
       "      <td>2970.020</td>\n",
       "      <td>2978.425</td>\n",
       "      <td>2966.485</td>\n",
       "      <td>2977.900</td>\n",
       "    </tr>\n",
       "  </tbody>\n",
       "</table>\n",
       "</div>"
      ],
      "text/plain": [
       "                     time     mid_o     mid_h     mid_l     mid_c\n",
       "31258 2025-03-13 11:00:00  2944.150  2948.690  2944.150  2946.370\n",
       "31259 2025-03-13 12:00:00  2946.365  2949.295  2941.090  2942.475\n",
       "31260 2025-03-13 13:00:00  2942.460  2952.495  2939.150  2950.470\n",
       "31261 2025-03-13 14:00:00  2950.485  2971.220  2949.935  2970.015\n",
       "31262 2025-03-13 15:00:00  2970.020  2978.425  2966.485  2977.900"
      ]
     },
     "execution_count": 5,
     "metadata": {},
     "output_type": "execute_result"
    }
   ],
   "source": [
    "df_an.tail()"
   ]
  },
  {
   "cell_type": "code",
   "execution_count": 6,
   "id": "3a57a72b",
   "metadata": {},
   "outputs": [],
   "source": [
    "df_an = apply_patterns(df_an)"
   ]
  },
  {
   "cell_type": "code",
   "execution_count": 7,
   "id": "06fc50f0",
   "metadata": {},
   "outputs": [
    {
     "data": {
      "text/html": [
       "<div>\n",
       "<style scoped>\n",
       "    .dataframe tbody tr th:only-of-type {\n",
       "        vertical-align: middle;\n",
       "    }\n",
       "\n",
       "    .dataframe tbody tr th {\n",
       "        vertical-align: top;\n",
       "    }\n",
       "\n",
       "    .dataframe thead th {\n",
       "        text-align: right;\n",
       "    }\n",
       "</style>\n",
       "<table border=\"1\" class=\"dataframe\">\n",
       "  <thead>\n",
       "    <tr style=\"text-align: right;\">\n",
       "      <th></th>\n",
       "      <th>time</th>\n",
       "      <th>mid_o</th>\n",
       "      <th>mid_h</th>\n",
       "      <th>mid_l</th>\n",
       "      <th>mid_c</th>\n",
       "      <th>direction</th>\n",
       "      <th>body_size</th>\n",
       "      <th>full_range</th>\n",
       "      <th>body_perc</th>\n",
       "      <th>body_lower</th>\n",
       "      <th>...</th>\n",
       "      <th>SPINNING_TOP</th>\n",
       "      <th>MARUBOZU</th>\n",
       "      <th>ENGULFING</th>\n",
       "      <th>TWEEZER_TOP</th>\n",
       "      <th>TWEEZER_BOTTOM</th>\n",
       "      <th>MORNING_STAR</th>\n",
       "      <th>EVENING_STAR</th>\n",
       "      <th>PIERCING_LINE</th>\n",
       "      <th>PIN_BAR</th>\n",
       "      <th>THREE_WHITE_SOLDIERS</th>\n",
       "    </tr>\n",
       "  </thead>\n",
       "  <tbody>\n",
       "    <tr>\n",
       "      <th>31258</th>\n",
       "      <td>2025-03-13 11:00:00</td>\n",
       "      <td>2944.150</td>\n",
       "      <td>2948.690</td>\n",
       "      <td>2944.150</td>\n",
       "      <td>2946.370</td>\n",
       "      <td>1</td>\n",
       "      <td>2.22</td>\n",
       "      <td>4.540</td>\n",
       "      <td>48.898678</td>\n",
       "      <td>2944.150</td>\n",
       "      <td>...</td>\n",
       "      <td>False</td>\n",
       "      <td>False</td>\n",
       "      <td>False</td>\n",
       "      <td>False</td>\n",
       "      <td>False</td>\n",
       "      <td>False</td>\n",
       "      <td>False</td>\n",
       "      <td>False</td>\n",
       "      <td>False</td>\n",
       "      <td>False</td>\n",
       "    </tr>\n",
       "    <tr>\n",
       "      <th>31259</th>\n",
       "      <td>2025-03-13 12:00:00</td>\n",
       "      <td>2946.365</td>\n",
       "      <td>2949.295</td>\n",
       "      <td>2941.090</td>\n",
       "      <td>2942.475</td>\n",
       "      <td>-1</td>\n",
       "      <td>3.89</td>\n",
       "      <td>8.205</td>\n",
       "      <td>47.410116</td>\n",
       "      <td>2942.475</td>\n",
       "      <td>...</td>\n",
       "      <td>False</td>\n",
       "      <td>False</td>\n",
       "      <td>True</td>\n",
       "      <td>False</td>\n",
       "      <td>False</td>\n",
       "      <td>False</td>\n",
       "      <td>False</td>\n",
       "      <td>False</td>\n",
       "      <td>False</td>\n",
       "      <td>False</td>\n",
       "    </tr>\n",
       "    <tr>\n",
       "      <th>31260</th>\n",
       "      <td>2025-03-13 13:00:00</td>\n",
       "      <td>2942.460</td>\n",
       "      <td>2952.495</td>\n",
       "      <td>2939.150</td>\n",
       "      <td>2950.470</td>\n",
       "      <td>1</td>\n",
       "      <td>8.01</td>\n",
       "      <td>13.345</td>\n",
       "      <td>60.022480</td>\n",
       "      <td>2942.460</td>\n",
       "      <td>...</td>\n",
       "      <td>False</td>\n",
       "      <td>False</td>\n",
       "      <td>True</td>\n",
       "      <td>False</td>\n",
       "      <td>False</td>\n",
       "      <td>False</td>\n",
       "      <td>False</td>\n",
       "      <td>True</td>\n",
       "      <td>False</td>\n",
       "      <td>False</td>\n",
       "    </tr>\n",
       "    <tr>\n",
       "      <th>31261</th>\n",
       "      <td>2025-03-13 14:00:00</td>\n",
       "      <td>2950.485</td>\n",
       "      <td>2971.220</td>\n",
       "      <td>2949.935</td>\n",
       "      <td>2970.015</td>\n",
       "      <td>1</td>\n",
       "      <td>19.53</td>\n",
       "      <td>21.285</td>\n",
       "      <td>91.754757</td>\n",
       "      <td>2950.485</td>\n",
       "      <td>...</td>\n",
       "      <td>False</td>\n",
       "      <td>False</td>\n",
       "      <td>False</td>\n",
       "      <td>False</td>\n",
       "      <td>False</td>\n",
       "      <td>False</td>\n",
       "      <td>False</td>\n",
       "      <td>False</td>\n",
       "      <td>False</td>\n",
       "      <td>False</td>\n",
       "    </tr>\n",
       "    <tr>\n",
       "      <th>31262</th>\n",
       "      <td>2025-03-13 15:00:00</td>\n",
       "      <td>2970.020</td>\n",
       "      <td>2978.425</td>\n",
       "      <td>2966.485</td>\n",
       "      <td>2977.900</td>\n",
       "      <td>1</td>\n",
       "      <td>7.88</td>\n",
       "      <td>11.940</td>\n",
       "      <td>65.996650</td>\n",
       "      <td>2970.020</td>\n",
       "      <td>...</td>\n",
       "      <td>False</td>\n",
       "      <td>False</td>\n",
       "      <td>False</td>\n",
       "      <td>False</td>\n",
       "      <td>False</td>\n",
       "      <td>False</td>\n",
       "      <td>False</td>\n",
       "      <td>False</td>\n",
       "      <td>False</td>\n",
       "      <td>True</td>\n",
       "    </tr>\n",
       "  </tbody>\n",
       "</table>\n",
       "<p>5 rows × 39 columns</p>\n",
       "</div>"
      ],
      "text/plain": [
       "                     time     mid_o     mid_h     mid_l     mid_c  direction  \\\n",
       "31258 2025-03-13 11:00:00  2944.150  2948.690  2944.150  2946.370          1   \n",
       "31259 2025-03-13 12:00:00  2946.365  2949.295  2941.090  2942.475         -1   \n",
       "31260 2025-03-13 13:00:00  2942.460  2952.495  2939.150  2950.470          1   \n",
       "31261 2025-03-13 14:00:00  2950.485  2971.220  2949.935  2970.015          1   \n",
       "31262 2025-03-13 15:00:00  2970.020  2978.425  2966.485  2977.900          1   \n",
       "\n",
       "       body_size  full_range  body_perc  body_lower  ...  SPINNING_TOP  \\\n",
       "31258       2.22       4.540  48.898678    2944.150  ...         False   \n",
       "31259       3.89       8.205  47.410116    2942.475  ...         False   \n",
       "31260       8.01      13.345  60.022480    2942.460  ...         False   \n",
       "31261      19.53      21.285  91.754757    2950.485  ...         False   \n",
       "31262       7.88      11.940  65.996650    2970.020  ...         False   \n",
       "\n",
       "       MARUBOZU  ENGULFING  TWEEZER_TOP  TWEEZER_BOTTOM  MORNING_STAR  \\\n",
       "31258     False      False        False           False         False   \n",
       "31259     False       True        False           False         False   \n",
       "31260     False       True        False           False         False   \n",
       "31261     False      False        False           False         False   \n",
       "31262     False      False        False           False         False   \n",
       "\n",
       "       EVENING_STAR  PIERCING_LINE  PIN_BAR  THREE_WHITE_SOLDIERS  \n",
       "31258         False          False    False                 False  \n",
       "31259         False          False    False                 False  \n",
       "31260         False           True    False                 False  \n",
       "31261         False          False    False                 False  \n",
       "31262         False          False    False                  True  \n",
       "\n",
       "[5 rows x 39 columns]"
      ]
     },
     "execution_count": 7,
     "metadata": {},
     "output_type": "execute_result"
    }
   ],
   "source": [
    "df_an.tail()"
   ]
  },
  {
   "cell_type": "code",
   "execution_count": 8,
   "id": "29d539d6",
   "metadata": {},
   "outputs": [],
   "source": [
    "import plotly.graph_objects as go"
   ]
  },
  {
   "cell_type": "code",
   "execution_count": 9,
   "id": "fc7b9b79",
   "metadata": {},
   "outputs": [
    {
     "data": {
      "text/html": [
       "<div>\n",
       "<style scoped>\n",
       "    .dataframe tbody tr th:only-of-type {\n",
       "        vertical-align: middle;\n",
       "    }\n",
       "\n",
       "    .dataframe tbody tr th {\n",
       "        vertical-align: top;\n",
       "    }\n",
       "\n",
       "    .dataframe thead th {\n",
       "        text-align: right;\n",
       "    }\n",
       "</style>\n",
       "<table border=\"1\" class=\"dataframe\">\n",
       "  <thead>\n",
       "    <tr style=\"text-align: right;\">\n",
       "      <th></th>\n",
       "      <th>time</th>\n",
       "      <th>mid_o</th>\n",
       "      <th>mid_h</th>\n",
       "      <th>mid_l</th>\n",
       "      <th>mid_c</th>\n",
       "      <th>direction</th>\n",
       "      <th>body_size</th>\n",
       "      <th>full_range</th>\n",
       "      <th>body_perc</th>\n",
       "      <th>body_lower</th>\n",
       "      <th>...</th>\n",
       "      <th>SPINNING_TOP</th>\n",
       "      <th>MARUBOZU</th>\n",
       "      <th>ENGULFING</th>\n",
       "      <th>TWEEZER_TOP</th>\n",
       "      <th>TWEEZER_BOTTOM</th>\n",
       "      <th>MORNING_STAR</th>\n",
       "      <th>EVENING_STAR</th>\n",
       "      <th>PIERCING_LINE</th>\n",
       "      <th>PIN_BAR</th>\n",
       "      <th>THREE_WHITE_SOLDIERS</th>\n",
       "    </tr>\n",
       "  </thead>\n",
       "  <tbody>\n",
       "    <tr>\n",
       "      <th>0</th>\n",
       "      <td>2020-01-01 23:00:00</td>\n",
       "      <td>1517.570</td>\n",
       "      <td>1521.300</td>\n",
       "      <td>1517.315</td>\n",
       "      <td>1518.460</td>\n",
       "      <td>1</td>\n",
       "      <td>0.890</td>\n",
       "      <td>3.985</td>\n",
       "      <td>22.333752</td>\n",
       "      <td>1517.570</td>\n",
       "      <td>...</td>\n",
       "      <td>False</td>\n",
       "      <td>False</td>\n",
       "      <td>False</td>\n",
       "      <td>False</td>\n",
       "      <td>False</td>\n",
       "      <td>False</td>\n",
       "      <td>False</td>\n",
       "      <td>False</td>\n",
       "      <td>True</td>\n",
       "      <td>False</td>\n",
       "    </tr>\n",
       "    <tr>\n",
       "      <th>30</th>\n",
       "      <td>2020-01-03 06:00:00</td>\n",
       "      <td>1541.500</td>\n",
       "      <td>1542.680</td>\n",
       "      <td>1541.105</td>\n",
       "      <td>1541.280</td>\n",
       "      <td>-1</td>\n",
       "      <td>0.220</td>\n",
       "      <td>1.575</td>\n",
       "      <td>13.968254</td>\n",
       "      <td>1541.280</td>\n",
       "      <td>...</td>\n",
       "      <td>False</td>\n",
       "      <td>False</td>\n",
       "      <td>False</td>\n",
       "      <td>False</td>\n",
       "      <td>False</td>\n",
       "      <td>False</td>\n",
       "      <td>False</td>\n",
       "      <td>False</td>\n",
       "      <td>True</td>\n",
       "      <td>False</td>\n",
       "    </tr>\n",
       "    <tr>\n",
       "      <th>35</th>\n",
       "      <td>2020-01-03 11:00:00</td>\n",
       "      <td>1548.605</td>\n",
       "      <td>1551.610</td>\n",
       "      <td>1547.990</td>\n",
       "      <td>1549.465</td>\n",
       "      <td>1</td>\n",
       "      <td>0.860</td>\n",
       "      <td>3.620</td>\n",
       "      <td>23.756906</td>\n",
       "      <td>1548.605</td>\n",
       "      <td>...</td>\n",
       "      <td>False</td>\n",
       "      <td>False</td>\n",
       "      <td>False</td>\n",
       "      <td>False</td>\n",
       "      <td>False</td>\n",
       "      <td>False</td>\n",
       "      <td>False</td>\n",
       "      <td>False</td>\n",
       "      <td>True</td>\n",
       "      <td>True</td>\n",
       "    </tr>\n",
       "    <tr>\n",
       "      <th>41</th>\n",
       "      <td>2020-01-03 17:00:00</td>\n",
       "      <td>1548.315</td>\n",
       "      <td>1548.915</td>\n",
       "      <td>1547.035</td>\n",
       "      <td>1548.765</td>\n",
       "      <td>1</td>\n",
       "      <td>0.450</td>\n",
       "      <td>1.880</td>\n",
       "      <td>23.936170</td>\n",
       "      <td>1548.315</td>\n",
       "      <td>...</td>\n",
       "      <td>False</td>\n",
       "      <td>False</td>\n",
       "      <td>False</td>\n",
       "      <td>False</td>\n",
       "      <td>False</td>\n",
       "      <td>False</td>\n",
       "      <td>False</td>\n",
       "      <td>False</td>\n",
       "      <td>True</td>\n",
       "      <td>False</td>\n",
       "    </tr>\n",
       "    <tr>\n",
       "      <th>42</th>\n",
       "      <td>2020-01-03 18:00:00</td>\n",
       "      <td>1548.760</td>\n",
       "      <td>1553.575</td>\n",
       "      <td>1548.375</td>\n",
       "      <td>1549.635</td>\n",
       "      <td>1</td>\n",
       "      <td>0.875</td>\n",
       "      <td>5.200</td>\n",
       "      <td>16.826923</td>\n",
       "      <td>1548.760</td>\n",
       "      <td>...</td>\n",
       "      <td>False</td>\n",
       "      <td>False</td>\n",
       "      <td>False</td>\n",
       "      <td>False</td>\n",
       "      <td>False</td>\n",
       "      <td>False</td>\n",
       "      <td>False</td>\n",
       "      <td>False</td>\n",
       "      <td>True</td>\n",
       "      <td>False</td>\n",
       "    </tr>\n",
       "    <tr>\n",
       "      <th>...</th>\n",
       "      <td>...</td>\n",
       "      <td>...</td>\n",
       "      <td>...</td>\n",
       "      <td>...</td>\n",
       "      <td>...</td>\n",
       "      <td>...</td>\n",
       "      <td>...</td>\n",
       "      <td>...</td>\n",
       "      <td>...</td>\n",
       "      <td>...</td>\n",
       "      <td>...</td>\n",
       "      <td>...</td>\n",
       "      <td>...</td>\n",
       "      <td>...</td>\n",
       "      <td>...</td>\n",
       "      <td>...</td>\n",
       "      <td>...</td>\n",
       "      <td>...</td>\n",
       "      <td>...</td>\n",
       "      <td>...</td>\n",
       "      <td>...</td>\n",
       "    </tr>\n",
       "    <tr>\n",
       "      <th>31202</th>\n",
       "      <td>2025-03-11 01:00:00</td>\n",
       "      <td>2887.575</td>\n",
       "      <td>2891.045</td>\n",
       "      <td>2880.360</td>\n",
       "      <td>2890.660</td>\n",
       "      <td>1</td>\n",
       "      <td>3.085</td>\n",
       "      <td>10.685</td>\n",
       "      <td>28.872251</td>\n",
       "      <td>2887.575</td>\n",
       "      <td>...</td>\n",
       "      <td>False</td>\n",
       "      <td>False</td>\n",
       "      <td>False</td>\n",
       "      <td>False</td>\n",
       "      <td>False</td>\n",
       "      <td>False</td>\n",
       "      <td>False</td>\n",
       "      <td>False</td>\n",
       "      <td>True</td>\n",
       "      <td>True</td>\n",
       "    </tr>\n",
       "    <tr>\n",
       "      <th>31222</th>\n",
       "      <td>2025-03-11 22:00:00</td>\n",
       "      <td>2916.755</td>\n",
       "      <td>2918.175</td>\n",
       "      <td>2914.505</td>\n",
       "      <td>2917.655</td>\n",
       "      <td>1</td>\n",
       "      <td>0.900</td>\n",
       "      <td>3.670</td>\n",
       "      <td>24.523161</td>\n",
       "      <td>2916.755</td>\n",
       "      <td>...</td>\n",
       "      <td>False</td>\n",
       "      <td>False</td>\n",
       "      <td>False</td>\n",
       "      <td>False</td>\n",
       "      <td>False</td>\n",
       "      <td>False</td>\n",
       "      <td>False</td>\n",
       "      <td>False</td>\n",
       "      <td>True</td>\n",
       "      <td>False</td>\n",
       "    </tr>\n",
       "    <tr>\n",
       "      <th>31227</th>\n",
       "      <td>2025-03-12 03:00:00</td>\n",
       "      <td>2916.385</td>\n",
       "      <td>2920.070</td>\n",
       "      <td>2914.950</td>\n",
       "      <td>2915.035</td>\n",
       "      <td>-1</td>\n",
       "      <td>1.350</td>\n",
       "      <td>5.120</td>\n",
       "      <td>26.367188</td>\n",
       "      <td>2915.035</td>\n",
       "      <td>...</td>\n",
       "      <td>False</td>\n",
       "      <td>False</td>\n",
       "      <td>False</td>\n",
       "      <td>False</td>\n",
       "      <td>False</td>\n",
       "      <td>False</td>\n",
       "      <td>False</td>\n",
       "      <td>False</td>\n",
       "      <td>True</td>\n",
       "      <td>False</td>\n",
       "    </tr>\n",
       "    <tr>\n",
       "      <th>31229</th>\n",
       "      <td>2025-03-12 05:00:00</td>\n",
       "      <td>2915.005</td>\n",
       "      <td>2916.595</td>\n",
       "      <td>2912.220</td>\n",
       "      <td>2916.115</td>\n",
       "      <td>1</td>\n",
       "      <td>1.110</td>\n",
       "      <td>4.375</td>\n",
       "      <td>25.371429</td>\n",
       "      <td>2915.005</td>\n",
       "      <td>...</td>\n",
       "      <td>False</td>\n",
       "      <td>False</td>\n",
       "      <td>True</td>\n",
       "      <td>False</td>\n",
       "      <td>False</td>\n",
       "      <td>False</td>\n",
       "      <td>False</td>\n",
       "      <td>False</td>\n",
       "      <td>True</td>\n",
       "      <td>False</td>\n",
       "    </tr>\n",
       "    <tr>\n",
       "      <th>31237</th>\n",
       "      <td>2025-03-12 13:00:00</td>\n",
       "      <td>2917.565</td>\n",
       "      <td>2918.765</td>\n",
       "      <td>2906.225</td>\n",
       "      <td>2915.745</td>\n",
       "      <td>-1</td>\n",
       "      <td>1.820</td>\n",
       "      <td>12.540</td>\n",
       "      <td>14.513557</td>\n",
       "      <td>2915.745</td>\n",
       "      <td>...</td>\n",
       "      <td>False</td>\n",
       "      <td>False</td>\n",
       "      <td>False</td>\n",
       "      <td>False</td>\n",
       "      <td>False</td>\n",
       "      <td>False</td>\n",
       "      <td>False</td>\n",
       "      <td>False</td>\n",
       "      <td>True</td>\n",
       "      <td>False</td>\n",
       "    </tr>\n",
       "  </tbody>\n",
       "</table>\n",
       "<p>2932 rows × 39 columns</p>\n",
       "</div>"
      ],
      "text/plain": [
       "                     time     mid_o     mid_h     mid_l     mid_c  direction  \\\n",
       "0     2020-01-01 23:00:00  1517.570  1521.300  1517.315  1518.460          1   \n",
       "30    2020-01-03 06:00:00  1541.500  1542.680  1541.105  1541.280         -1   \n",
       "35    2020-01-03 11:00:00  1548.605  1551.610  1547.990  1549.465          1   \n",
       "41    2020-01-03 17:00:00  1548.315  1548.915  1547.035  1548.765          1   \n",
       "42    2020-01-03 18:00:00  1548.760  1553.575  1548.375  1549.635          1   \n",
       "...                   ...       ...       ...       ...       ...        ...   \n",
       "31202 2025-03-11 01:00:00  2887.575  2891.045  2880.360  2890.660          1   \n",
       "31222 2025-03-11 22:00:00  2916.755  2918.175  2914.505  2917.655          1   \n",
       "31227 2025-03-12 03:00:00  2916.385  2920.070  2914.950  2915.035         -1   \n",
       "31229 2025-03-12 05:00:00  2915.005  2916.595  2912.220  2916.115          1   \n",
       "31237 2025-03-12 13:00:00  2917.565  2918.765  2906.225  2915.745         -1   \n",
       "\n",
       "       body_size  full_range  body_perc  body_lower  ...  SPINNING_TOP  \\\n",
       "0          0.890       3.985  22.333752    1517.570  ...         False   \n",
       "30         0.220       1.575  13.968254    1541.280  ...         False   \n",
       "35         0.860       3.620  23.756906    1548.605  ...         False   \n",
       "41         0.450       1.880  23.936170    1548.315  ...         False   \n",
       "42         0.875       5.200  16.826923    1548.760  ...         False   \n",
       "...          ...         ...        ...         ...  ...           ...   \n",
       "31202      3.085      10.685  28.872251    2887.575  ...         False   \n",
       "31222      0.900       3.670  24.523161    2916.755  ...         False   \n",
       "31227      1.350       5.120  26.367188    2915.035  ...         False   \n",
       "31229      1.110       4.375  25.371429    2915.005  ...         False   \n",
       "31237      1.820      12.540  14.513557    2915.745  ...         False   \n",
       "\n",
       "       MARUBOZU  ENGULFING  TWEEZER_TOP  TWEEZER_BOTTOM  MORNING_STAR  \\\n",
       "0         False      False        False           False         False   \n",
       "30        False      False        False           False         False   \n",
       "35        False      False        False           False         False   \n",
       "41        False      False        False           False         False   \n",
       "42        False      False        False           False         False   \n",
       "...         ...        ...          ...             ...           ...   \n",
       "31202     False      False        False           False         False   \n",
       "31222     False      False        False           False         False   \n",
       "31227     False      False        False           False         False   \n",
       "31229     False       True        False           False         False   \n",
       "31237     False      False        False           False         False   \n",
       "\n",
       "       EVENING_STAR  PIERCING_LINE  PIN_BAR  THREE_WHITE_SOLDIERS  \n",
       "0             False          False     True                 False  \n",
       "30            False          False     True                 False  \n",
       "35            False          False     True                  True  \n",
       "41            False          False     True                 False  \n",
       "42            False          False     True                 False  \n",
       "...             ...            ...      ...                   ...  \n",
       "31202         False          False     True                  True  \n",
       "31222         False          False     True                 False  \n",
       "31227         False          False     True                 False  \n",
       "31229         False          False     True                 False  \n",
       "31237         False          False     True                 False  \n",
       "\n",
       "[2932 rows x 39 columns]"
      ]
     },
     "execution_count": 9,
     "metadata": {},
     "output_type": "execute_result"
    }
   ],
   "source": [
    "df_an[df_an.PIN_BAR==True]"
   ]
  },
  {
   "cell_type": "code",
   "execution_count": 11,
   "id": "1423fcd9",
   "metadata": {},
   "outputs": [
    {
     "data": {
      "application/vnd.plotly.v1+json": {
       "config": {
        "plotlyServerURL": "https://plot.ly"
       },
       "data": [
        {
         "close": {
          "bdata": "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",
          "dtype": "f8"
         },
         "decreasing": {
          "fillcolor": "#CC2E3C",
          "line": {
           "color": "#FF3A4C"
          }
         },
         "high": {
          "bdata": "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",
          "dtype": "f8"
         },
         "increasing": {
          "fillcolor": "#24A06B",
          "line": {
           "color": "#2EC886"
          }
         },
         "line": {
          "width": 1
         },
         "low": {
          "bdata": "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",
          "dtype": "f8"
         },
         "opacity": 1,
         "open": {
          "bdata": "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",
          "dtype": "f8"
         },
         "type": "candlestick",
         "x": [
          "s20-02-07 06:00",
          "s20-02-07 07:00",
          "s20-02-07 08:00",
          "s20-02-07 09:00",
          "s20-02-07 10:00",
          "s20-02-07 11:00",
          "s20-02-07 12:00",
          "s20-02-07 13:00",
          "s20-02-07 14:00",
          "s20-02-07 15:00",
          "s20-02-07 16:00",
          "s20-02-07 17:00",
          "s20-02-07 18:00",
          "s20-02-07 19:00",
          "s20-02-07 20:00",
          "s20-02-07 21:00",
          "s20-02-07 22:00",
          "s20-02-07 23:00",
          "s20-02-10 01:00",
          "s20-02-10 02:00",
          "s20-02-10 03:00",
          "s20-02-10 04:00",
          "s20-02-10 05:00",
          "s20-02-10 06:00",
          "s20-02-10 07:00",
          "s20-02-10 08:00",
          "s20-02-10 09:00",
          "s20-02-10 10:00",
          "s20-02-10 11:00",
          "s20-02-10 12:00",
          "s20-02-10 13:00",
          "s20-02-10 14:00",
          "s20-02-10 15:00",
          "s20-02-10 16:00",
          "s20-02-10 17:00",
          "s20-02-10 18:00",
          "s20-02-10 19:00",
          "s20-02-10 20:00",
          "s20-02-10 21:00",
          "s20-02-10 22:00",
          "s20-02-10 23:00",
          "s20-02-11 01:00",
          "s20-02-11 02:00",
          "s20-02-11 03:00",
          "s20-02-11 04:00",
          "s20-02-11 05:00",
          "s20-02-11 06:00",
          "s20-02-11 07:00",
          "s20-02-11 08:00",
          "s20-02-11 09:00",
          "s20-02-11 10:00",
          "s20-02-11 11:00",
          "s20-02-11 12:00",
          "s20-02-11 13:00",
          "s20-02-11 14:00",
          "s20-02-11 15:00",
          "s20-02-11 16:00",
          "s20-02-11 17:00",
          "s20-02-11 18:00",
          "s20-02-11 19:00",
          "s20-02-11 20:00",
          "s20-02-11 21:00",
          "s20-02-11 22:00",
          "s20-02-11 23:00",
          "s20-02-12 01:00",
          "s20-02-12 02:00",
          "s20-02-12 03:00",
          "s20-02-12 04:00",
          "s20-02-12 05:00",
          "s20-02-12 06:00",
          "s20-02-12 07:00",
          "s20-02-12 08:00",
          "s20-02-12 09:00",
          "s20-02-12 10:00",
          "s20-02-12 11:00",
          "s20-02-12 12:00",
          "s20-02-12 13:00",
          "s20-02-12 14:00",
          "s20-02-12 15:00",
          "s20-02-12 16:00",
          "s20-02-12 17:00",
          "s20-02-12 18:00",
          "s20-02-12 19:00",
          "s20-02-12 20:00",
          "s20-02-12 21:00",
          "s20-02-12 22:00",
          "s20-02-12 23:00",
          "s20-02-13 01:00",
          "s20-02-13 02:00",
          "s20-02-13 03:00",
          "s20-02-13 04:00",
          "s20-02-13 05:00",
          "s20-02-13 06:00",
          "s20-02-13 07:00",
          "s20-02-13 08:00",
          "s20-02-13 09:00",
          "s20-02-13 10:00",
          "s20-02-13 11:00",
          "s20-02-13 12:00",
          "s20-02-13 13:00",
          "s20-02-13 14:00",
          "s20-02-13 15:00",
          "s20-02-13 16:00",
          "s20-02-13 17:00",
          "s20-02-13 18:00",
          "s20-02-13 19:00",
          "s20-02-13 20:00",
          "s20-02-13 21:00",
          "s20-02-13 22:00",
          "s20-02-13 23:00",
          "s20-02-14 01:00",
          "s20-02-14 02:00",
          "s20-02-14 03:00",
          "s20-02-14 04:00",
          "s20-02-14 05:00",
          "s20-02-14 06:00",
          "s20-02-14 07:00",
          "s20-02-14 08:00",
          "s20-02-14 09:00",
          "s20-02-14 10:00",
          "s20-02-14 11:00",
          "s20-02-14 12:00",
          "s20-02-14 13:00",
          "s20-02-14 14:00",
          "s20-02-14 15:00",
          "s20-02-14 16:00",
          "s20-02-14 17:00",
          "s20-02-14 18:00",
          "s20-02-14 19:00",
          "s20-02-14 20:00",
          "s20-02-14 21:00",
          "s20-02-14 22:00",
          "s20-02-14 23:00",
          "s20-02-17 01:00",
          "s20-02-17 02:00",
          "s20-02-17 03:00",
          "s20-02-17 04:00",
          "s20-02-17 05:00",
          "s20-02-17 06:00",
          "s20-02-17 07:00",
          "s20-02-17 08:00",
          "s20-02-17 09:00",
          "s20-02-17 10:00",
          "s20-02-17 11:00",
          "s20-02-17 12:00",
          "s20-02-17 13:00",
          "s20-02-17 14:00",
          "s20-02-17 15:00",
          "s20-02-17 16:00",
          "s20-02-17 17:00",
          "s20-02-17 18:00",
          "s20-02-17 19:00",
          "s20-02-17 20:00",
          "s20-02-18 01:00",
          "s20-02-18 02:00",
          "s20-02-18 03:00",
          "s20-02-18 04:00",
          "s20-02-18 05:00",
          "s20-02-18 06:00",
          "s20-02-18 07:00",
          "s20-02-18 08:00",
          "s20-02-18 09:00",
          "s20-02-18 10:00",
          "s20-02-18 11:00",
          "s20-02-18 12:00",
          "s20-02-18 13:00",
          "s20-02-18 14:00",
          "s20-02-18 15:00",
          "s20-02-18 16:00",
          "s20-02-18 17:00",
          "s20-02-18 18:00",
          "s20-02-18 19:00",
          "s20-02-18 20:00",
          "s20-02-18 21:00",
          "s20-02-18 22:00",
          "s20-02-18 23:00",
          "s20-02-19 01:00",
          "s20-02-19 02:00",
          "s20-02-19 03:00",
          "s20-02-19 04:00",
          "s20-02-19 05:00",
          "s20-02-19 06:00",
          "s20-02-19 07:00",
          "s20-02-19 08:00",
          "s20-02-19 09:00",
          "s20-02-19 10:00",
          "s20-02-19 11:00",
          "s20-02-19 12:00",
          "s20-02-19 13:00",
          "s20-02-19 14:00",
          "s20-02-19 15:00",
          "s20-02-19 16:00",
          "s20-02-19 17:00",
          "s20-02-19 18:00",
          "s20-02-19 19:00",
          "s20-02-19 20:00",
          "s20-02-19 21:00",
          "s20-02-19 22:00",
          "s20-02-19 23:00",
          "s20-02-20 01:00"
         ]
        },
        {
         "close": {
          "bdata": "KVyPwvWBmECkcD0K146YQIXrUbgegJhA16NwPQqCmEAAAAAAAHeYQOxRuB6FfJhApHA9Ctd6mECkcD0K15aYQDMzMzMzlphAw/UoXI+ZmEBxPQrXo5+YQOF6FK5Hv5hAmpmZmZm5mECF61G4HrWYQArXo3A9A5lAH4XrUbgKmUAzMzMzMwqZQD0K16NwDplA4XoUrkckmUCkcD0K1xyZQA==",
          "dtype": "f8"
         },
         "decreasing": {
          "fillcolor": "#0066FF",
          "line": {
           "color": "#0066FF"
          }
         },
         "high": {
          "bdata": "4XoUrkeGmEBxPQrXo56YQGZmZmZmg5hA16NwPQqImEAK16NwPX6YQClcj8L1fJhAKVyPwvV7mECkcD0K15iYQK5H4XoUnphAH4XrUbilmECkcD0K16iYQOF6FK5HwJhAPQrXo3C6mEC4HoXrUbqYQI/C9ShcB5lAKVyPwvUSmUBxPQrXowqZQI/C9ShcFplA16NwPQotmUBxPQrXox2ZQA==",
          "dtype": "f8"
         },
         "increasing": {
          "fillcolor": "#0066FF",
          "line": {
           "color": "#0066FF"
          }
         },
         "line": {
          "width": 1
         },
         "low": {
          "bdata": "XI/C9Sh8mED2KFyPwo6YQNejcD0Kd5hAUrgehet9mEBmZmZmZnaYQD0K16NwdJhA7FG4HoVvmECuR+F6FJGYQB+F61G4lJhAXI/C9SiXmEAfhetRuJqYQClcj8L1uZhApHA9Cte2mECuR+F6FLSYQB+F61G4AZlAH4XrUbgEmUCamZmZmQCZQFK4HoXrCplArkfhehQjmUBmZmZmZg6ZQA==",
          "dtype": "f8"
         },
         "opacity": 1,
         "open": {
          "bdata": "ZmZmZmaEmEDsUbgehZKYQHsUrkfhgZhAUrgehet/mEAK16NwPXmYQClcj8L1eZhA7FG4HoV3mEAK16NwPZiYQDMzMzMzmJhAmpmZmZmcmEBI4XoUrpyYQArXo3A9vphA4XoUrke6mEC4HoXrUbaYQM3MzMzMAZlAH4XrUbgGmUCamZmZmQqZQFK4HoXrC5lAXI/C9SgnmUBcj8L1KBqZQA==",
          "dtype": "f8"
         },
         "type": "candlestick",
         "x": [
          "s20-02-07 13:00",
          "s20-02-10 16:00",
          "s20-02-11 10:00",
          "s20-02-11 11:00",
          "s20-02-11 19:00",
          "s20-02-12 13:00",
          "s20-02-12 15:00",
          "s20-02-13 06:00",
          "s20-02-13 08:00",
          "s20-02-13 12:00",
          "s20-02-13 17:00",
          "s20-02-14 20:00",
          "s20-02-17 05:00",
          "s20-02-17 16:00",
          "s20-02-19 01:00",
          "s20-02-19 03:00",
          "s20-02-19 04:00",
          "s20-02-19 08:00",
          "s20-02-19 13:00",
          "s20-02-19 18:00"
         ]
        }
       ],
       "layout": {
        "font": {
         "color": "#e1e1e1",
         "size": 8
        },
        "height": 400,
        "margin": {
         "b": 10,
         "l": 10,
         "r": 10,
         "t": 10
        },
        "paper_bgcolor": "#2c303c",
        "plot_bgcolor": "#2c303c",
        "template": {
         "data": {
          "bar": [
           {
            "error_x": {
             "color": "#2a3f5f"
            },
            "error_y": {
             "color": "#2a3f5f"
            },
            "marker": {
             "line": {
              "color": "#E5ECF6",
              "width": 0.5
             },
             "pattern": {
              "fillmode": "overlay",
              "size": 10,
              "solidity": 0.2
             }
            },
            "type": "bar"
           }
          ],
          "barpolar": [
           {
            "marker": {
             "line": {
              "color": "#E5ECF6",
              "width": 0.5
             },
             "pattern": {
              "fillmode": "overlay",
              "size": 10,
              "solidity": 0.2
             }
            },
            "type": "barpolar"
           }
          ],
          "carpet": [
           {
            "aaxis": {
             "endlinecolor": "#2a3f5f",
             "gridcolor": "white",
             "linecolor": "white",
             "minorgridcolor": "white",
             "startlinecolor": "#2a3f5f"
            },
            "baxis": {
             "endlinecolor": "#2a3f5f",
             "gridcolor": "white",
             "linecolor": "white",
             "minorgridcolor": "white",
             "startlinecolor": "#2a3f5f"
            },
            "type": "carpet"
           }
          ],
          "choropleth": [
           {
            "colorbar": {
             "outlinewidth": 0,
             "ticks": ""
            },
            "type": "choropleth"
           }
          ],
          "contour": [
           {
            "colorbar": {
             "outlinewidth": 0,
             "ticks": ""
            },
            "colorscale": [
             [
              0,
              "#0d0887"
             ],
             [
              0.1111111111111111,
              "#46039f"
             ],
             [
              0.2222222222222222,
              "#7201a8"
             ],
             [
              0.3333333333333333,
              "#9c179e"
             ],
             [
              0.4444444444444444,
              "#bd3786"
             ],
             [
              0.5555555555555556,
              "#d8576b"
             ],
             [
              0.6666666666666666,
              "#ed7953"
             ],
             [
              0.7777777777777778,
              "#fb9f3a"
             ],
             [
              0.8888888888888888,
              "#fdca26"
             ],
             [
              1,
              "#f0f921"
             ]
            ],
            "type": "contour"
           }
          ],
          "contourcarpet": [
           {
            "colorbar": {
             "outlinewidth": 0,
             "ticks": ""
            },
            "type": "contourcarpet"
           }
          ],
          "heatmap": [
           {
            "colorbar": {
             "outlinewidth": 0,
             "ticks": ""
            },
            "colorscale": [
             [
              0,
              "#0d0887"
             ],
             [
              0.1111111111111111,
              "#46039f"
             ],
             [
              0.2222222222222222,
              "#7201a8"
             ],
             [
              0.3333333333333333,
              "#9c179e"
             ],
             [
              0.4444444444444444,
              "#bd3786"
             ],
             [
              0.5555555555555556,
              "#d8576b"
             ],
             [
              0.6666666666666666,
              "#ed7953"
             ],
             [
              0.7777777777777778,
              "#fb9f3a"
             ],
             [
              0.8888888888888888,
              "#fdca26"
             ],
             [
              1,
              "#f0f921"
             ]
            ],
            "type": "heatmap"
           }
          ],
          "histogram": [
           {
            "marker": {
             "pattern": {
              "fillmode": "overlay",
              "size": 10,
              "solidity": 0.2
             }
            },
            "type": "histogram"
           }
          ],
          "histogram2d": [
           {
            "colorbar": {
             "outlinewidth": 0,
             "ticks": ""
            },
            "colorscale": [
             [
              0,
              "#0d0887"
             ],
             [
              0.1111111111111111,
              "#46039f"
             ],
             [
              0.2222222222222222,
              "#7201a8"
             ],
             [
              0.3333333333333333,
              "#9c179e"
             ],
             [
              0.4444444444444444,
              "#bd3786"
             ],
             [
              0.5555555555555556,
              "#d8576b"
             ],
             [
              0.6666666666666666,
              "#ed7953"
             ],
             [
              0.7777777777777778,
              "#fb9f3a"
             ],
             [
              0.8888888888888888,
              "#fdca26"
             ],
             [
              1,
              "#f0f921"
             ]
            ],
            "type": "histogram2d"
           }
          ],
          "histogram2dcontour": [
           {
            "colorbar": {
             "outlinewidth": 0,
             "ticks": ""
            },
            "colorscale": [
             [
              0,
              "#0d0887"
             ],
             [
              0.1111111111111111,
              "#46039f"
             ],
             [
              0.2222222222222222,
              "#7201a8"
             ],
             [
              0.3333333333333333,
              "#9c179e"
             ],
             [
              0.4444444444444444,
              "#bd3786"
             ],
             [
              0.5555555555555556,
              "#d8576b"
             ],
             [
              0.6666666666666666,
              "#ed7953"
             ],
             [
              0.7777777777777778,
              "#fb9f3a"
             ],
             [
              0.8888888888888888,
              "#fdca26"
             ],
             [
              1,
              "#f0f921"
             ]
            ],
            "type": "histogram2dcontour"
           }
          ],
          "mesh3d": [
           {
            "colorbar": {
             "outlinewidth": 0,
             "ticks": ""
            },
            "type": "mesh3d"
           }
          ],
          "parcoords": [
           {
            "line": {
             "colorbar": {
              "outlinewidth": 0,
              "ticks": ""
             }
            },
            "type": "parcoords"
           }
          ],
          "pie": [
           {
            "automargin": true,
            "type": "pie"
           }
          ],
          "scatter": [
           {
            "fillpattern": {
             "fillmode": "overlay",
             "size": 10,
             "solidity": 0.2
            },
            "type": "scatter"
           }
          ],
          "scatter3d": [
           {
            "line": {
             "colorbar": {
              "outlinewidth": 0,
              "ticks": ""
             }
            },
            "marker": {
             "colorbar": {
              "outlinewidth": 0,
              "ticks": ""
             }
            },
            "type": "scatter3d"
           }
          ],
          "scattercarpet": [
           {
            "marker": {
             "colorbar": {
              "outlinewidth": 0,
              "ticks": ""
             }
            },
            "type": "scattercarpet"
           }
          ],
          "scattergeo": [
           {
            "marker": {
             "colorbar": {
              "outlinewidth": 0,
              "ticks": ""
             }
            },
            "type": "scattergeo"
           }
          ],
          "scattergl": [
           {
            "marker": {
             "colorbar": {
              "outlinewidth": 0,
              "ticks": ""
             }
            },
            "type": "scattergl"
           }
          ],
          "scattermap": [
           {
            "marker": {
             "colorbar": {
              "outlinewidth": 0,
              "ticks": ""
             }
            },
            "type": "scattermap"
           }
          ],
          "scattermapbox": [
           {
            "marker": {
             "colorbar": {
              "outlinewidth": 0,
              "ticks": ""
             }
            },
            "type": "scattermapbox"
           }
          ],
          "scatterpolar": [
           {
            "marker": {
             "colorbar": {
              "outlinewidth": 0,
              "ticks": ""
             }
            },
            "type": "scatterpolar"
           }
          ],
          "scatterpolargl": [
           {
            "marker": {
             "colorbar": {
              "outlinewidth": 0,
              "ticks": ""
             }
            },
            "type": "scatterpolargl"
           }
          ],
          "scatterternary": [
           {
            "marker": {
             "colorbar": {
              "outlinewidth": 0,
              "ticks": ""
             }
            },
            "type": "scatterternary"
           }
          ],
          "surface": [
           {
            "colorbar": {
             "outlinewidth": 0,
             "ticks": ""
            },
            "colorscale": [
             [
              0,
              "#0d0887"
             ],
             [
              0.1111111111111111,
              "#46039f"
             ],
             [
              0.2222222222222222,
              "#7201a8"
             ],
             [
              0.3333333333333333,
              "#9c179e"
             ],
             [
              0.4444444444444444,
              "#bd3786"
             ],
             [
              0.5555555555555556,
              "#d8576b"
             ],
             [
              0.6666666666666666,
              "#ed7953"
             ],
             [
              0.7777777777777778,
              "#fb9f3a"
             ],
             [
              0.8888888888888888,
              "#fdca26"
             ],
             [
              1,
              "#f0f921"
             ]
            ],
            "type": "surface"
           }
          ],
          "table": [
           {
            "cells": {
             "fill": {
              "color": "#EBF0F8"
             },
             "line": {
              "color": "white"
             }
            },
            "header": {
             "fill": {
              "color": "#C8D4E3"
             },
             "line": {
              "color": "white"
             }
            },
            "type": "table"
           }
          ]
         },
         "layout": {
          "annotationdefaults": {
           "arrowcolor": "#2a3f5f",
           "arrowhead": 0,
           "arrowwidth": 1
          },
          "autotypenumbers": "strict",
          "coloraxis": {
           "colorbar": {
            "outlinewidth": 0,
            "ticks": ""
           }
          },
          "colorscale": {
           "diverging": [
            [
             0,
             "#8e0152"
            ],
            [
             0.1,
             "#c51b7d"
            ],
            [
             0.2,
             "#de77ae"
            ],
            [
             0.3,
             "#f1b6da"
            ],
            [
             0.4,
             "#fde0ef"
            ],
            [
             0.5,
             "#f7f7f7"
            ],
            [
             0.6,
             "#e6f5d0"
            ],
            [
             0.7,
             "#b8e186"
            ],
            [
             0.8,
             "#7fbc41"
            ],
            [
             0.9,
             "#4d9221"
            ],
            [
             1,
             "#276419"
            ]
           ],
           "sequential": [
            [
             0,
             "#0d0887"
            ],
            [
             0.1111111111111111,
             "#46039f"
            ],
            [
             0.2222222222222222,
             "#7201a8"
            ],
            [
             0.3333333333333333,
             "#9c179e"
            ],
            [
             0.4444444444444444,
             "#bd3786"
            ],
            [
             0.5555555555555556,
             "#d8576b"
            ],
            [
             0.6666666666666666,
             "#ed7953"
            ],
            [
             0.7777777777777778,
             "#fb9f3a"
            ],
            [
             0.8888888888888888,
             "#fdca26"
            ],
            [
             1,
             "#f0f921"
            ]
           ],
           "sequentialminus": [
            [
             0,
             "#0d0887"
            ],
            [
             0.1111111111111111,
             "#46039f"
            ],
            [
             0.2222222222222222,
             "#7201a8"
            ],
            [
             0.3333333333333333,
             "#9c179e"
            ],
            [
             0.4444444444444444,
             "#bd3786"
            ],
            [
             0.5555555555555556,
             "#d8576b"
            ],
            [
             0.6666666666666666,
             "#ed7953"
            ],
            [
             0.7777777777777778,
             "#fb9f3a"
            ],
            [
             0.8888888888888888,
             "#fdca26"
            ],
            [
             1,
             "#f0f921"
            ]
           ]
          },
          "colorway": [
           "#636efa",
           "#EF553B",
           "#00cc96",
           "#ab63fa",
           "#FFA15A",
           "#19d3f3",
           "#FF6692",
           "#B6E880",
           "#FF97FF",
           "#FECB52"
          ],
          "font": {
           "color": "#2a3f5f"
          },
          "geo": {
           "bgcolor": "white",
           "lakecolor": "white",
           "landcolor": "#E5ECF6",
           "showlakes": true,
           "showland": true,
           "subunitcolor": "white"
          },
          "hoverlabel": {
           "align": "left"
          },
          "hovermode": "closest",
          "mapbox": {
           "style": "light"
          },
          "paper_bgcolor": "white",
          "plot_bgcolor": "#E5ECF6",
          "polar": {
           "angularaxis": {
            "gridcolor": "white",
            "linecolor": "white",
            "ticks": ""
           },
           "bgcolor": "#E5ECF6",
           "radialaxis": {
            "gridcolor": "white",
            "linecolor": "white",
            "ticks": ""
           }
          },
          "scene": {
           "xaxis": {
            "backgroundcolor": "#E5ECF6",
            "gridcolor": "white",
            "gridwidth": 2,
            "linecolor": "white",
            "showbackground": true,
            "ticks": "",
            "zerolinecolor": "white"
           },
           "yaxis": {
            "backgroundcolor": "#E5ECF6",
            "gridcolor": "white",
            "gridwidth": 2,
            "linecolor": "white",
            "showbackground": true,
            "ticks": "",
            "zerolinecolor": "white"
           },
           "zaxis": {
            "backgroundcolor": "#E5ECF6",
            "gridcolor": "white",
            "gridwidth": 2,
            "linecolor": "white",
            "showbackground": true,
            "ticks": "",
            "zerolinecolor": "white"
           }
          },
          "shapedefaults": {
           "line": {
            "color": "#2a3f5f"
           }
          },
          "ternary": {
           "aaxis": {
            "gridcolor": "white",
            "linecolor": "white",
            "ticks": ""
           },
           "baxis": {
            "gridcolor": "white",
            "linecolor": "white",
            "ticks": ""
           },
           "bgcolor": "#E5ECF6",
           "caxis": {
            "gridcolor": "white",
            "linecolor": "white",
            "ticks": ""
           }
          },
          "title": {
           "x": 0.05
          },
          "xaxis": {
           "automargin": true,
           "gridcolor": "white",
           "linecolor": "white",
           "ticks": "",
           "title": {
            "standoff": 15
           },
           "zerolinecolor": "white",
           "zerolinewidth": 2
          },
          "yaxis": {
           "automargin": true,
           "gridcolor": "white",
           "linecolor": "white",
           "ticks": "",
           "title": {
            "standoff": 15
           },
           "zerolinecolor": "white",
           "zerolinewidth": 2
          }
         }
        },
        "width": 900,
        "xaxis": {
         "anchor": "y",
         "domain": [
          0,
          0.94
         ],
         "gridcolor": "#1f292f",
         "nticks": 5,
         "rangeslider": {
          "visible": false
         }
        },
        "yaxis": {
         "anchor": "x",
         "domain": [
          0,
          1
         ],
         "gridcolor": "#1f292f"
        },
        "yaxis2": {
         "anchor": "x",
         "gridcolor": "#1f292f",
         "overlaying": "y",
         "side": "right"
        }
       }
      }
     },
     "metadata": {},
     "output_type": "display_data"
    }
   ],
   "source": [
    "MARKER = '#0066FF'\n",
    "dfp = df_an.iloc[600:800]\n",
    "cp = CandlePlot(dfp, candles=True)\n",
    "df_temp = cp.df_plot[cp.df_plot.PIN_BAR==True]\n",
    "cp.fig.add_trace(go.Candlestick(\n",
    "                x=df_temp.sTime,\n",
    "                open=df_temp.mid_o,\n",
    "                high=df_temp.mid_h,\n",
    "                low=df_temp.mid_l,\n",
    "                close=df_temp.mid_c,\n",
    "                line=dict(width=1), opacity=1,\n",
    "                increasing_fillcolor=MARKER,\n",
    "                decreasing_fillcolor=MARKER,\n",
    "                increasing_line_color=MARKER,  \n",
    "                decreasing_line_color=MARKER\n",
    "            ))\n",
    "\n",
    "cp.show_plot()"
   ]
  },
  {
   "cell_type": "code",
   "execution_count": null,
   "id": "9d13cc26",
   "metadata": {},
   "outputs": [],
   "source": []
  },
  {
   "cell_type": "code",
   "execution_count": null,
   "id": "4fad38b1",
   "metadata": {},
   "outputs": [],
   "source": []
  },
  {
   "cell_type": "code",
   "execution_count": null,
   "id": "910128bf",
   "metadata": {},
   "outputs": [],
   "source": []
  },
  {
   "cell_type": "code",
   "execution_count": null,
   "id": "4ffaa886",
   "metadata": {},
   "outputs": [],
   "source": []
  },
  {
   "cell_type": "code",
   "execution_count": null,
   "id": "87a51219",
   "metadata": {},
   "outputs": [],
   "source": []
  }
 ],
 "metadata": {
  "kernelspec": {
   "display_name": "venv",
   "language": "python",
   "name": "python3"
  },
  "language_info": {
   "codemirror_mode": {
    "name": "ipython",
    "version": 3
   },
   "file_extension": ".py",
   "mimetype": "text/x-python",
   "name": "python",
   "nbconvert_exporter": "python",
   "pygments_lexer": "ipython3",
   "version": "3.12.3"
  }
 },
 "nbformat": 4,
 "nbformat_minor": 5
}
