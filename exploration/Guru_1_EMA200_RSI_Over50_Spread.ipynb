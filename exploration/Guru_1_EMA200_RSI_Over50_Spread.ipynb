{
 "cells": [
  {
   "cell_type": "code",
   "execution_count": 44,
   "id": "d45bb3a8",
   "metadata": {},
   "outputs": [],
   "source": [
    "import sys\n",
    "sys.path.append(\"../\")"
   ]
  },
  {
   "cell_type": "code",
   "execution_count": 45,
   "id": "2276616b",
   "metadata": {},
   "outputs": [],
   "source": [
    "import pandas as pd\n",
    "import datetime as dt\n",
    "import plotly.graph_objects as go\n",
    "from technicals.indicatorspre import RSI\n",
    "from technicals.indicatorspre import BollingerBands\n",
    "from technicals.test import apply_patterns\n",
    "from plotting import CandlePlot"
   ]
  },
  {
   "cell_type": "code",
   "execution_count": 46,
   "id": "5979a5ce",
   "metadata": {},
   "outputs": [],
   "source": [
    "df_raw = pd.read_pickle(\"../data/XAUUSD_H1.pkl\")"
   ]
  },
  {
   "cell_type": "markdown",
   "id": "c06683e0",
   "metadata": {},
   "source": []
  },
  {
   "cell_type": "code",
   "execution_count": 47,
   "id": "e55a7c2d",
   "metadata": {},
   "outputs": [
    {
     "data": {
      "text/plain": [
       "(31263, 13)"
      ]
     },
     "execution_count": 47,
     "metadata": {},
     "output_type": "execute_result"
    }
   ],
   "source": [
    "df_raw.shape"
   ]
  },
  {
   "cell_type": "code",
   "execution_count": 48,
   "id": "9f383be9",
   "metadata": {},
   "outputs": [],
   "source": [
    "df_an = df_raw.copy()#df_raw.iloc[-6000:].copy()\n",
    "df_an.reset_index(drop=True, inplace=True)"
   ]
  },
  {
   "cell_type": "code",
   "execution_count": 49,
   "id": "0cf825ed",
   "metadata": {},
   "outputs": [
    {
     "data": {
      "text/plain": [
       "(31263, 13)"
      ]
     },
     "execution_count": 49,
     "metadata": {},
     "output_type": "execute_result"
    }
   ],
   "source": [
    "df_an.shape"
   ]
  },
  {
   "cell_type": "code",
   "execution_count": 50,
   "id": "61d8e122",
   "metadata": {},
   "outputs": [],
   "source": [
    "df_an = RSI(df_an)\n"
   ]
  },
  {
   "cell_type": "code",
   "execution_count": 51,
   "id": "30e9fcd9",
   "metadata": {},
   "outputs": [],
   "source": [
    "df_an = BollingerBands(df_an)\n"
   ]
  },
  {
   "cell_type": "code",
   "execution_count": 52,
   "id": "95780bfb",
   "metadata": {},
   "outputs": [
    {
     "data": {
      "text/html": [
       "<div>\n",
       "<style scoped>\n",
       "    .dataframe tbody tr th:only-of-type {\n",
       "        vertical-align: middle;\n",
       "    }\n",
       "\n",
       "    .dataframe tbody tr th {\n",
       "        vertical-align: top;\n",
       "    }\n",
       "\n",
       "    .dataframe thead th {\n",
       "        text-align: right;\n",
       "    }\n",
       "</style>\n",
       "<table border=\"1\" class=\"dataframe\">\n",
       "  <thead>\n",
       "    <tr style=\"text-align: right;\">\n",
       "      <th></th>\n",
       "      <th>time</th>\n",
       "      <th>bid_o</th>\n",
       "      <th>bid_h</th>\n",
       "      <th>bid_l</th>\n",
       "      <th>bid_c</th>\n",
       "      <th>ask_o</th>\n",
       "      <th>ask_h</th>\n",
       "      <th>ask_l</th>\n",
       "      <th>ask_c</th>\n",
       "      <th>mid_o</th>\n",
       "      <th>mid_h</th>\n",
       "      <th>mid_l</th>\n",
       "      <th>mid_c</th>\n",
       "      <th>RSI_14</th>\n",
       "      <th>BB_MA</th>\n",
       "      <th>BB_UP</th>\n",
       "      <th>BB_LW</th>\n",
       "    </tr>\n",
       "  </thead>\n",
       "  <tbody>\n",
       "    <tr>\n",
       "      <th>31258</th>\n",
       "      <td>2025-03-13 11:00:00</td>\n",
       "      <td>2944.07</td>\n",
       "      <td>2948.65</td>\n",
       "      <td>2944.07</td>\n",
       "      <td>2946.24</td>\n",
       "      <td>2944.23</td>\n",
       "      <td>2948.73</td>\n",
       "      <td>2944.23</td>\n",
       "      <td>2946.50</td>\n",
       "      <td>2944.150</td>\n",
       "      <td>2948.690</td>\n",
       "      <td>2944.150</td>\n",
       "      <td>2946.370</td>\n",
       "      <td>64.279021</td>\n",
       "      <td>2938.816583</td>\n",
       "      <td>2949.302637</td>\n",
       "      <td>2928.330529</td>\n",
       "    </tr>\n",
       "    <tr>\n",
       "      <th>31259</th>\n",
       "      <td>2025-03-13 12:00:00</td>\n",
       "      <td>2946.24</td>\n",
       "      <td>2949.11</td>\n",
       "      <td>2941.02</td>\n",
       "      <td>2942.39</td>\n",
       "      <td>2946.49</td>\n",
       "      <td>2949.48</td>\n",
       "      <td>2941.16</td>\n",
       "      <td>2942.56</td>\n",
       "      <td>2946.365</td>\n",
       "      <td>2949.295</td>\n",
       "      <td>2941.090</td>\n",
       "      <td>2942.475</td>\n",
       "      <td>58.702188</td>\n",
       "      <td>2939.712250</td>\n",
       "      <td>2948.672281</td>\n",
       "      <td>2930.752219</td>\n",
       "    </tr>\n",
       "    <tr>\n",
       "      <th>31260</th>\n",
       "      <td>2025-03-13 13:00:00</td>\n",
       "      <td>2942.37</td>\n",
       "      <td>2952.42</td>\n",
       "      <td>2939.11</td>\n",
       "      <td>2950.38</td>\n",
       "      <td>2942.55</td>\n",
       "      <td>2952.57</td>\n",
       "      <td>2939.19</td>\n",
       "      <td>2950.56</td>\n",
       "      <td>2942.460</td>\n",
       "      <td>2952.495</td>\n",
       "      <td>2939.150</td>\n",
       "      <td>2950.470</td>\n",
       "      <td>65.347927</td>\n",
       "      <td>2940.357667</td>\n",
       "      <td>2949.581486</td>\n",
       "      <td>2931.133847</td>\n",
       "    </tr>\n",
       "    <tr>\n",
       "      <th>31261</th>\n",
       "      <td>2025-03-13 14:00:00</td>\n",
       "      <td>2950.40</td>\n",
       "      <td>2971.13</td>\n",
       "      <td>2949.86</td>\n",
       "      <td>2969.94</td>\n",
       "      <td>2950.57</td>\n",
       "      <td>2971.31</td>\n",
       "      <td>2950.01</td>\n",
       "      <td>2970.09</td>\n",
       "      <td>2950.485</td>\n",
       "      <td>2971.220</td>\n",
       "      <td>2949.935</td>\n",
       "      <td>2970.015</td>\n",
       "      <td>75.659879</td>\n",
       "      <td>2941.664083</td>\n",
       "      <td>2955.492446</td>\n",
       "      <td>2927.835721</td>\n",
       "    </tr>\n",
       "    <tr>\n",
       "      <th>31262</th>\n",
       "      <td>2025-03-13 15:00:00</td>\n",
       "      <td>2969.94</td>\n",
       "      <td>2978.30</td>\n",
       "      <td>2966.43</td>\n",
       "      <td>2977.78</td>\n",
       "      <td>2970.10</td>\n",
       "      <td>2978.55</td>\n",
       "      <td>2966.54</td>\n",
       "      <td>2978.02</td>\n",
       "      <td>2970.020</td>\n",
       "      <td>2978.425</td>\n",
       "      <td>2966.485</td>\n",
       "      <td>2977.900</td>\n",
       "      <td>78.446513</td>\n",
       "      <td>2943.600750</td>\n",
       "      <td>2963.383247</td>\n",
       "      <td>2923.818253</td>\n",
       "    </tr>\n",
       "  </tbody>\n",
       "</table>\n",
       "</div>"
      ],
      "text/plain": [
       "                     time    bid_o    bid_h    bid_l    bid_c    ask_o  \\\n",
       "31258 2025-03-13 11:00:00  2944.07  2948.65  2944.07  2946.24  2944.23   \n",
       "31259 2025-03-13 12:00:00  2946.24  2949.11  2941.02  2942.39  2946.49   \n",
       "31260 2025-03-13 13:00:00  2942.37  2952.42  2939.11  2950.38  2942.55   \n",
       "31261 2025-03-13 14:00:00  2950.40  2971.13  2949.86  2969.94  2950.57   \n",
       "31262 2025-03-13 15:00:00  2969.94  2978.30  2966.43  2977.78  2970.10   \n",
       "\n",
       "         ask_h    ask_l    ask_c     mid_o     mid_h     mid_l     mid_c  \\\n",
       "31258  2948.73  2944.23  2946.50  2944.150  2948.690  2944.150  2946.370   \n",
       "31259  2949.48  2941.16  2942.56  2946.365  2949.295  2941.090  2942.475   \n",
       "31260  2952.57  2939.19  2950.56  2942.460  2952.495  2939.150  2950.470   \n",
       "31261  2971.31  2950.01  2970.09  2950.485  2971.220  2949.935  2970.015   \n",
       "31262  2978.55  2966.54  2978.02  2970.020  2978.425  2966.485  2977.900   \n",
       "\n",
       "          RSI_14        BB_MA        BB_UP        BB_LW  \n",
       "31258  64.279021  2938.816583  2949.302637  2928.330529  \n",
       "31259  58.702188  2939.712250  2948.672281  2930.752219  \n",
       "31260  65.347927  2940.357667  2949.581486  2931.133847  \n",
       "31261  75.659879  2941.664083  2955.492446  2927.835721  \n",
       "31262  78.446513  2943.600750  2963.383247  2923.818253  "
      ]
     },
     "execution_count": 52,
     "metadata": {},
     "output_type": "execute_result"
    }
   ],
   "source": [
    "df_an.tail()"
   ]
  },
  {
   "cell_type": "code",
   "execution_count": 53,
   "id": "23769d23",
   "metadata": {},
   "outputs": [],
   "source": [
    "df_an = apply_patterns(df_an)"
   ]
  },
  {
   "cell_type": "code",
   "execution_count": 54,
   "id": "8ac55bc7",
   "metadata": {},
   "outputs": [],
   "source": [
    "df_an['EMA_200'] = df_an.mid_c.ewm(span=200, min_periods=200).mean()"
   ]
  },
  {
   "cell_type": "code",
   "execution_count": 55,
   "id": "f2498b85",
   "metadata": {},
   "outputs": [
    {
     "data": {
      "text/plain": [
       "Index(['time', 'bid_o', 'bid_h', 'bid_l', 'bid_c', 'ask_o', 'ask_h', 'ask_l',\n",
       "       'ask_c', 'mid_o', 'mid_h', 'mid_l', 'mid_c', 'RSI_14', 'BB_MA', 'BB_UP',\n",
       "       'BB_LW', 'direction', 'body_size', 'full_range', 'body_perc',\n",
       "       'body_lower', 'body_upper', 'body_bottom_perc', 'body_top_perc',\n",
       "       'mid_point', 'low_change', 'high_change', 'body_size_change',\n",
       "       'mid_point_prev', 'mid_point_prev_2', 'body_size_prev',\n",
       "       'direction_prev', 'direction_prev_2', 'body_perc_prev',\n",
       "       'body_perc_prev_2', 'close_price_prev', 'open_price', 'close_price',\n",
       "       'HANGING_MAN', 'SHOOTING_STAR', 'SPINNING_TOP', 'MARUBOZU', 'ENGULFING',\n",
       "       'TWEEZER_TOP', 'TWEEZER_BOTTOM', 'MORNING_STAR', 'EVENING_STAR',\n",
       "       'PIERCING_LINE', 'PIN_BAR', 'THREE_WHITE_SOLDIERS', 'EMA_200'],\n",
       "      dtype='object')"
      ]
     },
     "execution_count": 55,
     "metadata": {},
     "output_type": "execute_result"
    }
   ],
   "source": [
    "df_an.columns"
   ]
  },
  {
   "cell_type": "code",
   "execution_count": 56,
   "id": "881c992e",
   "metadata": {},
   "outputs": [],
   "source": [
    "our_cols = ['time', 'mid_o', 'mid_h', 'mid_l', 'mid_c',\n",
    "            'bid_o', 'bid_h','bid_l', 'bid_c', \n",
    "            'ask_o', 'ask_h', 'ask_l', 'ask_c',\n",
    "                 'ENGULFING', 'direction', 'EMA_200', 'RSI_14', 'BB_UP', 'BB_LW', 'PIN_BAR' ]"
   ]
  },
  {
   "cell_type": "code",
   "execution_count": 57,
   "id": "c65c943c",
   "metadata": {},
   "outputs": [],
   "source": [
    "df_slim = df_an[our_cols].copy()\n",
    "df_slim.dropna(inplace=True)\n",
    "df_slim.reset_index(drop=True, inplace=True)"
   ]
  },
  {
   "cell_type": "code",
   "execution_count": 58,
   "id": "b33bb31e",
   "metadata": {},
   "outputs": [
    {
     "data": {
      "text/html": [
       "<div>\n",
       "<style scoped>\n",
       "    .dataframe tbody tr th:only-of-type {\n",
       "        vertical-align: middle;\n",
       "    }\n",
       "\n",
       "    .dataframe tbody tr th {\n",
       "        vertical-align: top;\n",
       "    }\n",
       "\n",
       "    .dataframe thead th {\n",
       "        text-align: right;\n",
       "    }\n",
       "</style>\n",
       "<table border=\"1\" class=\"dataframe\">\n",
       "  <thead>\n",
       "    <tr style=\"text-align: right;\">\n",
       "      <th></th>\n",
       "      <th>time</th>\n",
       "      <th>mid_o</th>\n",
       "      <th>mid_h</th>\n",
       "      <th>mid_l</th>\n",
       "      <th>mid_c</th>\n",
       "      <th>bid_o</th>\n",
       "      <th>bid_h</th>\n",
       "      <th>bid_l</th>\n",
       "      <th>bid_c</th>\n",
       "      <th>ask_o</th>\n",
       "      <th>ask_h</th>\n",
       "      <th>ask_l</th>\n",
       "      <th>ask_c</th>\n",
       "      <th>ENGULFING</th>\n",
       "      <th>direction</th>\n",
       "      <th>EMA_200</th>\n",
       "      <th>RSI_14</th>\n",
       "      <th>BB_UP</th>\n",
       "      <th>BB_LW</th>\n",
       "      <th>PIN_BAR</th>\n",
       "    </tr>\n",
       "  </thead>\n",
       "  <tbody>\n",
       "    <tr>\n",
       "      <th>0</th>\n",
       "      <td>2020-01-14 14:00:00</td>\n",
       "      <td>1544.200</td>\n",
       "      <td>1547.085</td>\n",
       "      <td>1542.520</td>\n",
       "      <td>1546.455</td>\n",
       "      <td>1544.07</td>\n",
       "      <td>1546.97</td>\n",
       "      <td>1542.40</td>\n",
       "      <td>1546.34</td>\n",
       "      <td>1544.33</td>\n",
       "      <td>1547.20</td>\n",
       "      <td>1542.64</td>\n",
       "      <td>1546.57</td>\n",
       "      <td>False</td>\n",
       "      <td>1</td>\n",
       "      <td>1554.180147</td>\n",
       "      <td>51.971579</td>\n",
       "      <td>1551.238125</td>\n",
       "      <td>1535.919875</td>\n",
       "      <td>False</td>\n",
       "    </tr>\n",
       "    <tr>\n",
       "      <th>1</th>\n",
       "      <td>2020-01-14 15:00:00</td>\n",
       "      <td>1546.385</td>\n",
       "      <td>1546.840</td>\n",
       "      <td>1541.045</td>\n",
       "      <td>1543.070</td>\n",
       "      <td>1546.18</td>\n",
       "      <td>1546.72</td>\n",
       "      <td>1540.93</td>\n",
       "      <td>1542.98</td>\n",
       "      <td>1546.59</td>\n",
       "      <td>1546.96</td>\n",
       "      <td>1541.16</td>\n",
       "      <td>1543.16</td>\n",
       "      <td>True</td>\n",
       "      <td>-1</td>\n",
       "      <td>1554.052495</td>\n",
       "      <td>44.349179</td>\n",
       "      <td>1550.375611</td>\n",
       "      <td>1536.177722</td>\n",
       "      <td>False</td>\n",
       "    </tr>\n",
       "    <tr>\n",
       "      <th>2</th>\n",
       "      <td>2020-01-14 16:00:00</td>\n",
       "      <td>1543.075</td>\n",
       "      <td>1544.415</td>\n",
       "      <td>1542.240</td>\n",
       "      <td>1542.440</td>\n",
       "      <td>1542.97</td>\n",
       "      <td>1544.30</td>\n",
       "      <td>1542.12</td>\n",
       "      <td>1542.31</td>\n",
       "      <td>1543.18</td>\n",
       "      <td>1544.53</td>\n",
       "      <td>1542.36</td>\n",
       "      <td>1542.57</td>\n",
       "      <td>False</td>\n",
       "      <td>-1</td>\n",
       "      <td>1553.919276</td>\n",
       "      <td>43.082708</td>\n",
       "      <td>1549.426158</td>\n",
       "      <td>1536.482842</td>\n",
       "      <td>True</td>\n",
       "    </tr>\n",
       "    <tr>\n",
       "      <th>3</th>\n",
       "      <td>2020-01-14 17:00:00</td>\n",
       "      <td>1542.465</td>\n",
       "      <td>1543.910</td>\n",
       "      <td>1542.090</td>\n",
       "      <td>1543.620</td>\n",
       "      <td>1542.38</td>\n",
       "      <td>1543.80</td>\n",
       "      <td>1541.94</td>\n",
       "      <td>1543.50</td>\n",
       "      <td>1542.55</td>\n",
       "      <td>1544.02</td>\n",
       "      <td>1542.24</td>\n",
       "      <td>1543.74</td>\n",
       "      <td>True</td>\n",
       "      <td>1</td>\n",
       "      <td>1553.801301</td>\n",
       "      <td>46.182681</td>\n",
       "      <td>1548.407079</td>\n",
       "      <td>1536.896088</td>\n",
       "      <td>False</td>\n",
       "    </tr>\n",
       "    <tr>\n",
       "      <th>4</th>\n",
       "      <td>2020-01-14 18:00:00</td>\n",
       "      <td>1543.605</td>\n",
       "      <td>1548.030</td>\n",
       "      <td>1542.980</td>\n",
       "      <td>1545.780</td>\n",
       "      <td>1543.49</td>\n",
       "      <td>1547.82</td>\n",
       "      <td>1542.87</td>\n",
       "      <td>1545.65</td>\n",
       "      <td>1543.72</td>\n",
       "      <td>1548.24</td>\n",
       "      <td>1543.09</td>\n",
       "      <td>1545.91</td>\n",
       "      <td>False</td>\n",
       "      <td>1</td>\n",
       "      <td>1553.709558</td>\n",
       "      <td>51.400641</td>\n",
       "      <td>1547.847317</td>\n",
       "      <td>1537.194350</td>\n",
       "      <td>False</td>\n",
       "    </tr>\n",
       "  </tbody>\n",
       "</table>\n",
       "</div>"
      ],
      "text/plain": [
       "                 time     mid_o     mid_h     mid_l     mid_c    bid_o  \\\n",
       "0 2020-01-14 14:00:00  1544.200  1547.085  1542.520  1546.455  1544.07   \n",
       "1 2020-01-14 15:00:00  1546.385  1546.840  1541.045  1543.070  1546.18   \n",
       "2 2020-01-14 16:00:00  1543.075  1544.415  1542.240  1542.440  1542.97   \n",
       "3 2020-01-14 17:00:00  1542.465  1543.910  1542.090  1543.620  1542.38   \n",
       "4 2020-01-14 18:00:00  1543.605  1548.030  1542.980  1545.780  1543.49   \n",
       "\n",
       "     bid_h    bid_l    bid_c    ask_o    ask_h    ask_l    ask_c  ENGULFING  \\\n",
       "0  1546.97  1542.40  1546.34  1544.33  1547.20  1542.64  1546.57      False   \n",
       "1  1546.72  1540.93  1542.98  1546.59  1546.96  1541.16  1543.16       True   \n",
       "2  1544.30  1542.12  1542.31  1543.18  1544.53  1542.36  1542.57      False   \n",
       "3  1543.80  1541.94  1543.50  1542.55  1544.02  1542.24  1543.74       True   \n",
       "4  1547.82  1542.87  1545.65  1543.72  1548.24  1543.09  1545.91      False   \n",
       "\n",
       "   direction      EMA_200     RSI_14        BB_UP        BB_LW  PIN_BAR  \n",
       "0          1  1554.180147  51.971579  1551.238125  1535.919875    False  \n",
       "1         -1  1554.052495  44.349179  1550.375611  1536.177722    False  \n",
       "2         -1  1553.919276  43.082708  1549.426158  1536.482842     True  \n",
       "3          1  1553.801301  46.182681  1548.407079  1536.896088    False  \n",
       "4          1  1553.709558  51.400641  1547.847317  1537.194350    False  "
      ]
     },
     "execution_count": 58,
     "metadata": {},
     "output_type": "execute_result"
    }
   ],
   "source": [
    "df_slim.head()"
   ]
  },
  {
   "cell_type": "code",
   "execution_count": 59,
   "id": "a0d4271d",
   "metadata": {},
   "outputs": [],
   "source": [
    "BUY = 1\n",
    "SELL = -1\n",
    "NONE = 0\n",
    "RSI_LOWER_LIMIT = 40.0\n",
    "RSI_UPPER_LIMIT = 60.0\n",
    "\n",
    "def apply_signal(row):\n",
    "    # Condition 1: Strong Trend Confirmation\n",
    "    if row.mid_c > row.EMA_200 and row.RSI_14 > RSI_LOWER_LIMIT and row.RSI_14 < RSI_UPPER_LIMIT:\n",
    "        # Condition 2: Bollinger Band Support + Price Rejection (Engulfing or Pin Bar)\n",
    "        if row.mid_c <= row.BB_LW and (row.ENGULFING or row.PIN_BAR):\n",
    "            return BUY\n",
    "    \n",
    "    if row.mid_c < row.EMA_200 and row.RSI_14 > RSI_LOWER_LIMIT and row.RSI_14 < RSI_UPPER_LIMIT:\n",
    "        # Condition 2: Bollinger Band Resistance + Price Rejection (Engulfing or Pin Bar)\n",
    "        if row.mid_c >= row.BB_UP and (row.ENGULFING or row.PIN_BAR):\n",
    "            return SELL\n",
    "    \n",
    "    return NONE\n"
   ]
  },
  {
   "cell_type": "code",
   "execution_count": 60,
   "id": "774e924d",
   "metadata": {},
   "outputs": [],
   "source": [
    "df_slim[\"SIGNAL\"] = df_slim.apply(apply_signal, axis=1)"
   ]
  },
  {
   "cell_type": "code",
   "execution_count": 61,
   "id": "cbf03c6f",
   "metadata": {},
   "outputs": [
    {
     "data": {
      "text/plain": [
       "SIGNAL\n",
       " 0    30935\n",
       " 1       73\n",
       "-1       56\n",
       "Name: count, dtype: int64"
      ]
     },
     "execution_count": 61,
     "metadata": {},
     "output_type": "execute_result"
    }
   ],
   "source": [
    "df_slim[\"SIGNAL\"].value_counts()"
   ]
  },
  {
   "cell_type": "code",
   "execution_count": 62,
   "id": "41839f66",
   "metadata": {},
   "outputs": [],
   "source": [
    "LOSS_FACTOR = -1.0\n",
    "PROFIT_FACTOR = 3\n",
    "\n",
    "def apply_take_profit(row):\n",
    "    if row.SIGNAL != NONE:\n",
    "        if row.SIGNAL == BUY:\n",
    "            return (row.ask_c - row.ask_o) * PROFIT_FACTOR + row.ask_c\n",
    "        else:\n",
    "            return (row.bid_c - row.bid_o) * PROFIT_FACTOR + row.bid_c\n",
    "    else:\n",
    "        return 0.0\n",
    "\n",
    "def apply_stop_loss(row):\n",
    "    if row.SIGNAL != NONE:\n",
    "        if row.SIGNAL == BUY:\n",
    "            return row.ask_o\n",
    "        else:\n",
    "            return row.bid_o\n",
    "    else:\n",
    "        return 0.0"
   ]
  },
  {
   "cell_type": "code",
   "execution_count": 63,
   "id": "914d768a",
   "metadata": {},
   "outputs": [],
   "source": [
    "df_slim[\"TP\"] = df_slim.apply(apply_take_profit, axis=1)\n",
    "df_slim[\"SL\"] = df_slim.apply(apply_stop_loss, axis=1)"
   ]
  },
  {
   "cell_type": "code",
   "execution_count": 64,
   "id": "fa1aef5e",
   "metadata": {},
   "outputs": [
    {
     "data": {
      "text/html": [
       "<div>\n",
       "<style scoped>\n",
       "    .dataframe tbody tr th:only-of-type {\n",
       "        vertical-align: middle;\n",
       "    }\n",
       "\n",
       "    .dataframe tbody tr th {\n",
       "        vertical-align: top;\n",
       "    }\n",
       "\n",
       "    .dataframe thead th {\n",
       "        text-align: right;\n",
       "    }\n",
       "</style>\n",
       "<table border=\"1\" class=\"dataframe\">\n",
       "  <thead>\n",
       "    <tr style=\"text-align: right;\">\n",
       "      <th></th>\n",
       "      <th>time</th>\n",
       "      <th>mid_o</th>\n",
       "      <th>mid_h</th>\n",
       "      <th>mid_l</th>\n",
       "      <th>mid_c</th>\n",
       "      <th>bid_o</th>\n",
       "      <th>bid_h</th>\n",
       "      <th>bid_l</th>\n",
       "      <th>bid_c</th>\n",
       "      <th>ask_o</th>\n",
       "      <th>...</th>\n",
       "      <th>ENGULFING</th>\n",
       "      <th>direction</th>\n",
       "      <th>EMA_200</th>\n",
       "      <th>RSI_14</th>\n",
       "      <th>BB_UP</th>\n",
       "      <th>BB_LW</th>\n",
       "      <th>PIN_BAR</th>\n",
       "      <th>SIGNAL</th>\n",
       "      <th>TP</th>\n",
       "      <th>SL</th>\n",
       "    </tr>\n",
       "  </thead>\n",
       "  <tbody>\n",
       "    <tr>\n",
       "      <th>8</th>\n",
       "      <td>2020-01-14 23:00:00</td>\n",
       "      <td>1546.445</td>\n",
       "      <td>1550.055</td>\n",
       "      <td>1546.05</td>\n",
       "      <td>1549.60</td>\n",
       "      <td>1546.09</td>\n",
       "      <td>1549.91</td>\n",
       "      <td>1545.87</td>\n",
       "      <td>1549.49</td>\n",
       "      <td>1546.80</td>\n",
       "      <td>...</td>\n",
       "      <td>True</td>\n",
       "      <td>1</td>\n",
       "      <td>1553.422840</td>\n",
       "      <td>59.589342</td>\n",
       "      <td>1549.339095</td>\n",
       "      <td>1537.675572</td>\n",
       "      <td>False</td>\n",
       "      <td>-1</td>\n",
       "      <td>1559.69</td>\n",
       "      <td>1546.09</td>\n",
       "    </tr>\n",
       "    <tr>\n",
       "      <th>798</th>\n",
       "      <td>2020-03-03 15:00:00</td>\n",
       "      <td>1602.360</td>\n",
       "      <td>1605.890</td>\n",
       "      <td>1600.48</td>\n",
       "      <td>1605.31</td>\n",
       "      <td>1602.36</td>\n",
       "      <td>1605.89</td>\n",
       "      <td>1600.48</td>\n",
       "      <td>1605.31</td>\n",
       "      <td>1602.36</td>\n",
       "      <td>...</td>\n",
       "      <td>True</td>\n",
       "      <td>1</td>\n",
       "      <td>1617.760547</td>\n",
       "      <td>58.362220</td>\n",
       "      <td>1604.867163</td>\n",
       "      <td>1588.032170</td>\n",
       "      <td>False</td>\n",
       "      <td>-1</td>\n",
       "      <td>1614.16</td>\n",
       "      <td>1602.36</td>\n",
       "    </tr>\n",
       "    <tr>\n",
       "      <th>799</th>\n",
       "      <td>2020-03-03 16:00:00</td>\n",
       "      <td>1605.250</td>\n",
       "      <td>1606.800</td>\n",
       "      <td>1601.82</td>\n",
       "      <td>1606.73</td>\n",
       "      <td>1605.25</td>\n",
       "      <td>1606.80</td>\n",
       "      <td>1601.82</td>\n",
       "      <td>1606.73</td>\n",
       "      <td>1605.25</td>\n",
       "      <td>...</td>\n",
       "      <td>False</td>\n",
       "      <td>1</td>\n",
       "      <td>1617.650786</td>\n",
       "      <td>59.920210</td>\n",
       "      <td>1606.011516</td>\n",
       "      <td>1587.542817</td>\n",
       "      <td>True</td>\n",
       "      <td>-1</td>\n",
       "      <td>1611.17</td>\n",
       "      <td>1605.25</td>\n",
       "    </tr>\n",
       "    <tr>\n",
       "      <th>2383</th>\n",
       "      <td>2020-06-07 09:00:00</td>\n",
       "      <td>1684.550</td>\n",
       "      <td>1685.500</td>\n",
       "      <td>1682.15</td>\n",
       "      <td>1685.05</td>\n",
       "      <td>1681.30</td>\n",
       "      <td>1682.60</td>\n",
       "      <td>1677.40</td>\n",
       "      <td>1681.90</td>\n",
       "      <td>1687.80</td>\n",
       "      <td>...</td>\n",
       "      <td>False</td>\n",
       "      <td>1</td>\n",
       "      <td>1706.111759</td>\n",
       "      <td>58.959486</td>\n",
       "      <td>1683.674598</td>\n",
       "      <td>1680.863735</td>\n",
       "      <td>True</td>\n",
       "      <td>-1</td>\n",
       "      <td>1683.70</td>\n",
       "      <td>1681.30</td>\n",
       "    </tr>\n",
       "    <tr>\n",
       "      <th>3777</th>\n",
       "      <td>2020-08-20 15:00:00</td>\n",
       "      <td>1943.550</td>\n",
       "      <td>1946.000</td>\n",
       "      <td>1937.75</td>\n",
       "      <td>1945.00</td>\n",
       "      <td>1935.90</td>\n",
       "      <td>1940.80</td>\n",
       "      <td>1925.80</td>\n",
       "      <td>1938.80</td>\n",
       "      <td>1951.20</td>\n",
       "      <td>...</td>\n",
       "      <td>False</td>\n",
       "      <td>1</td>\n",
       "      <td>1957.412070</td>\n",
       "      <td>44.016055</td>\n",
       "      <td>1944.714401</td>\n",
       "      <td>1935.165599</td>\n",
       "      <td>True</td>\n",
       "      <td>-1</td>\n",
       "      <td>1947.50</td>\n",
       "      <td>1935.90</td>\n",
       "    </tr>\n",
       "  </tbody>\n",
       "</table>\n",
       "<p>5 rows × 23 columns</p>\n",
       "</div>"
      ],
      "text/plain": [
       "                    time     mid_o     mid_h    mid_l    mid_c    bid_o  \\\n",
       "8    2020-01-14 23:00:00  1546.445  1550.055  1546.05  1549.60  1546.09   \n",
       "798  2020-03-03 15:00:00  1602.360  1605.890  1600.48  1605.31  1602.36   \n",
       "799  2020-03-03 16:00:00  1605.250  1606.800  1601.82  1606.73  1605.25   \n",
       "2383 2020-06-07 09:00:00  1684.550  1685.500  1682.15  1685.05  1681.30   \n",
       "3777 2020-08-20 15:00:00  1943.550  1946.000  1937.75  1945.00  1935.90   \n",
       "\n",
       "        bid_h    bid_l    bid_c    ask_o  ...  ENGULFING  direction  \\\n",
       "8     1549.91  1545.87  1549.49  1546.80  ...       True          1   \n",
       "798   1605.89  1600.48  1605.31  1602.36  ...       True          1   \n",
       "799   1606.80  1601.82  1606.73  1605.25  ...      False          1   \n",
       "2383  1682.60  1677.40  1681.90  1687.80  ...      False          1   \n",
       "3777  1940.80  1925.80  1938.80  1951.20  ...      False          1   \n",
       "\n",
       "          EMA_200     RSI_14        BB_UP        BB_LW  PIN_BAR  SIGNAL  \\\n",
       "8     1553.422840  59.589342  1549.339095  1537.675572    False      -1   \n",
       "798   1617.760547  58.362220  1604.867163  1588.032170    False      -1   \n",
       "799   1617.650786  59.920210  1606.011516  1587.542817     True      -1   \n",
       "2383  1706.111759  58.959486  1683.674598  1680.863735     True      -1   \n",
       "3777  1957.412070  44.016055  1944.714401  1935.165599     True      -1   \n",
       "\n",
       "           TP       SL  \n",
       "8     1559.69  1546.09  \n",
       "798   1614.16  1602.36  \n",
       "799   1611.17  1605.25  \n",
       "2383  1683.70  1681.30  \n",
       "3777  1947.50  1935.90  \n",
       "\n",
       "[5 rows x 23 columns]"
      ]
     },
     "execution_count": 64,
     "metadata": {},
     "output_type": "execute_result"
    }
   ],
   "source": [
    "df_slim[df_slim.SIGNAL==SELL].head()"
   ]
  },
  {
   "cell_type": "code",
   "execution_count": 78,
   "id": "c8be66ff",
   "metadata": {},
   "outputs": [
    {
     "data": {
      "application/vnd.plotly.v1+json": {
       "config": {
        "plotlyServerURL": "https://plot.ly"
       },
       "data": [
        {
         "close": {
          "bdata": "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",
          "dtype": "f8"
         },
         "decreasing": {
          "fillcolor": "#CC2E3C",
          "line": {
           "color": "#FF3A4C"
          }
         },
         "high": {
          "bdata": "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",
          "dtype": "f8"
         },
         "increasing": {
          "fillcolor": "#24A06B",
          "line": {
           "color": "#2EC886"
          }
         },
         "line": {
          "width": 1
         },
         "low": {
          "bdata": "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",
          "dtype": "f8"
         },
         "opacity": 1,
         "open": {
          "bdata": "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",
          "dtype": "f8"
         },
         "type": "candlestick",
         "x": [
          "s20-01-27 10:00",
          "s20-01-27 11:00",
          "s20-01-27 12:00",
          "s20-01-27 13:00",
          "s20-01-27 14:00",
          "s20-01-27 15:00",
          "s20-01-27 16:00",
          "s20-01-27 17:00",
          "s20-01-27 18:00",
          "s20-01-27 19:00",
          "s20-01-27 20:00",
          "s20-01-27 21:00",
          "s20-01-27 23:00",
          "s20-01-28 00:00",
          "s20-01-28 01:00",
          "s20-01-28 02:00",
          "s20-01-28 03:00",
          "s20-01-28 04:00",
          "s20-01-28 05:00",
          "s20-01-28 06:00",
          "s20-01-28 07:00",
          "s20-01-28 08:00",
          "s20-01-28 09:00",
          "s20-01-28 10:00",
          "s20-01-28 11:00",
          "s20-01-28 12:00",
          "s20-01-28 13:00",
          "s20-01-28 14:00",
          "s20-01-28 15:00",
          "s20-01-28 16:00",
          "s20-01-28 17:00",
          "s20-01-28 18:00",
          "s20-01-28 19:00",
          "s20-01-28 20:00",
          "s20-01-28 21:00",
          "s20-01-28 23:00",
          "s20-01-29 00:00",
          "s20-01-29 01:00",
          "s20-01-29 02:00",
          "s20-01-29 03:00",
          "s20-01-29 04:00",
          "s20-01-29 05:00",
          "s20-01-29 06:00",
          "s20-01-29 07:00",
          "s20-01-29 08:00",
          "s20-01-29 09:00",
          "s20-01-29 10:00",
          "s20-01-29 11:00",
          "s20-01-29 12:00",
          "s20-01-29 13:00",
          "s20-01-29 14:00",
          "s20-01-29 15:00",
          "s20-01-29 16:00",
          "s20-01-29 17:00",
          "s20-01-29 18:00",
          "s20-01-29 19:00",
          "s20-01-29 20:00",
          "s20-01-29 21:00",
          "s20-01-29 23:00",
          "s20-01-30 00:00",
          "s20-01-30 01:00",
          "s20-01-30 02:00",
          "s20-01-30 03:00",
          "s20-01-30 04:00",
          "s20-01-30 05:00",
          "s20-01-30 06:00",
          "s20-01-30 07:00",
          "s20-01-30 08:00",
          "s20-01-30 09:00",
          "s20-01-30 10:00",
          "s20-01-30 11:00",
          "s20-01-30 12:00",
          "s20-01-30 13:00",
          "s20-01-30 14:00",
          "s20-01-30 15:00",
          "s20-01-30 16:00",
          "s20-01-30 17:00",
          "s20-01-30 18:00",
          "s20-01-30 19:00",
          "s20-01-30 20:00",
          "s20-01-30 21:00",
          "s20-01-30 23:00",
          "s20-01-31 00:00",
          "s20-01-31 01:00",
          "s20-01-31 02:00",
          "s20-01-31 03:00",
          "s20-01-31 04:00",
          "s20-01-31 05:00",
          "s20-01-31 06:00",
          "s20-01-31 07:00",
          "s20-01-31 08:00",
          "s20-01-31 09:00",
          "s20-01-31 10:00",
          "s20-01-31 11:00",
          "s20-01-31 12:00",
          "s20-01-31 13:00",
          "s20-01-31 14:00",
          "s20-01-31 15:00",
          "s20-01-31 16:00",
          "s20-01-31 17:00",
          "s20-01-31 18:00",
          "s20-01-31 19:00",
          "s20-01-31 20:00",
          "s20-01-31 21:00",
          "s20-02-03 01:00",
          "s20-02-03 02:00",
          "s20-02-03 03:00",
          "s20-02-03 04:00",
          "s20-02-03 05:00",
          "s20-02-03 06:00",
          "s20-02-03 07:00",
          "s20-02-03 08:00",
          "s20-02-03 09:00",
          "s20-02-03 10:00",
          "s20-02-03 11:00",
          "s20-02-03 12:00",
          "s20-02-03 13:00",
          "s20-02-03 14:00",
          "s20-02-03 15:00",
          "s20-02-03 16:00",
          "s20-02-03 17:00",
          "s20-02-03 18:00",
          "s20-02-03 19:00",
          "s20-02-03 20:00",
          "s20-02-03 21:00",
          "s20-02-03 22:00",
          "s20-02-03 23:00",
          "s20-02-04 01:00",
          "s20-02-04 02:00",
          "s20-02-04 03:00",
          "s20-02-04 04:00",
          "s20-02-04 05:00",
          "s20-02-04 06:00",
          "s20-02-04 07:00",
          "s20-02-04 08:00",
          "s20-02-04 09:00",
          "s20-02-04 10:00",
          "s20-02-04 11:00",
          "s20-02-04 12:00",
          "s20-02-04 13:00",
          "s20-02-04 14:00",
          "s20-02-04 15:00",
          "s20-02-04 16:00",
          "s20-02-04 17:00",
          "s20-02-04 18:00",
          "s20-02-04 19:00",
          "s20-02-04 20:00",
          "s20-02-04 21:00",
          "s20-02-04 22:00",
          "s20-02-04 23:00",
          "s20-02-05 01:00",
          "s20-02-05 02:00",
          "s20-02-05 03:00",
          "s20-02-05 04:00",
          "s20-02-05 05:00",
          "s20-02-05 06:00",
          "s20-02-05 07:00",
          "s20-02-05 08:00",
          "s20-02-05 09:00",
          "s20-02-05 10:00",
          "s20-02-05 11:00",
          "s20-02-05 12:00",
          "s20-02-05 13:00",
          "s20-02-05 14:00",
          "s20-02-05 15:00",
          "s20-02-05 16:00",
          "s20-02-05 17:00",
          "s20-02-05 18:00",
          "s20-02-05 19:00",
          "s20-02-05 20:00",
          "s20-02-05 21:00",
          "s20-02-05 22:00",
          "s20-02-05 23:00",
          "s20-02-06 01:00",
          "s20-02-06 02:00",
          "s20-02-06 03:00",
          "s20-02-06 04:00",
          "s20-02-06 05:00",
          "s20-02-06 06:00",
          "s20-02-06 07:00",
          "s20-02-06 08:00",
          "s20-02-06 09:00",
          "s20-02-06 10:00",
          "s20-02-06 11:00",
          "s20-02-06 12:00",
          "s20-02-06 13:00",
          "s20-02-06 14:00",
          "s20-02-06 15:00",
          "s20-02-06 16:00",
          "s20-02-06 17:00",
          "s20-02-06 18:00",
          "s20-02-06 19:00",
          "s20-02-06 20:00",
          "s20-02-06 21:00",
          "s20-02-06 22:00",
          "s20-02-06 23:00",
          "s20-02-07 01:00",
          "s20-02-07 02:00",
          "s20-02-07 03:00",
          "s20-02-07 04:00",
          "s20-02-07 05:00",
          "s20-02-07 06:00",
          "s20-02-07 07:00",
          "s20-02-07 08:00",
          "s20-02-07 09:00",
          "s20-02-07 10:00",
          "s20-02-07 11:00",
          "s20-02-07 12:00",
          "s20-02-07 13:00",
          "s20-02-07 14:00",
          "s20-02-07 15:00",
          "s20-02-07 16:00",
          "s20-02-07 17:00",
          "s20-02-07 18:00",
          "s20-02-07 19:00",
          "s20-02-07 20:00",
          "s20-02-07 21:00",
          "s20-02-07 22:00",
          "s20-02-07 23:00",
          "s20-02-10 01:00",
          "s20-02-10 02:00",
          "s20-02-10 03:00",
          "s20-02-10 04:00",
          "s20-02-10 05:00",
          "s20-02-10 06:00",
          "s20-02-10 07:00",
          "s20-02-10 08:00",
          "s20-02-10 09:00",
          "s20-02-10 10:00",
          "s20-02-10 11:00",
          "s20-02-10 12:00",
          "s20-02-10 13:00",
          "s20-02-10 14:00",
          "s20-02-10 15:00",
          "s20-02-10 16:00",
          "s20-02-10 17:00",
          "s20-02-10 18:00",
          "s20-02-10 19:00",
          "s20-02-10 20:00",
          "s20-02-10 21:00",
          "s20-02-10 22:00",
          "s20-02-10 23:00",
          "s20-02-11 01:00",
          "s20-02-11 02:00",
          "s20-02-11 03:00",
          "s20-02-11 04:00",
          "s20-02-11 05:00",
          "s20-02-11 06:00",
          "s20-02-11 07:00",
          "s20-02-11 08:00",
          "s20-02-11 09:00",
          "s20-02-11 10:00",
          "s20-02-11 11:00",
          "s20-02-11 12:00",
          "s20-02-11 13:00",
          "s20-02-11 14:00",
          "s20-02-11 15:00",
          "s20-02-11 16:00",
          "s20-02-11 17:00",
          "s20-02-11 18:00",
          "s20-02-11 19:00",
          "s20-02-11 20:00",
          "s20-02-11 21:00",
          "s20-02-11 22:00",
          "s20-02-11 23:00",
          "s20-02-12 01:00",
          "s20-02-12 02:00",
          "s20-02-12 03:00",
          "s20-02-12 04:00",
          "s20-02-12 05:00",
          "s20-02-12 06:00",
          "s20-02-12 07:00",
          "s20-02-12 08:00",
          "s20-02-12 09:00",
          "s20-02-12 10:00",
          "s20-02-12 11:00",
          "s20-02-12 12:00",
          "s20-02-12 13:00",
          "s20-02-12 14:00",
          "s20-02-12 15:00",
          "s20-02-12 16:00",
          "s20-02-12 17:00",
          "s20-02-12 18:00",
          "s20-02-12 19:00",
          "s20-02-12 20:00",
          "s20-02-12 21:00",
          "s20-02-12 22:00",
          "s20-02-12 23:00",
          "s20-02-13 01:00",
          "s20-02-13 02:00",
          "s20-02-13 03:00",
          "s20-02-13 04:00",
          "s20-02-13 05:00",
          "s20-02-13 06:00",
          "s20-02-13 07:00",
          "s20-02-13 08:00",
          "s20-02-13 09:00",
          "s20-02-13 10:00",
          "s20-02-13 11:00",
          "s20-02-13 12:00",
          "s20-02-13 13:00",
          "s20-02-13 14:00",
          "s20-02-13 15:00",
          "s20-02-13 16:00",
          "s20-02-13 17:00",
          "s20-02-13 18:00",
          "s20-02-13 19:00",
          "s20-02-13 20:00",
          "s20-02-13 21:00",
          "s20-02-13 22:00",
          "s20-02-13 23:00",
          "s20-02-14 01:00",
          "s20-02-14 02:00",
          "s20-02-14 03:00",
          "s20-02-14 04:00",
          "s20-02-14 05:00",
          "s20-02-14 06:00",
          "s20-02-14 07:00",
          "s20-02-14 08:00",
          "s20-02-14 09:00",
          "s20-02-14 10:00",
          "s20-02-14 11:00",
          "s20-02-14 12:00",
          "s20-02-14 13:00",
          "s20-02-14 14:00",
          "s20-02-14 15:00",
          "s20-02-14 16:00",
          "s20-02-14 17:00",
          "s20-02-14 18:00",
          "s20-02-14 19:00",
          "s20-02-14 20:00",
          "s20-02-14 21:00",
          "s20-02-14 22:00",
          "s20-02-14 23:00",
          "s20-02-17 01:00",
          "s20-02-17 02:00",
          "s20-02-17 03:00",
          "s20-02-17 04:00",
          "s20-02-17 05:00",
          "s20-02-17 06:00",
          "s20-02-17 07:00",
          "s20-02-17 08:00",
          "s20-02-17 09:00",
          "s20-02-17 10:00",
          "s20-02-17 11:00",
          "s20-02-17 12:00",
          "s20-02-17 13:00",
          "s20-02-17 14:00",
          "s20-02-17 15:00",
          "s20-02-17 16:00",
          "s20-02-17 17:00",
          "s20-02-17 18:00",
          "s20-02-17 19:00",
          "s20-02-17 20:00",
          "s20-02-18 01:00",
          "s20-02-18 02:00",
          "s20-02-18 03:00",
          "s20-02-18 04:00",
          "s20-02-18 05:00",
          "s20-02-18 06:00",
          "s20-02-18 07:00",
          "s20-02-18 08:00",
          "s20-02-18 09:00",
          "s20-02-18 10:00",
          "s20-02-18 11:00",
          "s20-02-18 12:00",
          "s20-02-18 13:00",
          "s20-02-18 14:00",
          "s20-02-18 15:00",
          "s20-02-18 16:00",
          "s20-02-18 17:00",
          "s20-02-18 18:00",
          "s20-02-18 19:00",
          "s20-02-18 20:00",
          "s20-02-18 21:00",
          "s20-02-18 22:00",
          "s20-02-18 23:00",
          "s20-02-19 01:00",
          "s20-02-19 02:00",
          "s20-02-19 03:00",
          "s20-02-19 04:00",
          "s20-02-19 05:00",
          "s20-02-19 06:00",
          "s20-02-19 07:00",
          "s20-02-19 08:00",
          "s20-02-19 09:00",
          "s20-02-19 10:00",
          "s20-02-19 11:00",
          "s20-02-19 12:00",
          "s20-02-19 13:00",
          "s20-02-19 14:00",
          "s20-02-19 15:00",
          "s20-02-19 16:00",
          "s20-02-19 17:00",
          "s20-02-19 18:00",
          "s20-02-19 19:00",
          "s20-02-19 20:00",
          "s20-02-19 21:00",
          "s20-02-19 22:00",
          "s20-02-19 23:00",
          "s20-02-20 01:00",
          "s20-02-20 02:00",
          "s20-02-20 03:00",
          "s20-02-20 04:00",
          "s20-02-20 05:00",
          "s20-02-20 06:00",
          "s20-02-20 07:00",
          "s20-02-20 08:00",
          "s20-02-20 09:00",
          "s20-02-20 10:00",
          "s20-02-20 11:00",
          "s20-02-20 12:00",
          "s20-02-20 13:00",
          "s20-02-20 14:00",
          "s20-02-20 15:00",
          "s20-02-20 16:00",
          "s20-02-20 17:00",
          "s20-02-20 18:00",
          "s20-02-20 19:00",
          "s20-02-20 20:00",
          "s20-02-20 21:00",
          "s20-02-20 22:00",
          "s20-02-20 23:00",
          "s20-02-21 01:00",
          "s20-02-21 02:00",
          "s20-02-21 03:00",
          "s20-02-21 04:00",
          "s20-02-21 05:00",
          "s20-02-21 06:00",
          "s20-02-21 07:00",
          "s20-02-21 08:00",
          "s20-02-21 09:00",
          "s20-02-21 10:00",
          "s20-02-21 11:00",
          "s20-02-21 12:00",
          "s20-02-21 13:00",
          "s20-02-21 14:00",
          "s20-02-21 15:00",
          "s20-02-21 16:00",
          "s20-02-21 17:00",
          "s20-02-21 18:00",
          "s20-02-21 19:00",
          "s20-02-21 20:00",
          "s20-02-21 21:00",
          "s20-02-21 22:00",
          "s20-02-21 23:00",
          "s20-02-24 01:00",
          "s20-02-24 02:00",
          "s20-02-24 03:00",
          "s20-02-24 04:00",
          "s20-02-24 05:00",
          "s20-02-24 06:00",
          "s20-02-24 07:00",
          "s20-02-24 08:00",
          "s20-02-24 09:00",
          "s20-02-24 10:00",
          "s20-02-24 11:00",
          "s20-02-24 12:00",
          "s20-02-24 13:00",
          "s20-02-24 14:00",
          "s20-02-24 15:00",
          "s20-02-24 16:00",
          "s20-02-24 17:00",
          "s20-02-24 18:00",
          "s20-02-24 19:00",
          "s20-02-24 20:00",
          "s20-02-24 21:00",
          "s20-02-24 22:00",
          "s20-02-24 23:00",
          "s20-02-25 01:00",
          "s20-02-25 02:00",
          "s20-02-25 03:00",
          "s20-02-25 04:00",
          "s20-02-25 05:00",
          "s20-02-25 06:00",
          "s20-02-25 07:00",
          "s20-02-25 08:00",
          "s20-02-25 09:00",
          "s20-02-25 10:00",
          "s20-02-25 11:00",
          "s20-02-25 12:00",
          "s20-02-25 13:00",
          "s20-02-25 14:00",
          "s20-02-25 15:00",
          "s20-02-25 16:00",
          "s20-02-25 17:00",
          "s20-02-25 18:00",
          "s20-02-25 19:00",
          "s20-02-25 20:00",
          "s20-02-25 21:00",
          "s20-02-25 22:00",
          "s20-02-25 23:00",
          "s20-02-26 01:00",
          "s20-02-26 02:00",
          "s20-02-26 03:00",
          "s20-02-26 04:00",
          "s20-02-26 05:00",
          "s20-02-26 06:00",
          "s20-02-26 07:00",
          "s20-02-26 08:00",
          "s20-02-26 09:00",
          "s20-02-26 10:00",
          "s20-02-26 11:00",
          "s20-02-26 12:00",
          "s20-02-26 13:00",
          "s20-02-26 14:00",
          "s20-02-26 15:00",
          "s20-02-26 16:00",
          "s20-02-26 17:00",
          "s20-02-26 18:00",
          "s20-02-26 19:00",
          "s20-02-26 20:00",
          "s20-02-26 21:00",
          "s20-02-26 22:00",
          "s20-02-26 23:00",
          "s20-02-27 01:00",
          "s20-02-27 02:00",
          "s20-02-27 03:00",
          "s20-02-27 04:00",
          "s20-02-27 05:00",
          "s20-02-27 06:00",
          "s20-02-27 07:00",
          "s20-02-27 08:00",
          "s20-02-27 09:00",
          "s20-02-27 10:00",
          "s20-02-27 11:00",
          "s20-02-27 12:00",
          "s20-02-27 13:00",
          "s20-02-27 14:00",
          "s20-02-27 15:00",
          "s20-02-27 16:00",
          "s20-02-27 17:00",
          "s20-02-27 18:00",
          "s20-02-27 19:00",
          "s20-02-27 20:00",
          "s20-02-27 21:00",
          "s20-02-27 22:00",
          "s20-02-27 23:00",
          "s20-02-28 01:00",
          "s20-02-28 02:00",
          "s20-02-28 03:00",
          "s20-02-28 04:00",
          "s20-02-28 05:00",
          "s20-02-28 06:00",
          "s20-02-28 07:00",
          "s20-02-28 08:00",
          "s20-02-28 09:00",
          "s20-02-28 10:00",
          "s20-02-28 11:00",
          "s20-02-28 12:00",
          "s20-02-28 13:00",
          "s20-02-28 14:00",
          "s20-02-28 15:00",
          "s20-02-28 16:00",
          "s20-02-28 17:00",
          "s20-02-28 18:00",
          "s20-02-28 19:00",
          "s20-02-28 20:00",
          "s20-02-28 21:00",
          "s20-02-28 22:00",
          "s20-02-28 23:00",
          "s20-03-02 01:00",
          "s20-03-02 02:00",
          "s20-03-02 03:00",
          "s20-03-02 04:00",
          "s20-03-02 05:00",
          "s20-03-02 06:00",
          "s20-03-02 07:00",
          "s20-03-02 08:00",
          "s20-03-02 09:00",
          "s20-03-02 10:00",
          "s20-03-02 11:00",
          "s20-03-02 12:00",
          "s20-03-02 13:00",
          "s20-03-02 14:00",
          "s20-03-02 15:00",
          "s20-03-02 16:00",
          "s20-03-02 17:00",
          "s20-03-02 18:00",
          "s20-03-02 19:00",
          "s20-03-02 20:00",
          "s20-03-02 21:00",
          "s20-03-02 22:00",
          "s20-03-02 23:00",
          "s20-03-03 01:00",
          "s20-03-03 02:00",
          "s20-03-03 03:00",
          "s20-03-03 04:00",
          "s20-03-03 05:00",
          "s20-03-03 06:00",
          "s20-03-03 07:00",
          "s20-03-03 08:00",
          "s20-03-03 09:00",
          "s20-03-03 10:00",
          "s20-03-03 11:00",
          "s20-03-03 12:00",
          "s20-03-03 13:00",
          "s20-03-03 14:00",
          "s20-03-03 15:00",
          "s20-03-03 16:00",
          "s20-03-03 17:00",
          "s20-03-03 18:00",
          "s20-03-03 19:00",
          "s20-03-03 20:00",
          "s20-03-03 21:00",
          "s20-03-03 22:00",
          "s20-03-03 23:00",
          "s20-03-04 01:00",
          "s20-03-04 02:00",
          "s20-03-04 03:00",
          "s20-03-04 04:00",
          "s20-03-04 05:00",
          "s20-03-04 06:00",
          "s20-03-04 07:00",
          "s20-03-04 08:00",
          "s20-03-04 09:00",
          "s20-03-04 10:00",
          "s20-03-04 11:00",
          "s20-03-04 12:00",
          "s20-03-04 13:00",
          "s20-03-04 14:00",
          "s20-03-04 15:00",
          "s20-03-04 16:00",
          "s20-03-04 17:00",
          "s20-03-04 18:00",
          "s20-03-04 19:00",
          "s20-03-04 20:00",
          "s20-03-04 21:00",
          "s20-03-04 22:00",
          "s20-03-04 23:00",
          "s20-03-05 01:00",
          "s20-03-05 02:00",
          "s20-03-05 03:00",
          "s20-03-05 04:00",
          "s20-03-05 05:00",
          "s20-03-05 06:00",
          "s20-03-05 07:00",
          "s20-03-05 08:00",
          "s20-03-05 09:00",
          "s20-03-05 10:00",
          "s20-03-05 11:00",
          "s20-03-05 12:00",
          "s20-03-05 13:00",
          "s20-03-05 14:00",
          "s20-03-05 15:00",
          "s20-03-05 16:00",
          "s20-03-05 17:00",
          "s20-03-05 18:00",
          "s20-03-05 19:00",
          "s20-03-05 20:00",
          "s20-03-05 21:00",
          "s20-03-05 22:00",
          "s20-03-05 23:00",
          "s20-03-06 00:00",
          "s20-03-06 01:00",
          "s20-03-06 02:00",
          "s20-03-06 03:00",
          "s20-03-06 04:00",
          "s20-03-06 05:00",
          "s20-03-06 06:00",
          "s20-03-06 07:00",
          "s20-03-06 08:00",
          "s20-03-06 09:00",
          "s20-03-06 10:00",
          "s20-03-06 11:00",
          "s20-03-06 12:00",
          "s20-03-06 13:00",
          "s20-03-06 14:00",
          "s20-03-06 15:00",
          "s20-03-06 16:00",
          "s20-03-06 17:00",
          "s20-03-06 18:00",
          "s20-03-06 19:00",
          "s20-03-06 20:00",
          "s20-03-06 21:00",
          "s20-03-06 22:00",
          "s20-03-06 23:00",
          "s20-03-09 01:00",
          "s20-03-09 02:00",
          "s20-03-09 03:00",
          "s20-03-09 04:00",
          "s20-03-09 05:00",
          "s20-03-09 06:00",
          "s20-03-09 07:00",
          "s20-03-09 08:00",
          "s20-03-09 09:00",
          "s20-03-09 10:00",
          "s20-03-09 11:00",
          "s20-03-09 12:00",
          "s20-03-09 13:00",
          "s20-03-09 14:00",
          "s20-03-09 15:00",
          "s20-03-09 16:00",
          "s20-03-09 17:00",
          "s20-03-09 18:00",
          "s20-03-09 19:00",
          "s20-03-09 20:00",
          "s20-03-09 21:00",
          "s20-03-09 22:00",
          "s20-03-09 23:00",
          "s20-03-10 01:00",
          "s20-03-10 02:00",
          "s20-03-10 03:00",
          "s20-03-10 04:00",
          "s20-03-10 05:00",
          "s20-03-10 06:00",
          "s20-03-10 07:00",
          "s20-03-10 08:00",
          "s20-03-10 09:00",
          "s20-03-10 10:00",
          "s20-03-10 11:00",
          "s20-03-10 12:00",
          "s20-03-10 13:00",
          "s20-03-10 14:00",
          "s20-03-10 15:00",
          "s20-03-10 16:00",
          "s20-03-10 17:00",
          "s20-03-10 18:00",
          "s20-03-10 19:00",
          "s20-03-10 20:00",
          "s20-03-10 21:00",
          "s20-03-10 22:00",
          "s20-03-10 23:00",
          "s20-03-11 01:00",
          "s20-03-11 02:00",
          "s20-03-11 03:00",
          "s20-03-11 04:00",
          "s20-03-11 05:00",
          "s20-03-11 06:00",
          "s20-03-11 07:00",
          "s20-03-11 08:00",
          "s20-03-11 09:00",
          "s20-03-11 10:00",
          "s20-03-11 11:00",
          "s20-03-11 12:00",
          "s20-03-11 13:00",
          "s20-03-11 14:00",
          "s20-03-11 15:00",
          "s20-03-11 16:00",
          "s20-03-11 17:00",
          "s20-03-11 18:00",
          "s20-03-11 19:00",
          "s20-03-11 20:00",
          "s20-03-11 21:00",
          "s20-03-11 22:00",
          "s20-03-11 23:00",
          "s20-03-12 01:00",
          "s20-03-12 02:00",
          "s20-03-12 03:00",
          "s20-03-12 04:00",
          "s20-03-12 05:00",
          "s20-03-12 06:00",
          "s20-03-12 07:00",
          "s20-03-12 08:00",
          "s20-03-12 09:00",
          "s20-03-12 10:00",
          "s20-03-12 11:00",
          "s20-03-12 12:00",
          "s20-03-12 13:00",
          "s20-03-12 14:00",
          "s20-03-12 15:00",
          "s20-03-12 16:00",
          "s20-03-12 17:00",
          "s20-03-12 18:00",
          "s20-03-12 19:00",
          "s20-03-12 20:00",
          "s20-03-12 21:00",
          "s20-03-12 22:00",
          "s20-03-12 23:00",
          "s20-03-13 01:00",
          "s20-03-13 02:00",
          "s20-03-13 03:00",
          "s20-03-13 04:00",
          "s20-03-13 05:00",
          "s20-03-13 06:00",
          "s20-03-13 07:00",
          "s20-03-13 08:00",
          "s20-03-13 09:00",
          "s20-03-13 10:00",
          "s20-03-13 11:00",
          "s20-03-13 12:00",
          "s20-03-13 13:00",
          "s20-03-13 14:00",
          "s20-03-13 15:00",
          "s20-03-13 16:00",
          "s20-03-13 17:00",
          "s20-03-13 18:00",
          "s20-03-13 19:00",
          "s20-03-13 20:00",
          "s20-03-13 21:00",
          "s20-03-13 22:00",
          "s20-03-13 23:00",
          "s20-03-16 01:00",
          "s20-03-16 02:00",
          "s20-03-16 03:00",
          "s20-03-16 04:00",
          "s20-03-16 05:00",
          "s20-03-16 06:00",
          "s20-03-16 07:00",
          "s20-03-16 08:00"
         ]
        },
        {
         "marker": {
          "color": "#0000FF",
          "size": 12
         },
         "mode": "markers",
         "type": "scatter",
         "x": [
          "s20-01-28 13:00",
          "s20-03-03 15:00",
          "s20-03-03 16:00",
          "s20-03-04 20:00"
         ],
         "y": {
          "bdata": "NDMzMzOcmEAK16NwPRWZQFK4HoXrGplAFK5H4XqQmUA=",
          "dtype": "f8"
         }
        },
        {
         "marker": {
          "color": "#00FF00",
          "size": 12
         },
         "mode": "markers",
         "type": "scatter",
         "x": [
          "s20-01-28 13:00",
          "s20-03-03 15:00",
          "s20-03-03 16:00",
          "s20-03-04 20:00"
         ],
         "y": {
          "bdata": "fBSuR+GnmEBxPQrXoziZQEjhehSuLJlAwfUoXI9JmUA=",
          "dtype": "f8"
         }
        },
        {
         "marker": {
          "color": "#FF0000",
          "size": 12
         },
         "mode": "markers",
         "type": "scatter",
         "x": [
          "s20-01-28 13:00",
          "s20-03-03 15:00",
          "s20-03-03 16:00",
          "s20-03-04 20:00"
         ],
         "y": {
          "bdata": "AAAAAACZmEA9CtejcAmZQAAAAAAAFZlAhetRuB6omUA=",
          "dtype": "f8"
         }
        },
        {
         "line": {
          "shape": "spline",
          "width": 2
         },
         "name": "EMA_200",
         "type": "scatter",
         "x": [
          "s20-01-27 10:00",
          "s20-01-27 11:00",
          "s20-01-27 12:00",
          "s20-01-27 13:00",
          "s20-01-27 14:00",
          "s20-01-27 15:00",
          "s20-01-27 16:00",
          "s20-01-27 17:00",
          "s20-01-27 18:00",
          "s20-01-27 19:00",
          "s20-01-27 20:00",
          "s20-01-27 21:00",
          "s20-01-27 23:00",
          "s20-01-28 00:00",
          "s20-01-28 01:00",
          "s20-01-28 02:00",
          "s20-01-28 03:00",
          "s20-01-28 04:00",
          "s20-01-28 05:00",
          "s20-01-28 06:00",
          "s20-01-28 07:00",
          "s20-01-28 08:00",
          "s20-01-28 09:00",
          "s20-01-28 10:00",
          "s20-01-28 11:00",
          "s20-01-28 12:00",
          "s20-01-28 13:00",
          "s20-01-28 14:00",
          "s20-01-28 15:00",
          "s20-01-28 16:00",
          "s20-01-28 17:00",
          "s20-01-28 18:00",
          "s20-01-28 19:00",
          "s20-01-28 20:00",
          "s20-01-28 21:00",
          "s20-01-28 23:00",
          "s20-01-29 00:00",
          "s20-01-29 01:00",
          "s20-01-29 02:00",
          "s20-01-29 03:00",
          "s20-01-29 04:00",
          "s20-01-29 05:00",
          "s20-01-29 06:00",
          "s20-01-29 07:00",
          "s20-01-29 08:00",
          "s20-01-29 09:00",
          "s20-01-29 10:00",
          "s20-01-29 11:00",
          "s20-01-29 12:00",
          "s20-01-29 13:00",
          "s20-01-29 14:00",
          "s20-01-29 15:00",
          "s20-01-29 16:00",
          "s20-01-29 17:00",
          "s20-01-29 18:00",
          "s20-01-29 19:00",
          "s20-01-29 20:00",
          "s20-01-29 21:00",
          "s20-01-29 23:00",
          "s20-01-30 00:00",
          "s20-01-30 01:00",
          "s20-01-30 02:00",
          "s20-01-30 03:00",
          "s20-01-30 04:00",
          "s20-01-30 05:00",
          "s20-01-30 06:00",
          "s20-01-30 07:00",
          "s20-01-30 08:00",
          "s20-01-30 09:00",
          "s20-01-30 10:00",
          "s20-01-30 11:00",
          "s20-01-30 12:00",
          "s20-01-30 13:00",
          "s20-01-30 14:00",
          "s20-01-30 15:00",
          "s20-01-30 16:00",
          "s20-01-30 17:00",
          "s20-01-30 18:00",
          "s20-01-30 19:00",
          "s20-01-30 20:00",
          "s20-01-30 21:00",
          "s20-01-30 23:00",
          "s20-01-31 00:00",
          "s20-01-31 01:00",
          "s20-01-31 02:00",
          "s20-01-31 03:00",
          "s20-01-31 04:00",
          "s20-01-31 05:00",
          "s20-01-31 06:00",
          "s20-01-31 07:00",
          "s20-01-31 08:00",
          "s20-01-31 09:00",
          "s20-01-31 10:00",
          "s20-01-31 11:00",
          "s20-01-31 12:00",
          "s20-01-31 13:00",
          "s20-01-31 14:00",
          "s20-01-31 15:00",
          "s20-01-31 16:00",
          "s20-01-31 17:00",
          "s20-01-31 18:00",
          "s20-01-31 19:00",
          "s20-01-31 20:00",
          "s20-01-31 21:00",
          "s20-02-03 01:00",
          "s20-02-03 02:00",
          "s20-02-03 03:00",
          "s20-02-03 04:00",
          "s20-02-03 05:00",
          "s20-02-03 06:00",
          "s20-02-03 07:00",
          "s20-02-03 08:00",
          "s20-02-03 09:00",
          "s20-02-03 10:00",
          "s20-02-03 11:00",
          "s20-02-03 12:00",
          "s20-02-03 13:00",
          "s20-02-03 14:00",
          "s20-02-03 15:00",
          "s20-02-03 16:00",
          "s20-02-03 17:00",
          "s20-02-03 18:00",
          "s20-02-03 19:00",
          "s20-02-03 20:00",
          "s20-02-03 21:00",
          "s20-02-03 22:00",
          "s20-02-03 23:00",
          "s20-02-04 01:00",
          "s20-02-04 02:00",
          "s20-02-04 03:00",
          "s20-02-04 04:00",
          "s20-02-04 05:00",
          "s20-02-04 06:00",
          "s20-02-04 07:00",
          "s20-02-04 08:00",
          "s20-02-04 09:00",
          "s20-02-04 10:00",
          "s20-02-04 11:00",
          "s20-02-04 12:00",
          "s20-02-04 13:00",
          "s20-02-04 14:00",
          "s20-02-04 15:00",
          "s20-02-04 16:00",
          "s20-02-04 17:00",
          "s20-02-04 18:00",
          "s20-02-04 19:00",
          "s20-02-04 20:00",
          "s20-02-04 21:00",
          "s20-02-04 22:00",
          "s20-02-04 23:00",
          "s20-02-05 01:00",
          "s20-02-05 02:00",
          "s20-02-05 03:00",
          "s20-02-05 04:00",
          "s20-02-05 05:00",
          "s20-02-05 06:00",
          "s20-02-05 07:00",
          "s20-02-05 08:00",
          "s20-02-05 09:00",
          "s20-02-05 10:00",
          "s20-02-05 11:00",
          "s20-02-05 12:00",
          "s20-02-05 13:00",
          "s20-02-05 14:00",
          "s20-02-05 15:00",
          "s20-02-05 16:00",
          "s20-02-05 17:00",
          "s20-02-05 18:00",
          "s20-02-05 19:00",
          "s20-02-05 20:00",
          "s20-02-05 21:00",
          "s20-02-05 22:00",
          "s20-02-05 23:00",
          "s20-02-06 01:00",
          "s20-02-06 02:00",
          "s20-02-06 03:00",
          "s20-02-06 04:00",
          "s20-02-06 05:00",
          "s20-02-06 06:00",
          "s20-02-06 07:00",
          "s20-02-06 08:00",
          "s20-02-06 09:00",
          "s20-02-06 10:00",
          "s20-02-06 11:00",
          "s20-02-06 12:00",
          "s20-02-06 13:00",
          "s20-02-06 14:00",
          "s20-02-06 15:00",
          "s20-02-06 16:00",
          "s20-02-06 17:00",
          "s20-02-06 18:00",
          "s20-02-06 19:00",
          "s20-02-06 20:00",
          "s20-02-06 21:00",
          "s20-02-06 22:00",
          "s20-02-06 23:00",
          "s20-02-07 01:00",
          "s20-02-07 02:00",
          "s20-02-07 03:00",
          "s20-02-07 04:00",
          "s20-02-07 05:00",
          "s20-02-07 06:00",
          "s20-02-07 07:00",
          "s20-02-07 08:00",
          "s20-02-07 09:00",
          "s20-02-07 10:00",
          "s20-02-07 11:00",
          "s20-02-07 12:00",
          "s20-02-07 13:00",
          "s20-02-07 14:00",
          "s20-02-07 15:00",
          "s20-02-07 16:00",
          "s20-02-07 17:00",
          "s20-02-07 18:00",
          "s20-02-07 19:00",
          "s20-02-07 20:00",
          "s20-02-07 21:00",
          "s20-02-07 22:00",
          "s20-02-07 23:00",
          "s20-02-10 01:00",
          "s20-02-10 02:00",
          "s20-02-10 03:00",
          "s20-02-10 04:00",
          "s20-02-10 05:00",
          "s20-02-10 06:00",
          "s20-02-10 07:00",
          "s20-02-10 08:00",
          "s20-02-10 09:00",
          "s20-02-10 10:00",
          "s20-02-10 11:00",
          "s20-02-10 12:00",
          "s20-02-10 13:00",
          "s20-02-10 14:00",
          "s20-02-10 15:00",
          "s20-02-10 16:00",
          "s20-02-10 17:00",
          "s20-02-10 18:00",
          "s20-02-10 19:00",
          "s20-02-10 20:00",
          "s20-02-10 21:00",
          "s20-02-10 22:00",
          "s20-02-10 23:00",
          "s20-02-11 01:00",
          "s20-02-11 02:00",
          "s20-02-11 03:00",
          "s20-02-11 04:00",
          "s20-02-11 05:00",
          "s20-02-11 06:00",
          "s20-02-11 07:00",
          "s20-02-11 08:00",
          "s20-02-11 09:00",
          "s20-02-11 10:00",
          "s20-02-11 11:00",
          "s20-02-11 12:00",
          "s20-02-11 13:00",
          "s20-02-11 14:00",
          "s20-02-11 15:00",
          "s20-02-11 16:00",
          "s20-02-11 17:00",
          "s20-02-11 18:00",
          "s20-02-11 19:00",
          "s20-02-11 20:00",
          "s20-02-11 21:00",
          "s20-02-11 22:00",
          "s20-02-11 23:00",
          "s20-02-12 01:00",
          "s20-02-12 02:00",
          "s20-02-12 03:00",
          "s20-02-12 04:00",
          "s20-02-12 05:00",
          "s20-02-12 06:00",
          "s20-02-12 07:00",
          "s20-02-12 08:00",
          "s20-02-12 09:00",
          "s20-02-12 10:00",
          "s20-02-12 11:00",
          "s20-02-12 12:00",
          "s20-02-12 13:00",
          "s20-02-12 14:00",
          "s20-02-12 15:00",
          "s20-02-12 16:00",
          "s20-02-12 17:00",
          "s20-02-12 18:00",
          "s20-02-12 19:00",
          "s20-02-12 20:00",
          "s20-02-12 21:00",
          "s20-02-12 22:00",
          "s20-02-12 23:00",
          "s20-02-13 01:00",
          "s20-02-13 02:00",
          "s20-02-13 03:00",
          "s20-02-13 04:00",
          "s20-02-13 05:00",
          "s20-02-13 06:00",
          "s20-02-13 07:00",
          "s20-02-13 08:00",
          "s20-02-13 09:00",
          "s20-02-13 10:00",
          "s20-02-13 11:00",
          "s20-02-13 12:00",
          "s20-02-13 13:00",
          "s20-02-13 14:00",
          "s20-02-13 15:00",
          "s20-02-13 16:00",
          "s20-02-13 17:00",
          "s20-02-13 18:00",
          "s20-02-13 19:00",
          "s20-02-13 20:00",
          "s20-02-13 21:00",
          "s20-02-13 22:00",
          "s20-02-13 23:00",
          "s20-02-14 01:00",
          "s20-02-14 02:00",
          "s20-02-14 03:00",
          "s20-02-14 04:00",
          "s20-02-14 05:00",
          "s20-02-14 06:00",
          "s20-02-14 07:00",
          "s20-02-14 08:00",
          "s20-02-14 09:00",
          "s20-02-14 10:00",
          "s20-02-14 11:00",
          "s20-02-14 12:00",
          "s20-02-14 13:00",
          "s20-02-14 14:00",
          "s20-02-14 15:00",
          "s20-02-14 16:00",
          "s20-02-14 17:00",
          "s20-02-14 18:00",
          "s20-02-14 19:00",
          "s20-02-14 20:00",
          "s20-02-14 21:00",
          "s20-02-14 22:00",
          "s20-02-14 23:00",
          "s20-02-17 01:00",
          "s20-02-17 02:00",
          "s20-02-17 03:00",
          "s20-02-17 04:00",
          "s20-02-17 05:00",
          "s20-02-17 06:00",
          "s20-02-17 07:00",
          "s20-02-17 08:00",
          "s20-02-17 09:00",
          "s20-02-17 10:00",
          "s20-02-17 11:00",
          "s20-02-17 12:00",
          "s20-02-17 13:00",
          "s20-02-17 14:00",
          "s20-02-17 15:00",
          "s20-02-17 16:00",
          "s20-02-17 17:00",
          "s20-02-17 18:00",
          "s20-02-17 19:00",
          "s20-02-17 20:00",
          "s20-02-18 01:00",
          "s20-02-18 02:00",
          "s20-02-18 03:00",
          "s20-02-18 04:00",
          "s20-02-18 05:00",
          "s20-02-18 06:00",
          "s20-02-18 07:00",
          "s20-02-18 08:00",
          "s20-02-18 09:00",
          "s20-02-18 10:00",
          "s20-02-18 11:00",
          "s20-02-18 12:00",
          "s20-02-18 13:00",
          "s20-02-18 14:00",
          "s20-02-18 15:00",
          "s20-02-18 16:00",
          "s20-02-18 17:00",
          "s20-02-18 18:00",
          "s20-02-18 19:00",
          "s20-02-18 20:00",
          "s20-02-18 21:00",
          "s20-02-18 22:00",
          "s20-02-18 23:00",
          "s20-02-19 01:00",
          "s20-02-19 02:00",
          "s20-02-19 03:00",
          "s20-02-19 04:00",
          "s20-02-19 05:00",
          "s20-02-19 06:00",
          "s20-02-19 07:00",
          "s20-02-19 08:00",
          "s20-02-19 09:00",
          "s20-02-19 10:00",
          "s20-02-19 11:00",
          "s20-02-19 12:00",
          "s20-02-19 13:00",
          "s20-02-19 14:00",
          "s20-02-19 15:00",
          "s20-02-19 16:00",
          "s20-02-19 17:00",
          "s20-02-19 18:00",
          "s20-02-19 19:00",
          "s20-02-19 20:00",
          "s20-02-19 21:00",
          "s20-02-19 22:00",
          "s20-02-19 23:00",
          "s20-02-20 01:00",
          "s20-02-20 02:00",
          "s20-02-20 03:00",
          "s20-02-20 04:00",
          "s20-02-20 05:00",
          "s20-02-20 06:00",
          "s20-02-20 07:00",
          "s20-02-20 08:00",
          "s20-02-20 09:00",
          "s20-02-20 10:00",
          "s20-02-20 11:00",
          "s20-02-20 12:00",
          "s20-02-20 13:00",
          "s20-02-20 14:00",
          "s20-02-20 15:00",
          "s20-02-20 16:00",
          "s20-02-20 17:00",
          "s20-02-20 18:00",
          "s20-02-20 19:00",
          "s20-02-20 20:00",
          "s20-02-20 21:00",
          "s20-02-20 22:00",
          "s20-02-20 23:00",
          "s20-02-21 01:00",
          "s20-02-21 02:00",
          "s20-02-21 03:00",
          "s20-02-21 04:00",
          "s20-02-21 05:00",
          "s20-02-21 06:00",
          "s20-02-21 07:00",
          "s20-02-21 08:00",
          "s20-02-21 09:00",
          "s20-02-21 10:00",
          "s20-02-21 11:00",
          "s20-02-21 12:00",
          "s20-02-21 13:00",
          "s20-02-21 14:00",
          "s20-02-21 15:00",
          "s20-02-21 16:00",
          "s20-02-21 17:00",
          "s20-02-21 18:00",
          "s20-02-21 19:00",
          "s20-02-21 20:00",
          "s20-02-21 21:00",
          "s20-02-21 22:00",
          "s20-02-21 23:00",
          "s20-02-24 01:00",
          "s20-02-24 02:00",
          "s20-02-24 03:00",
          "s20-02-24 04:00",
          "s20-02-24 05:00",
          "s20-02-24 06:00",
          "s20-02-24 07:00",
          "s20-02-24 08:00",
          "s20-02-24 09:00",
          "s20-02-24 10:00",
          "s20-02-24 11:00",
          "s20-02-24 12:00",
          "s20-02-24 13:00",
          "s20-02-24 14:00",
          "s20-02-24 15:00",
          "s20-02-24 16:00",
          "s20-02-24 17:00",
          "s20-02-24 18:00",
          "s20-02-24 19:00",
          "s20-02-24 20:00",
          "s20-02-24 21:00",
          "s20-02-24 22:00",
          "s20-02-24 23:00",
          "s20-02-25 01:00",
          "s20-02-25 02:00",
          "s20-02-25 03:00",
          "s20-02-25 04:00",
          "s20-02-25 05:00",
          "s20-02-25 06:00",
          "s20-02-25 07:00",
          "s20-02-25 08:00",
          "s20-02-25 09:00",
          "s20-02-25 10:00",
          "s20-02-25 11:00",
          "s20-02-25 12:00",
          "s20-02-25 13:00",
          "s20-02-25 14:00",
          "s20-02-25 15:00",
          "s20-02-25 16:00",
          "s20-02-25 17:00",
          "s20-02-25 18:00",
          "s20-02-25 19:00",
          "s20-02-25 20:00",
          "s20-02-25 21:00",
          "s20-02-25 22:00",
          "s20-02-25 23:00",
          "s20-02-26 01:00",
          "s20-02-26 02:00",
          "s20-02-26 03:00",
          "s20-02-26 04:00",
          "s20-02-26 05:00",
          "s20-02-26 06:00",
          "s20-02-26 07:00",
          "s20-02-26 08:00",
          "s20-02-26 09:00",
          "s20-02-26 10:00",
          "s20-02-26 11:00",
          "s20-02-26 12:00",
          "s20-02-26 13:00",
          "s20-02-26 14:00",
          "s20-02-26 15:00",
          "s20-02-26 16:00",
          "s20-02-26 17:00",
          "s20-02-26 18:00",
          "s20-02-26 19:00",
          "s20-02-26 20:00",
          "s20-02-26 21:00",
          "s20-02-26 22:00",
          "s20-02-26 23:00",
          "s20-02-27 01:00",
          "s20-02-27 02:00",
          "s20-02-27 03:00",
          "s20-02-27 04:00",
          "s20-02-27 05:00",
          "s20-02-27 06:00",
          "s20-02-27 07:00",
          "s20-02-27 08:00",
          "s20-02-27 09:00",
          "s20-02-27 10:00",
          "s20-02-27 11:00",
          "s20-02-27 12:00",
          "s20-02-27 13:00",
          "s20-02-27 14:00",
          "s20-02-27 15:00",
          "s20-02-27 16:00",
          "s20-02-27 17:00",
          "s20-02-27 18:00",
          "s20-02-27 19:00",
          "s20-02-27 20:00",
          "s20-02-27 21:00",
          "s20-02-27 22:00",
          "s20-02-27 23:00",
          "s20-02-28 01:00",
          "s20-02-28 02:00",
          "s20-02-28 03:00",
          "s20-02-28 04:00",
          "s20-02-28 05:00",
          "s20-02-28 06:00",
          "s20-02-28 07:00",
          "s20-02-28 08:00",
          "s20-02-28 09:00",
          "s20-02-28 10:00",
          "s20-02-28 11:00",
          "s20-02-28 12:00",
          "s20-02-28 13:00",
          "s20-02-28 14:00",
          "s20-02-28 15:00",
          "s20-02-28 16:00",
          "s20-02-28 17:00",
          "s20-02-28 18:00",
          "s20-02-28 19:00",
          "s20-02-28 20:00",
          "s20-02-28 21:00",
          "s20-02-28 22:00",
          "s20-02-28 23:00",
          "s20-03-02 01:00",
          "s20-03-02 02:00",
          "s20-03-02 03:00",
          "s20-03-02 04:00",
          "s20-03-02 05:00",
          "s20-03-02 06:00",
          "s20-03-02 07:00",
          "s20-03-02 08:00",
          "s20-03-02 09:00",
          "s20-03-02 10:00",
          "s20-03-02 11:00",
          "s20-03-02 12:00",
          "s20-03-02 13:00",
          "s20-03-02 14:00",
          "s20-03-02 15:00",
          "s20-03-02 16:00",
          "s20-03-02 17:00",
          "s20-03-02 18:00",
          "s20-03-02 19:00",
          "s20-03-02 20:00",
          "s20-03-02 21:00",
          "s20-03-02 22:00",
          "s20-03-02 23:00",
          "s20-03-03 01:00",
          "s20-03-03 02:00",
          "s20-03-03 03:00",
          "s20-03-03 04:00",
          "s20-03-03 05:00",
          "s20-03-03 06:00",
          "s20-03-03 07:00",
          "s20-03-03 08:00",
          "s20-03-03 09:00",
          "s20-03-03 10:00",
          "s20-03-03 11:00",
          "s20-03-03 12:00",
          "s20-03-03 13:00",
          "s20-03-03 14:00",
          "s20-03-03 15:00",
          "s20-03-03 16:00",
          "s20-03-03 17:00",
          "s20-03-03 18:00",
          "s20-03-03 19:00",
          "s20-03-03 20:00",
          "s20-03-03 21:00",
          "s20-03-03 22:00",
          "s20-03-03 23:00",
          "s20-03-04 01:00",
          "s20-03-04 02:00",
          "s20-03-04 03:00",
          "s20-03-04 04:00",
          "s20-03-04 05:00",
          "s20-03-04 06:00",
          "s20-03-04 07:00",
          "s20-03-04 08:00",
          "s20-03-04 09:00",
          "s20-03-04 10:00",
          "s20-03-04 11:00",
          "s20-03-04 12:00",
          "s20-03-04 13:00",
          "s20-03-04 14:00",
          "s20-03-04 15:00",
          "s20-03-04 16:00",
          "s20-03-04 17:00",
          "s20-03-04 18:00",
          "s20-03-04 19:00",
          "s20-03-04 20:00",
          "s20-03-04 21:00",
          "s20-03-04 22:00",
          "s20-03-04 23:00",
          "s20-03-05 01:00",
          "s20-03-05 02:00",
          "s20-03-05 03:00",
          "s20-03-05 04:00",
          "s20-03-05 05:00",
          "s20-03-05 06:00",
          "s20-03-05 07:00",
          "s20-03-05 08:00",
          "s20-03-05 09:00",
          "s20-03-05 10:00",
          "s20-03-05 11:00",
          "s20-03-05 12:00",
          "s20-03-05 13:00",
          "s20-03-05 14:00",
          "s20-03-05 15:00",
          "s20-03-05 16:00",
          "s20-03-05 17:00",
          "s20-03-05 18:00",
          "s20-03-05 19:00",
          "s20-03-05 20:00",
          "s20-03-05 21:00",
          "s20-03-05 22:00",
          "s20-03-05 23:00",
          "s20-03-06 00:00",
          "s20-03-06 01:00",
          "s20-03-06 02:00",
          "s20-03-06 03:00",
          "s20-03-06 04:00",
          "s20-03-06 05:00",
          "s20-03-06 06:00",
          "s20-03-06 07:00",
          "s20-03-06 08:00",
          "s20-03-06 09:00",
          "s20-03-06 10:00",
          "s20-03-06 11:00",
          "s20-03-06 12:00",
          "s20-03-06 13:00",
          "s20-03-06 14:00",
          "s20-03-06 15:00",
          "s20-03-06 16:00",
          "s20-03-06 17:00",
          "s20-03-06 18:00",
          "s20-03-06 19:00",
          "s20-03-06 20:00",
          "s20-03-06 21:00",
          "s20-03-06 22:00",
          "s20-03-06 23:00",
          "s20-03-09 01:00",
          "s20-03-09 02:00",
          "s20-03-09 03:00",
          "s20-03-09 04:00",
          "s20-03-09 05:00",
          "s20-03-09 06:00",
          "s20-03-09 07:00",
          "s20-03-09 08:00",
          "s20-03-09 09:00",
          "s20-03-09 10:00",
          "s20-03-09 11:00",
          "s20-03-09 12:00",
          "s20-03-09 13:00",
          "s20-03-09 14:00",
          "s20-03-09 15:00",
          "s20-03-09 16:00",
          "s20-03-09 17:00",
          "s20-03-09 18:00",
          "s20-03-09 19:00",
          "s20-03-09 20:00",
          "s20-03-09 21:00",
          "s20-03-09 22:00",
          "s20-03-09 23:00",
          "s20-03-10 01:00",
          "s20-03-10 02:00",
          "s20-03-10 03:00",
          "s20-03-10 04:00",
          "s20-03-10 05:00",
          "s20-03-10 06:00",
          "s20-03-10 07:00",
          "s20-03-10 08:00",
          "s20-03-10 09:00",
          "s20-03-10 10:00",
          "s20-03-10 11:00",
          "s20-03-10 12:00",
          "s20-03-10 13:00",
          "s20-03-10 14:00",
          "s20-03-10 15:00",
          "s20-03-10 16:00",
          "s20-03-10 17:00",
          "s20-03-10 18:00",
          "s20-03-10 19:00",
          "s20-03-10 20:00",
          "s20-03-10 21:00",
          "s20-03-10 22:00",
          "s20-03-10 23:00",
          "s20-03-11 01:00",
          "s20-03-11 02:00",
          "s20-03-11 03:00",
          "s20-03-11 04:00",
          "s20-03-11 05:00",
          "s20-03-11 06:00",
          "s20-03-11 07:00",
          "s20-03-11 08:00",
          "s20-03-11 09:00",
          "s20-03-11 10:00",
          "s20-03-11 11:00",
          "s20-03-11 12:00",
          "s20-03-11 13:00",
          "s20-03-11 14:00",
          "s20-03-11 15:00",
          "s20-03-11 16:00",
          "s20-03-11 17:00",
          "s20-03-11 18:00",
          "s20-03-11 19:00",
          "s20-03-11 20:00",
          "s20-03-11 21:00",
          "s20-03-11 22:00",
          "s20-03-11 23:00",
          "s20-03-12 01:00",
          "s20-03-12 02:00",
          "s20-03-12 03:00",
          "s20-03-12 04:00",
          "s20-03-12 05:00",
          "s20-03-12 06:00",
          "s20-03-12 07:00",
          "s20-03-12 08:00",
          "s20-03-12 09:00",
          "s20-03-12 10:00",
          "s20-03-12 11:00",
          "s20-03-12 12:00",
          "s20-03-12 13:00",
          "s20-03-12 14:00",
          "s20-03-12 15:00",
          "s20-03-12 16:00",
          "s20-03-12 17:00",
          "s20-03-12 18:00",
          "s20-03-12 19:00",
          "s20-03-12 20:00",
          "s20-03-12 21:00",
          "s20-03-12 22:00",
          "s20-03-12 23:00",
          "s20-03-13 01:00",
          "s20-03-13 02:00",
          "s20-03-13 03:00",
          "s20-03-13 04:00",
          "s20-03-13 05:00",
          "s20-03-13 06:00",
          "s20-03-13 07:00",
          "s20-03-13 08:00",
          "s20-03-13 09:00",
          "s20-03-13 10:00",
          "s20-03-13 11:00",
          "s20-03-13 12:00",
          "s20-03-13 13:00",
          "s20-03-13 14:00",
          "s20-03-13 15:00",
          "s20-03-13 16:00",
          "s20-03-13 17:00",
          "s20-03-13 18:00",
          "s20-03-13 19:00",
          "s20-03-13 20:00",
          "s20-03-13 21:00",
          "s20-03-13 22:00",
          "s20-03-13 23:00",
          "s20-03-16 01:00",
          "s20-03-16 02:00",
          "s20-03-16 03:00",
          "s20-03-16 04:00",
          "s20-03-16 05:00",
          "s20-03-16 06:00",
          "s20-03-16 07:00",
          "s20-03-16 08:00"
         ],
         "xaxis": "x",
         "y": {
          "bdata": "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",
          "dtype": "f8"
         },
         "yaxis": "y"
        }
       ],
       "layout": {
        "font": {
         "color": "#e1e1e1",
         "size": 8
        },
        "height": 250,
        "margin": {
         "b": 10,
         "l": 10,
         "r": 10,
         "t": 10
        },
        "paper_bgcolor": "#2c303c",
        "plot_bgcolor": "#2c303c",
        "template": {
         "data": {
          "bar": [
           {
            "error_x": {
             "color": "#2a3f5f"
            },
            "error_y": {
             "color": "#2a3f5f"
            },
            "marker": {
             "line": {
              "color": "#E5ECF6",
              "width": 0.5
             },
             "pattern": {
              "fillmode": "overlay",
              "size": 10,
              "solidity": 0.2
             }
            },
            "type": "bar"
           }
          ],
          "barpolar": [
           {
            "marker": {
             "line": {
              "color": "#E5ECF6",
              "width": 0.5
             },
             "pattern": {
              "fillmode": "overlay",
              "size": 10,
              "solidity": 0.2
             }
            },
            "type": "barpolar"
           }
          ],
          "carpet": [
           {
            "aaxis": {
             "endlinecolor": "#2a3f5f",
             "gridcolor": "white",
             "linecolor": "white",
             "minorgridcolor": "white",
             "startlinecolor": "#2a3f5f"
            },
            "baxis": {
             "endlinecolor": "#2a3f5f",
             "gridcolor": "white",
             "linecolor": "white",
             "minorgridcolor": "white",
             "startlinecolor": "#2a3f5f"
            },
            "type": "carpet"
           }
          ],
          "choropleth": [
           {
            "colorbar": {
             "outlinewidth": 0,
             "ticks": ""
            },
            "type": "choropleth"
           }
          ],
          "contour": [
           {
            "colorbar": {
             "outlinewidth": 0,
             "ticks": ""
            },
            "colorscale": [
             [
              0,
              "#0d0887"
             ],
             [
              0.1111111111111111,
              "#46039f"
             ],
             [
              0.2222222222222222,
              "#7201a8"
             ],
             [
              0.3333333333333333,
              "#9c179e"
             ],
             [
              0.4444444444444444,
              "#bd3786"
             ],
             [
              0.5555555555555556,
              "#d8576b"
             ],
             [
              0.6666666666666666,
              "#ed7953"
             ],
             [
              0.7777777777777778,
              "#fb9f3a"
             ],
             [
              0.8888888888888888,
              "#fdca26"
             ],
             [
              1,
              "#f0f921"
             ]
            ],
            "type": "contour"
           }
          ],
          "contourcarpet": [
           {
            "colorbar": {
             "outlinewidth": 0,
             "ticks": ""
            },
            "type": "contourcarpet"
           }
          ],
          "heatmap": [
           {
            "colorbar": {
             "outlinewidth": 0,
             "ticks": ""
            },
            "colorscale": [
             [
              0,
              "#0d0887"
             ],
             [
              0.1111111111111111,
              "#46039f"
             ],
             [
              0.2222222222222222,
              "#7201a8"
             ],
             [
              0.3333333333333333,
              "#9c179e"
             ],
             [
              0.4444444444444444,
              "#bd3786"
             ],
             [
              0.5555555555555556,
              "#d8576b"
             ],
             [
              0.6666666666666666,
              "#ed7953"
             ],
             [
              0.7777777777777778,
              "#fb9f3a"
             ],
             [
              0.8888888888888888,
              "#fdca26"
             ],
             [
              1,
              "#f0f921"
             ]
            ],
            "type": "heatmap"
           }
          ],
          "histogram": [
           {
            "marker": {
             "pattern": {
              "fillmode": "overlay",
              "size": 10,
              "solidity": 0.2
             }
            },
            "type": "histogram"
           }
          ],
          "histogram2d": [
           {
            "colorbar": {
             "outlinewidth": 0,
             "ticks": ""
            },
            "colorscale": [
             [
              0,
              "#0d0887"
             ],
             [
              0.1111111111111111,
              "#46039f"
             ],
             [
              0.2222222222222222,
              "#7201a8"
             ],
             [
              0.3333333333333333,
              "#9c179e"
             ],
             [
              0.4444444444444444,
              "#bd3786"
             ],
             [
              0.5555555555555556,
              "#d8576b"
             ],
             [
              0.6666666666666666,
              "#ed7953"
             ],
             [
              0.7777777777777778,
              "#fb9f3a"
             ],
             [
              0.8888888888888888,
              "#fdca26"
             ],
             [
              1,
              "#f0f921"
             ]
            ],
            "type": "histogram2d"
           }
          ],
          "histogram2dcontour": [
           {
            "colorbar": {
             "outlinewidth": 0,
             "ticks": ""
            },
            "colorscale": [
             [
              0,
              "#0d0887"
             ],
             [
              0.1111111111111111,
              "#46039f"
             ],
             [
              0.2222222222222222,
              "#7201a8"
             ],
             [
              0.3333333333333333,
              "#9c179e"
             ],
             [
              0.4444444444444444,
              "#bd3786"
             ],
             [
              0.5555555555555556,
              "#d8576b"
             ],
             [
              0.6666666666666666,
              "#ed7953"
             ],
             [
              0.7777777777777778,
              "#fb9f3a"
             ],
             [
              0.8888888888888888,
              "#fdca26"
             ],
             [
              1,
              "#f0f921"
             ]
            ],
            "type": "histogram2dcontour"
           }
          ],
          "mesh3d": [
           {
            "colorbar": {
             "outlinewidth": 0,
             "ticks": ""
            },
            "type": "mesh3d"
           }
          ],
          "parcoords": [
           {
            "line": {
             "colorbar": {
              "outlinewidth": 0,
              "ticks": ""
             }
            },
            "type": "parcoords"
           }
          ],
          "pie": [
           {
            "automargin": true,
            "type": "pie"
           }
          ],
          "scatter": [
           {
            "fillpattern": {
             "fillmode": "overlay",
             "size": 10,
             "solidity": 0.2
            },
            "type": "scatter"
           }
          ],
          "scatter3d": [
           {
            "line": {
             "colorbar": {
              "outlinewidth": 0,
              "ticks": ""
             }
            },
            "marker": {
             "colorbar": {
              "outlinewidth": 0,
              "ticks": ""
             }
            },
            "type": "scatter3d"
           }
          ],
          "scattercarpet": [
           {
            "marker": {
             "colorbar": {
              "outlinewidth": 0,
              "ticks": ""
             }
            },
            "type": "scattercarpet"
           }
          ],
          "scattergeo": [
           {
            "marker": {
             "colorbar": {
              "outlinewidth": 0,
              "ticks": ""
             }
            },
            "type": "scattergeo"
           }
          ],
          "scattergl": [
           {
            "marker": {
             "colorbar": {
              "outlinewidth": 0,
              "ticks": ""
             }
            },
            "type": "scattergl"
           }
          ],
          "scattermap": [
           {
            "marker": {
             "colorbar": {
              "outlinewidth": 0,
              "ticks": ""
             }
            },
            "type": "scattermap"
           }
          ],
          "scattermapbox": [
           {
            "marker": {
             "colorbar": {
              "outlinewidth": 0,
              "ticks": ""
             }
            },
            "type": "scattermapbox"
           }
          ],
          "scatterpolar": [
           {
            "marker": {
             "colorbar": {
              "outlinewidth": 0,
              "ticks": ""
             }
            },
            "type": "scatterpolar"
           }
          ],
          "scatterpolargl": [
           {
            "marker": {
             "colorbar": {
              "outlinewidth": 0,
              "ticks": ""
             }
            },
            "type": "scatterpolargl"
           }
          ],
          "scatterternary": [
           {
            "marker": {
             "colorbar": {
              "outlinewidth": 0,
              "ticks": ""
             }
            },
            "type": "scatterternary"
           }
          ],
          "surface": [
           {
            "colorbar": {
             "outlinewidth": 0,
             "ticks": ""
            },
            "colorscale": [
             [
              0,
              "#0d0887"
             ],
             [
              0.1111111111111111,
              "#46039f"
             ],
             [
              0.2222222222222222,
              "#7201a8"
             ],
             [
              0.3333333333333333,
              "#9c179e"
             ],
             [
              0.4444444444444444,
              "#bd3786"
             ],
             [
              0.5555555555555556,
              "#d8576b"
             ],
             [
              0.6666666666666666,
              "#ed7953"
             ],
             [
              0.7777777777777778,
              "#fb9f3a"
             ],
             [
              0.8888888888888888,
              "#fdca26"
             ],
             [
              1,
              "#f0f921"
             ]
            ],
            "type": "surface"
           }
          ],
          "table": [
           {
            "cells": {
             "fill": {
              "color": "#EBF0F8"
             },
             "line": {
              "color": "white"
             }
            },
            "header": {
             "fill": {
              "color": "#C8D4E3"
             },
             "line": {
              "color": "white"
             }
            },
            "type": "table"
           }
          ]
         },
         "layout": {
          "annotationdefaults": {
           "arrowcolor": "#2a3f5f",
           "arrowhead": 0,
           "arrowwidth": 1
          },
          "autotypenumbers": "strict",
          "coloraxis": {
           "colorbar": {
            "outlinewidth": 0,
            "ticks": ""
           }
          },
          "colorscale": {
           "diverging": [
            [
             0,
             "#8e0152"
            ],
            [
             0.1,
             "#c51b7d"
            ],
            [
             0.2,
             "#de77ae"
            ],
            [
             0.3,
             "#f1b6da"
            ],
            [
             0.4,
             "#fde0ef"
            ],
            [
             0.5,
             "#f7f7f7"
            ],
            [
             0.6,
             "#e6f5d0"
            ],
            [
             0.7,
             "#b8e186"
            ],
            [
             0.8,
             "#7fbc41"
            ],
            [
             0.9,
             "#4d9221"
            ],
            [
             1,
             "#276419"
            ]
           ],
           "sequential": [
            [
             0,
             "#0d0887"
            ],
            [
             0.1111111111111111,
             "#46039f"
            ],
            [
             0.2222222222222222,
             "#7201a8"
            ],
            [
             0.3333333333333333,
             "#9c179e"
            ],
            [
             0.4444444444444444,
             "#bd3786"
            ],
            [
             0.5555555555555556,
             "#d8576b"
            ],
            [
             0.6666666666666666,
             "#ed7953"
            ],
            [
             0.7777777777777778,
             "#fb9f3a"
            ],
            [
             0.8888888888888888,
             "#fdca26"
            ],
            [
             1,
             "#f0f921"
            ]
           ],
           "sequentialminus": [
            [
             0,
             "#0d0887"
            ],
            [
             0.1111111111111111,
             "#46039f"
            ],
            [
             0.2222222222222222,
             "#7201a8"
            ],
            [
             0.3333333333333333,
             "#9c179e"
            ],
            [
             0.4444444444444444,
             "#bd3786"
            ],
            [
             0.5555555555555556,
             "#d8576b"
            ],
            [
             0.6666666666666666,
             "#ed7953"
            ],
            [
             0.7777777777777778,
             "#fb9f3a"
            ],
            [
             0.8888888888888888,
             "#fdca26"
            ],
            [
             1,
             "#f0f921"
            ]
           ]
          },
          "colorway": [
           "#636efa",
           "#EF553B",
           "#00cc96",
           "#ab63fa",
           "#FFA15A",
           "#19d3f3",
           "#FF6692",
           "#B6E880",
           "#FF97FF",
           "#FECB52"
          ],
          "font": {
           "color": "#2a3f5f"
          },
          "geo": {
           "bgcolor": "white",
           "lakecolor": "white",
           "landcolor": "#E5ECF6",
           "showlakes": true,
           "showland": true,
           "subunitcolor": "white"
          },
          "hoverlabel": {
           "align": "left"
          },
          "hovermode": "closest",
          "mapbox": {
           "style": "light"
          },
          "paper_bgcolor": "white",
          "plot_bgcolor": "#E5ECF6",
          "polar": {
           "angularaxis": {
            "gridcolor": "white",
            "linecolor": "white",
            "ticks": ""
           },
           "bgcolor": "#E5ECF6",
           "radialaxis": {
            "gridcolor": "white",
            "linecolor": "white",
            "ticks": ""
           }
          },
          "scene": {
           "xaxis": {
            "backgroundcolor": "#E5ECF6",
            "gridcolor": "white",
            "gridwidth": 2,
            "linecolor": "white",
            "showbackground": true,
            "ticks": "",
            "zerolinecolor": "white"
           },
           "yaxis": {
            "backgroundcolor": "#E5ECF6",
            "gridcolor": "white",
            "gridwidth": 2,
            "linecolor": "white",
            "showbackground": true,
            "ticks": "",
            "zerolinecolor": "white"
           },
           "zaxis": {
            "backgroundcolor": "#E5ECF6",
            "gridcolor": "white",
            "gridwidth": 2,
            "linecolor": "white",
            "showbackground": true,
            "ticks": "",
            "zerolinecolor": "white"
           }
          },
          "shapedefaults": {
           "line": {
            "color": "#2a3f5f"
           }
          },
          "ternary": {
           "aaxis": {
            "gridcolor": "white",
            "linecolor": "white",
            "ticks": ""
           },
           "baxis": {
            "gridcolor": "white",
            "linecolor": "white",
            "ticks": ""
           },
           "bgcolor": "#E5ECF6",
           "caxis": {
            "gridcolor": "white",
            "linecolor": "white",
            "ticks": ""
           }
          },
          "title": {
           "x": 0.05
          },
          "xaxis": {
           "automargin": true,
           "gridcolor": "white",
           "linecolor": "white",
           "ticks": "",
           "title": {
            "standoff": 15
           },
           "zerolinecolor": "white",
           "zerolinewidth": 2
          },
          "yaxis": {
           "automargin": true,
           "gridcolor": "white",
           "linecolor": "white",
           "ticks": "",
           "title": {
            "standoff": 15
           },
           "zerolinecolor": "white",
           "zerolinewidth": 2
          }
         }
        },
        "width": 900,
        "xaxis": {
         "anchor": "y",
         "domain": [
          0,
          0.94
         ],
         "gridcolor": "#1f292f",
         "nticks": 5,
         "rangeslider": {
          "visible": false
         }
        },
        "yaxis": {
         "anchor": "x",
         "domain": [
          0,
          1
         ],
         "gridcolor": "#1f292f"
        },
        "yaxis2": {
         "anchor": "x",
         "gridcolor": "#1f292f",
         "overlaying": "y",
         "side": "right"
        }
       }
      }
     },
     "metadata": {},
     "output_type": "display_data"
    }
   ],
   "source": [
    "df_plot = df_slim.iloc[200:1000]\n",
    "cp = CandlePlot(df_plot, candles=True)\n",
    "\n",
    "trades = cp.df_plot[cp.df_plot.SIGNAL != NONE]\n",
    "\n",
    "markers = ['mid_c', 'TP', 'SL']\n",
    "marker_colors = ['#0000FF', '#00FF00', '#FF0000']\n",
    "\n",
    "for i in range(3):\n",
    "    cp.fig.add_trace(go.Scatter(\n",
    "        x = trades.sTime,\n",
    "        y = trades[markers[i]],\n",
    "        mode = 'markers',\n",
    "        marker=dict(color=marker_colors[i], size=12)\n",
    "    ))\n",
    "\n",
    "cp.show_plot(line_traces=[\"EMA_200\"], height=250)"
   ]
  },
  {
   "cell_type": "code",
   "execution_count": 66,
   "id": "48459b4f",
   "metadata": {},
   "outputs": [],
   "source": [
    "class Trade:\n",
    "    def __init__(self, row):\n",
    "        self.running = True\n",
    "        self.start_index = row.name\n",
    "        \n",
    "        if row.SIGNAL == BUY:\n",
    "            self.start_price = row.ask_c\n",
    "            self.trigger_price = row.ask_c\n",
    "        else:\n",
    "            self.start_price = row.bid_c\n",
    "            self.trigger_price = row.bid_c\n",
    "            \n",
    "        self.SIGNAL = row.SIGNAL\n",
    "        self.TP = row.TP\n",
    "        self.SL = row.SL\n",
    "        self.result = 0.0\n",
    "        self.end_time = row.time\n",
    "        self.start_time = row.time\n",
    "        self.duration = 0\n",
    "        \n",
    "    def close_trade(self, row, result, trigger_price):\n",
    "        self.running = False\n",
    "        self.result = result\n",
    "        self.end_time = row.time\n",
    "        self.trigger_price = trigger_price\n",
    "        \n",
    "    def update(self, row):\n",
    "        self.duration += 1\n",
    "        if self.SIGNAL == BUY:\n",
    "            if row.bid_h >= self.TP:\n",
    "                self.close_trade(row, PROFIT_FACTOR, row.bid_h)\n",
    "            elif row.bid_l <= self.SL:\n",
    "                self.close_trade(row, LOSS_FACTOR, row.bid_l)\n",
    "        if self.SIGNAL == SELL:\n",
    "            if row.ask_l <= self.TP:\n",
    "                self.close_trade(row, PROFIT_FACTOR, row.ask_l)\n",
    "            elif row.ask_h >= self.SL:\n",
    "                self.close_trade(row, LOSS_FACTOR, row.ask_h)    "
   ]
  },
  {
   "cell_type": "code",
   "execution_count": 67,
   "id": "f5fa22a7",
   "metadata": {},
   "outputs": [],
   "source": [
    "open_trades = []\n",
    "closed_trades = []\n",
    "\n",
    "for index, row in df_slim.iterrows():\n",
    "    for ot in open_trades:\n",
    "        ot.update(row)\n",
    "        if ot.running == False:\n",
    "            closed_trades.append(ot)\n",
    "    open_trades = [x for x in open_trades if x.running == True]\n",
    "    \n",
    "    if row.SIGNAL != NONE:\n",
    "        open_trades.append(Trade(row))    "
   ]
  },
  {
   "cell_type": "code",
   "execution_count": 68,
   "id": "4020ad76",
   "metadata": {},
   "outputs": [],
   "source": [
    "df_results = pd.DataFrame.from_dict([vars(x) for x in closed_trades])"
   ]
  },
  {
   "cell_type": "code",
   "execution_count": 69,
   "id": "0f165f2a",
   "metadata": {},
   "outputs": [
    {
     "data": {
      "text/html": [
       "<div>\n",
       "<style scoped>\n",
       "    .dataframe tbody tr th:only-of-type {\n",
       "        vertical-align: middle;\n",
       "    }\n",
       "\n",
       "    .dataframe tbody tr th {\n",
       "        vertical-align: top;\n",
       "    }\n",
       "\n",
       "    .dataframe thead th {\n",
       "        text-align: right;\n",
       "    }\n",
       "</style>\n",
       "<table border=\"1\" class=\"dataframe\">\n",
       "  <thead>\n",
       "    <tr style=\"text-align: right;\">\n",
       "      <th></th>\n",
       "      <th>running</th>\n",
       "      <th>start_index</th>\n",
       "      <th>start_price</th>\n",
       "      <th>trigger_price</th>\n",
       "      <th>SIGNAL</th>\n",
       "      <th>TP</th>\n",
       "      <th>SL</th>\n",
       "      <th>result</th>\n",
       "      <th>end_time</th>\n",
       "      <th>start_time</th>\n",
       "      <th>duration</th>\n",
       "    </tr>\n",
       "  </thead>\n",
       "  <tbody>\n",
       "    <tr>\n",
       "      <th>124</th>\n",
       "      <td>False</td>\n",
       "      <td>30291</td>\n",
       "      <td>2763.14</td>\n",
       "      <td>2763.60</td>\n",
       "      <td>1</td>\n",
       "      <td>2743.10</td>\n",
       "      <td>2769.82</td>\n",
       "      <td>3.0</td>\n",
       "      <td>2025-01-27 02:00:00</td>\n",
       "      <td>2025-01-27 01:00:00</td>\n",
       "      <td>1</td>\n",
       "    </tr>\n",
       "    <tr>\n",
       "      <th>125</th>\n",
       "      <td>False</td>\n",
       "      <td>30348</td>\n",
       "      <td>2756.70</td>\n",
       "      <td>2759.44</td>\n",
       "      <td>1</td>\n",
       "      <td>2749.20</td>\n",
       "      <td>2759.20</td>\n",
       "      <td>3.0</td>\n",
       "      <td>2025-01-29 13:00:00</td>\n",
       "      <td>2025-01-29 12:00:00</td>\n",
       "      <td>1</td>\n",
       "    </tr>\n",
       "    <tr>\n",
       "      <th>126</th>\n",
       "      <td>False</td>\n",
       "      <td>30351</td>\n",
       "      <td>2754.33</td>\n",
       "      <td>2756.23</td>\n",
       "      <td>1</td>\n",
       "      <td>2738.88</td>\n",
       "      <td>2759.48</td>\n",
       "      <td>3.0</td>\n",
       "      <td>2025-01-29 16:00:00</td>\n",
       "      <td>2025-01-29 15:00:00</td>\n",
       "      <td>1</td>\n",
       "    </tr>\n",
       "    <tr>\n",
       "      <th>127</th>\n",
       "      <td>False</td>\n",
       "      <td>30694</td>\n",
       "      <td>2925.95</td>\n",
       "      <td>2930.89</td>\n",
       "      <td>1</td>\n",
       "      <td>2889.11</td>\n",
       "      <td>2938.23</td>\n",
       "      <td>3.0</td>\n",
       "      <td>2025-02-19 16:00:00</td>\n",
       "      <td>2025-02-19 15:00:00</td>\n",
       "      <td>1</td>\n",
       "    </tr>\n",
       "    <tr>\n",
       "      <th>128</th>\n",
       "      <td>False</td>\n",
       "      <td>31031</td>\n",
       "      <td>2912.01</td>\n",
       "      <td>2915.64</td>\n",
       "      <td>1</td>\n",
       "      <td>2899.41</td>\n",
       "      <td>2916.21</td>\n",
       "      <td>3.0</td>\n",
       "      <td>2025-03-12 07:00:00</td>\n",
       "      <td>2025-03-12 06:00:00</td>\n",
       "      <td>1</td>\n",
       "    </tr>\n",
       "  </tbody>\n",
       "</table>\n",
       "</div>"
      ],
      "text/plain": [
       "     running  start_index  start_price  trigger_price  SIGNAL       TP  \\\n",
       "124    False        30291      2763.14        2763.60       1  2743.10   \n",
       "125    False        30348      2756.70        2759.44       1  2749.20   \n",
       "126    False        30351      2754.33        2756.23       1  2738.88   \n",
       "127    False        30694      2925.95        2930.89       1  2889.11   \n",
       "128    False        31031      2912.01        2915.64       1  2899.41   \n",
       "\n",
       "          SL  result            end_time          start_time  duration  \n",
       "124  2769.82     3.0 2025-01-27 02:00:00 2025-01-27 01:00:00         1  \n",
       "125  2759.20     3.0 2025-01-29 13:00:00 2025-01-29 12:00:00         1  \n",
       "126  2759.48     3.0 2025-01-29 16:00:00 2025-01-29 15:00:00         1  \n",
       "127  2938.23     3.0 2025-02-19 16:00:00 2025-02-19 15:00:00         1  \n",
       "128  2916.21     3.0 2025-03-12 07:00:00 2025-03-12 06:00:00         1  "
      ]
     },
     "execution_count": 69,
     "metadata": {},
     "output_type": "execute_result"
    }
   ],
   "source": [
    "df_results.tail()"
   ]
  },
  {
   "cell_type": "code",
   "execution_count": 70,
   "id": "bd745bed",
   "metadata": {},
   "outputs": [
    {
     "data": {
      "text/plain": [
       "np.float64(335.0)"
      ]
     },
     "execution_count": 70,
     "metadata": {},
     "output_type": "execute_result"
    }
   ],
   "source": [
    "df_results.result.sum()"
   ]
  },
  {
   "cell_type": "code",
   "execution_count": 71,
   "id": "6aedb0c0",
   "metadata": {},
   "outputs": [
    {
     "name": "stdout",
     "output_type": "stream",
     "text": [
      "Win percentage 89.92248062015504\n"
     ]
    }
   ],
   "source": [
    "wp = (df_results[df_results.result > 0].shape[0] / df_results.shape[0]) * 100\n",
    "print(\"Win percentage\", wp)\n"
   ]
  },
  {
   "cell_type": "code",
   "execution_count": 72,
   "id": "47a21c43",
   "metadata": {},
   "outputs": [],
   "source": [
    "df_results = df_results.sort_values(by='end_time').reset_index(drop=True)"
   ]
  },
  {
   "cell_type": "code",
   "execution_count": 73,
   "id": "08ff4e23",
   "metadata": {},
   "outputs": [],
   "source": [
    "df_results['CUM_RES'] = df_results.result.cumsum()"
   ]
  },
  {
   "cell_type": "code",
   "execution_count": 74,
   "id": "400908ec",
   "metadata": {},
   "outputs": [
    {
     "data": {
      "application/vnd.plotly.v1+json": {
       "config": {
        "plotlyServerURL": "https://plot.ly"
       },
       "data": [
        {
         "line": {
          "width": 2
         },
         "type": "scatter",
         "x": [
          "2020-01-15T00:00:00.000000000",
          "2020-01-28T15:00:00.000000000",
          "2020-03-03T16:00:00.000000000",
          "2020-03-03T17:00:00.000000000",
          "2020-03-04T21:00:00.000000000",
          "2020-03-25T11:00:00.000000000",
          "2020-03-25T14:00:00.000000000",
          "2020-03-26T08:00:00.000000000",
          "2020-04-03T14:00:00.000000000",
          "2020-04-07T17:00:00.000000000",
          "2020-04-15T10:00:00.000000000",
          "2020-05-21T04:00:00.000000000",
          "2020-06-07T10:00:00.000000000",
          "2020-06-14T09:00:00.000000000",
          "2020-06-18T19:00:00.000000000",
          "2020-08-19T06:00:00.000000000",
          "2020-08-19T10:00:00.000000000",
          "2020-08-20T16:00:00.000000000",
          "2020-08-20T19:00:00.000000000",
          "2020-09-05T04:00:00.000000000",
          "2020-10-11T12:00:00.000000000",
          "2020-10-11T14:00:00.000000000",
          "2020-12-04T16:00:00.000000000",
          "2021-01-19T09:00:00.000000000",
          "2021-02-02T00:00:00.000000000",
          "2021-02-16T04:00:00.000000000",
          "2021-03-08T01:00:00.000000000",
          "2021-03-17T16:00:00.000000000",
          "2021-04-07T12:00:00.000000000",
          "2021-05-11T14:00:00.000000000",
          "2021-05-18T14:00:00.000000000",
          "2021-05-25T00:00:00.000000000",
          "2021-05-25T06:00:00.000000000",
          "2021-06-16T18:00:00.000000000",
          "2021-06-18T08:00:00.000000000",
          "2021-06-18T10:00:00.000000000",
          "2021-07-08T02:00:00.000000000",
          "2021-07-15T15:00:00.000000000",
          "2021-07-30T15:00:00.000000000",
          "2021-09-13T14:00:00.000000000",
          "2021-09-17T09:00:00.000000000",
          "2021-09-20T13:00:00.000000000",
          "2021-09-29T09:00:00.000000000",
          "2021-09-29T10:00:00.000000000",
          "2021-10-26T13:00:00.000000000",
          "2021-10-29T05:00:00.000000000",
          "2021-10-29T09:00:00.000000000",
          "2022-01-07T17:00:00.000000000",
          "2022-01-18T06:00:00.000000000",
          "2022-01-26T12:00:00.000000000",
          "2022-03-09T11:00:00.000000000",
          "2022-03-21T14:00:00.000000000",
          "2022-03-25T11:00:00.000000000",
          "2022-03-25T14:00:00.000000000",
          "2022-04-14T06:00:00.000000000",
          "2022-04-14T09:00:00.000000000",
          "2022-04-18T20:00:00.000000000",
          "2022-04-20T20:00:00.000000000",
          "2022-05-03T14:00:00.000000000",
          "2022-05-25T09:00:00.000000000",
          "2022-06-01T13:00:00.000000000",
          "2022-06-01T14:00:00.000000000",
          "2022-06-03T15:00:00.000000000",
          "2022-06-27T01:00:00.000000000",
          "2022-06-29T11:00:00.000000000",
          "2022-07-08T15:00:00.000000000",
          "2022-08-12T12:00:00.000000000",
          "2022-08-17T05:00:00.000000000",
          "2022-08-18T12:00:00.000000000",
          "2022-09-14T13:00:00.000000000",
          "2022-09-14T15:00:00.000000000",
          "2022-09-28T13:00:00.000000000",
          "2022-10-07T11:00:00.000000000",
          "2022-10-27T07:00:00.000000000",
          "2022-11-09T19:00:00.000000000",
          "2022-11-25T08:00:00.000000000",
          "2022-11-25T10:00:00.000000000",
          "2022-12-14T12:00:00.000000000",
          "2023-01-18T03:00:00.000000000",
          "2023-02-07T18:00:00.000000000",
          "2023-02-22T08:00:00.000000000",
          "2023-02-22T12:00:00.000000000",
          "2023-02-27T14:00:00.000000000",
          "2023-03-08T15:00:00.000000000",
          "2023-03-15T08:00:00.000000000",
          "2023-03-24T19:00:00.000000000",
          "2023-04-20T10:00:00.000000000",
          "2023-05-05T12:00:00.000000000",
          "2023-05-19T10:00:00.000000000",
          "2023-06-02T13:00:00.000000000",
          "2023-06-30T13:00:00.000000000",
          "2023-07-13T16:00:00.000000000",
          "2023-08-04T13:00:00.000000000",
          "2023-08-21T12:00:00.000000000",
          "2023-08-29T13:00:00.000000000",
          "2023-08-31T18:00:00.000000000",
          "2023-08-31T20:00:00.000000000",
          "2023-09-06T14:00:00.000000000",
          "2023-09-07T12:00:00.000000000",
          "2023-09-07T13:00:00.000000000",
          "2023-10-27T13:00:00.000000000",
          "2023-11-20T11:00:00.000000000",
          "2023-11-22T16:00:00.000000000",
          "2023-11-30T14:00:00.000000000",
          "2023-12-13T14:00:00.000000000",
          "2023-12-20T13:00:00.000000000",
          "2023-12-20T16:00:00.000000000",
          "2024-01-18T20:00:00.000000000",
          "2024-01-25T14:00:00.000000000",
          "2024-02-15T12:00:00.000000000",
          "2024-03-12T06:00:00.000000000",
          "2024-04-04T20:00:00.000000000",
          "2024-04-25T15:00:00.000000000",
          "2024-05-30T17:00:00.000000000",
          "2024-06-03T13:00:00.000000000",
          "2024-06-10T16:00:00.000000000",
          "2024-07-12T13:00:00.000000000",
          "2024-09-06T14:00:00.000000000",
          "2024-10-10T10:00:00.000000000",
          "2024-11-07T13:00:00.000000000",
          "2024-12-20T14:00:00.000000000",
          "2025-01-17T10:00:00.000000000",
          "2025-01-23T04:00:00.000000000",
          "2025-01-23T13:00:00.000000000",
          "2025-01-27T02:00:00.000000000",
          "2025-01-29T13:00:00.000000000",
          "2025-01-29T16:00:00.000000000",
          "2025-02-19T16:00:00.000000000",
          "2025-03-12T07:00:00.000000000"
         ],
         "y": {
          "bdata": "AAAAAAAACEAAAAAAAAAAQAAAAAAAABRAAAAAAAAAIEAAAAAAAAAmQAAAAAAAACxAAAAAAAAAMUAAAAAAAAA0QAAAAAAAADdAAAAAAAAAOkAAAAAAAAA9QAAAAAAAAEBAAAAAAAAAP0AAAAAAAABBQAAAAAAAgEBAAAAAAAAAQEAAAAAAAAA/QAAAAAAAAEFAAAAAAACAQEAAAAAAAABAQAAAAAAAAD9AAAAAAAAAQUAAAAAAAIBCQAAAAAAAAERAAAAAAACARUAAAAAAAABHQAAAAAAAgEZAAAAAAAAASEAAAAAAAIBJQAAAAAAAAElAAAAAAACASkAAAAAAAABMQAAAAAAAgE1AAAAAAAAAT0AAAAAAAEBQQAAAAAAAAFFAAAAAAADAUUAAAAAAAIBSQAAAAAAAQFNAAAAAAAAAVEAAAAAAAMBUQAAAAAAAgFVAAAAAAABAVkAAAAAAAABWQAAAAAAAwFZAAAAAAACAV0AAAAAAAEBYQAAAAAAAAFlAAAAAAADAWUAAAAAAAIBaQAAAAAAAQFtAAAAAAAAAXEAAAAAAAMBcQAAAAAAAgF1AAAAAAABAXkAAAAAAAABfQAAAAAAAwF9AAAAAAABAYEAAAAAAAKBgQAAAAAAAAGFAAAAAAABgYUAAAAAAAMBhQAAAAAAAIGJAAAAAAAAAYkAAAAAAAGBiQAAAAAAAwGJAAAAAAAAgY0AAAAAAAIBjQAAAAAAA4GNAAAAAAABAZEAAAAAAAKBkQAAAAAAAAGVAAAAAAABgZUAAAAAAAMBlQAAAAAAAIGZAAAAAAACAZkAAAAAAAOBmQAAAAAAAQGdAAAAAAACgZ0AAAAAAAABoQAAAAAAAYGhAAAAAAADAaEAAAAAAACBpQAAAAAAAgGlAAAAAAADgaUAAAAAAAEBqQAAAAAAAoGpAAAAAAAAAa0AAAAAAAGBrQAAAAAAAwGtAAAAAAAAgbEAAAAAAAIBsQAAAAAAA4GxAAAAAAABAbUAAAAAAAKBtQAAAAAAAAG5AAAAAAABgbkAAAAAAAMBuQAAAAAAAIG9AAAAAAACAb0AAAAAAAOBvQAAAAAAAIHBAAAAAAABQcEAAAAAAAIBwQAAAAAAAsHBAAAAAAADgcEAAAAAAABBxQAAAAAAAAHFAAAAAAAAwcUAAAAAAAGBxQAAAAAAAkHFAAAAAAADAcUAAAAAAAPBxQAAAAAAAIHJAAAAAAABQckAAAAAAAIByQAAAAAAAsHJAAAAAAADgckAAAAAAABBzQAAAAAAAQHNAAAAAAABwc0AAAAAAAKBzQAAAAAAA0HNAAAAAAAAAdEAAAAAAADB0QAAAAAAAYHRAAAAAAACQdEAAAAAAAMB0QAAAAAAA8HRA",
          "dtype": "f8"
         }
        }
       ],
       "layout": {
        "font": {
         "color": "#e1e1e1",
         "size": 8
        },
        "height": 400,
        "margin": {
         "b": 10,
         "l": 10,
         "r": 10,
         "t": 10
        },
        "paper_bgcolor": "#2c303c",
        "plot_bgcolor": "#2c303c",
        "template": {
         "data": {
          "bar": [
           {
            "error_x": {
             "color": "#2a3f5f"
            },
            "error_y": {
             "color": "#2a3f5f"
            },
            "marker": {
             "line": {
              "color": "#E5ECF6",
              "width": 0.5
             },
             "pattern": {
              "fillmode": "overlay",
              "size": 10,
              "solidity": 0.2
             }
            },
            "type": "bar"
           }
          ],
          "barpolar": [
           {
            "marker": {
             "line": {
              "color": "#E5ECF6",
              "width": 0.5
             },
             "pattern": {
              "fillmode": "overlay",
              "size": 10,
              "solidity": 0.2
             }
            },
            "type": "barpolar"
           }
          ],
          "carpet": [
           {
            "aaxis": {
             "endlinecolor": "#2a3f5f",
             "gridcolor": "white",
             "linecolor": "white",
             "minorgridcolor": "white",
             "startlinecolor": "#2a3f5f"
            },
            "baxis": {
             "endlinecolor": "#2a3f5f",
             "gridcolor": "white",
             "linecolor": "white",
             "minorgridcolor": "white",
             "startlinecolor": "#2a3f5f"
            },
            "type": "carpet"
           }
          ],
          "choropleth": [
           {
            "colorbar": {
             "outlinewidth": 0,
             "ticks": ""
            },
            "type": "choropleth"
           }
          ],
          "contour": [
           {
            "colorbar": {
             "outlinewidth": 0,
             "ticks": ""
            },
            "colorscale": [
             [
              0,
              "#0d0887"
             ],
             [
              0.1111111111111111,
              "#46039f"
             ],
             [
              0.2222222222222222,
              "#7201a8"
             ],
             [
              0.3333333333333333,
              "#9c179e"
             ],
             [
              0.4444444444444444,
              "#bd3786"
             ],
             [
              0.5555555555555556,
              "#d8576b"
             ],
             [
              0.6666666666666666,
              "#ed7953"
             ],
             [
              0.7777777777777778,
              "#fb9f3a"
             ],
             [
              0.8888888888888888,
              "#fdca26"
             ],
             [
              1,
              "#f0f921"
             ]
            ],
            "type": "contour"
           }
          ],
          "contourcarpet": [
           {
            "colorbar": {
             "outlinewidth": 0,
             "ticks": ""
            },
            "type": "contourcarpet"
           }
          ],
          "heatmap": [
           {
            "colorbar": {
             "outlinewidth": 0,
             "ticks": ""
            },
            "colorscale": [
             [
              0,
              "#0d0887"
             ],
             [
              0.1111111111111111,
              "#46039f"
             ],
             [
              0.2222222222222222,
              "#7201a8"
             ],
             [
              0.3333333333333333,
              "#9c179e"
             ],
             [
              0.4444444444444444,
              "#bd3786"
             ],
             [
              0.5555555555555556,
              "#d8576b"
             ],
             [
              0.6666666666666666,
              "#ed7953"
             ],
             [
              0.7777777777777778,
              "#fb9f3a"
             ],
             [
              0.8888888888888888,
              "#fdca26"
             ],
             [
              1,
              "#f0f921"
             ]
            ],
            "type": "heatmap"
           }
          ],
          "histogram": [
           {
            "marker": {
             "pattern": {
              "fillmode": "overlay",
              "size": 10,
              "solidity": 0.2
             }
            },
            "type": "histogram"
           }
          ],
          "histogram2d": [
           {
            "colorbar": {
             "outlinewidth": 0,
             "ticks": ""
            },
            "colorscale": [
             [
              0,
              "#0d0887"
             ],
             [
              0.1111111111111111,
              "#46039f"
             ],
             [
              0.2222222222222222,
              "#7201a8"
             ],
             [
              0.3333333333333333,
              "#9c179e"
             ],
             [
              0.4444444444444444,
              "#bd3786"
             ],
             [
              0.5555555555555556,
              "#d8576b"
             ],
             [
              0.6666666666666666,
              "#ed7953"
             ],
             [
              0.7777777777777778,
              "#fb9f3a"
             ],
             [
              0.8888888888888888,
              "#fdca26"
             ],
             [
              1,
              "#f0f921"
             ]
            ],
            "type": "histogram2d"
           }
          ],
          "histogram2dcontour": [
           {
            "colorbar": {
             "outlinewidth": 0,
             "ticks": ""
            },
            "colorscale": [
             [
              0,
              "#0d0887"
             ],
             [
              0.1111111111111111,
              "#46039f"
             ],
             [
              0.2222222222222222,
              "#7201a8"
             ],
             [
              0.3333333333333333,
              "#9c179e"
             ],
             [
              0.4444444444444444,
              "#bd3786"
             ],
             [
              0.5555555555555556,
              "#d8576b"
             ],
             [
              0.6666666666666666,
              "#ed7953"
             ],
             [
              0.7777777777777778,
              "#fb9f3a"
             ],
             [
              0.8888888888888888,
              "#fdca26"
             ],
             [
              1,
              "#f0f921"
             ]
            ],
            "type": "histogram2dcontour"
           }
          ],
          "mesh3d": [
           {
            "colorbar": {
             "outlinewidth": 0,
             "ticks": ""
            },
            "type": "mesh3d"
           }
          ],
          "parcoords": [
           {
            "line": {
             "colorbar": {
              "outlinewidth": 0,
              "ticks": ""
             }
            },
            "type": "parcoords"
           }
          ],
          "pie": [
           {
            "automargin": true,
            "type": "pie"
           }
          ],
          "scatter": [
           {
            "fillpattern": {
             "fillmode": "overlay",
             "size": 10,
             "solidity": 0.2
            },
            "type": "scatter"
           }
          ],
          "scatter3d": [
           {
            "line": {
             "colorbar": {
              "outlinewidth": 0,
              "ticks": ""
             }
            },
            "marker": {
             "colorbar": {
              "outlinewidth": 0,
              "ticks": ""
             }
            },
            "type": "scatter3d"
           }
          ],
          "scattercarpet": [
           {
            "marker": {
             "colorbar": {
              "outlinewidth": 0,
              "ticks": ""
             }
            },
            "type": "scattercarpet"
           }
          ],
          "scattergeo": [
           {
            "marker": {
             "colorbar": {
              "outlinewidth": 0,
              "ticks": ""
             }
            },
            "type": "scattergeo"
           }
          ],
          "scattergl": [
           {
            "marker": {
             "colorbar": {
              "outlinewidth": 0,
              "ticks": ""
             }
            },
            "type": "scattergl"
           }
          ],
          "scattermap": [
           {
            "marker": {
             "colorbar": {
              "outlinewidth": 0,
              "ticks": ""
             }
            },
            "type": "scattermap"
           }
          ],
          "scattermapbox": [
           {
            "marker": {
             "colorbar": {
              "outlinewidth": 0,
              "ticks": ""
             }
            },
            "type": "scattermapbox"
           }
          ],
          "scatterpolar": [
           {
            "marker": {
             "colorbar": {
              "outlinewidth": 0,
              "ticks": ""
             }
            },
            "type": "scatterpolar"
           }
          ],
          "scatterpolargl": [
           {
            "marker": {
             "colorbar": {
              "outlinewidth": 0,
              "ticks": ""
             }
            },
            "type": "scatterpolargl"
           }
          ],
          "scatterternary": [
           {
            "marker": {
             "colorbar": {
              "outlinewidth": 0,
              "ticks": ""
             }
            },
            "type": "scatterternary"
           }
          ],
          "surface": [
           {
            "colorbar": {
             "outlinewidth": 0,
             "ticks": ""
            },
            "colorscale": [
             [
              0,
              "#0d0887"
             ],
             [
              0.1111111111111111,
              "#46039f"
             ],
             [
              0.2222222222222222,
              "#7201a8"
             ],
             [
              0.3333333333333333,
              "#9c179e"
             ],
             [
              0.4444444444444444,
              "#bd3786"
             ],
             [
              0.5555555555555556,
              "#d8576b"
             ],
             [
              0.6666666666666666,
              "#ed7953"
             ],
             [
              0.7777777777777778,
              "#fb9f3a"
             ],
             [
              0.8888888888888888,
              "#fdca26"
             ],
             [
              1,
              "#f0f921"
             ]
            ],
            "type": "surface"
           }
          ],
          "table": [
           {
            "cells": {
             "fill": {
              "color": "#EBF0F8"
             },
             "line": {
              "color": "white"
             }
            },
            "header": {
             "fill": {
              "color": "#C8D4E3"
             },
             "line": {
              "color": "white"
             }
            },
            "type": "table"
           }
          ]
         },
         "layout": {
          "annotationdefaults": {
           "arrowcolor": "#2a3f5f",
           "arrowhead": 0,
           "arrowwidth": 1
          },
          "autotypenumbers": "strict",
          "coloraxis": {
           "colorbar": {
            "outlinewidth": 0,
            "ticks": ""
           }
          },
          "colorscale": {
           "diverging": [
            [
             0,
             "#8e0152"
            ],
            [
             0.1,
             "#c51b7d"
            ],
            [
             0.2,
             "#de77ae"
            ],
            [
             0.3,
             "#f1b6da"
            ],
            [
             0.4,
             "#fde0ef"
            ],
            [
             0.5,
             "#f7f7f7"
            ],
            [
             0.6,
             "#e6f5d0"
            ],
            [
             0.7,
             "#b8e186"
            ],
            [
             0.8,
             "#7fbc41"
            ],
            [
             0.9,
             "#4d9221"
            ],
            [
             1,
             "#276419"
            ]
           ],
           "sequential": [
            [
             0,
             "#0d0887"
            ],
            [
             0.1111111111111111,
             "#46039f"
            ],
            [
             0.2222222222222222,
             "#7201a8"
            ],
            [
             0.3333333333333333,
             "#9c179e"
            ],
            [
             0.4444444444444444,
             "#bd3786"
            ],
            [
             0.5555555555555556,
             "#d8576b"
            ],
            [
             0.6666666666666666,
             "#ed7953"
            ],
            [
             0.7777777777777778,
             "#fb9f3a"
            ],
            [
             0.8888888888888888,
             "#fdca26"
            ],
            [
             1,
             "#f0f921"
            ]
           ],
           "sequentialminus": [
            [
             0,
             "#0d0887"
            ],
            [
             0.1111111111111111,
             "#46039f"
            ],
            [
             0.2222222222222222,
             "#7201a8"
            ],
            [
             0.3333333333333333,
             "#9c179e"
            ],
            [
             0.4444444444444444,
             "#bd3786"
            ],
            [
             0.5555555555555556,
             "#d8576b"
            ],
            [
             0.6666666666666666,
             "#ed7953"
            ],
            [
             0.7777777777777778,
             "#fb9f3a"
            ],
            [
             0.8888888888888888,
             "#fdca26"
            ],
            [
             1,
             "#f0f921"
            ]
           ]
          },
          "colorway": [
           "#636efa",
           "#EF553B",
           "#00cc96",
           "#ab63fa",
           "#FFA15A",
           "#19d3f3",
           "#FF6692",
           "#B6E880",
           "#FF97FF",
           "#FECB52"
          ],
          "font": {
           "color": "#2a3f5f"
          },
          "geo": {
           "bgcolor": "white",
           "lakecolor": "white",
           "landcolor": "#E5ECF6",
           "showlakes": true,
           "showland": true,
           "subunitcolor": "white"
          },
          "hoverlabel": {
           "align": "left"
          },
          "hovermode": "closest",
          "mapbox": {
           "style": "light"
          },
          "paper_bgcolor": "white",
          "plot_bgcolor": "#E5ECF6",
          "polar": {
           "angularaxis": {
            "gridcolor": "white",
            "linecolor": "white",
            "ticks": ""
           },
           "bgcolor": "#E5ECF6",
           "radialaxis": {
            "gridcolor": "white",
            "linecolor": "white",
            "ticks": ""
           }
          },
          "scene": {
           "xaxis": {
            "backgroundcolor": "#E5ECF6",
            "gridcolor": "white",
            "gridwidth": 2,
            "linecolor": "white",
            "showbackground": true,
            "ticks": "",
            "zerolinecolor": "white"
           },
           "yaxis": {
            "backgroundcolor": "#E5ECF6",
            "gridcolor": "white",
            "gridwidth": 2,
            "linecolor": "white",
            "showbackground": true,
            "ticks": "",
            "zerolinecolor": "white"
           },
           "zaxis": {
            "backgroundcolor": "#E5ECF6",
            "gridcolor": "white",
            "gridwidth": 2,
            "linecolor": "white",
            "showbackground": true,
            "ticks": "",
            "zerolinecolor": "white"
           }
          },
          "shapedefaults": {
           "line": {
            "color": "#2a3f5f"
           }
          },
          "ternary": {
           "aaxis": {
            "gridcolor": "white",
            "linecolor": "white",
            "ticks": ""
           },
           "baxis": {
            "gridcolor": "white",
            "linecolor": "white",
            "ticks": ""
           },
           "bgcolor": "#E5ECF6",
           "caxis": {
            "gridcolor": "white",
            "linecolor": "white",
            "ticks": ""
           }
          },
          "title": {
           "x": 0.05
          },
          "xaxis": {
           "automargin": true,
           "gridcolor": "white",
           "linecolor": "white",
           "ticks": "",
           "title": {
            "standoff": 15
           },
           "zerolinecolor": "white",
           "zerolinewidth": 2
          },
          "yaxis": {
           "automargin": true,
           "gridcolor": "white",
           "linecolor": "white",
           "ticks": "",
           "title": {
            "standoff": 15
           },
           "zerolinecolor": "white",
           "zerolinewidth": 2
          }
         }
        },
        "xaxis": {
         "gridcolor": "#1f292f"
        },
        "yaxis": {
         "gridcolor": "#1f292f"
        }
       }
      }
     },
     "metadata": {},
     "output_type": "display_data"
    }
   ],
   "source": [
    "fig = go.Figure()\n",
    "\n",
    "fig.add_trace(go.Scatter(\n",
    "    x=df_results.end_time,\n",
    "    y=df_results['CUM_RES'],\n",
    "    line=dict(width=2)\n",
    "))\n",
    "\n",
    "fig.update_yaxes(\n",
    "    gridcolor=\"#1f292f\"\n",
    ")\n",
    "fig.update_xaxes(\n",
    "    gridcolor=\"#1f292f\"\n",
    ")\n",
    "\n",
    "fig.update_layout(\n",
    "    margin=dict(l=10,r=10,b=10,t=10),\n",
    "    paper_bgcolor=\"#2c303c\",\n",
    "    plot_bgcolor=\"#2c303c\",\n",
    "    font=dict(size=8, color=\"#e1e1e1\"),\n",
    "    height=400\n",
    ")\n",
    "\n",
    "fig.show()"
   ]
  },
  {
   "cell_type": "code",
   "execution_count": 75,
   "id": "7f6a9b79",
   "metadata": {},
   "outputs": [],
   "source": [
    "df_results.sort_values(by=\"start_index\", inplace=True)"
   ]
  },
  {
   "cell_type": "code",
   "execution_count": 76,
   "id": "0443a648",
   "metadata": {},
   "outputs": [
    {
     "ename": "FileNotFoundError",
     "evalue": "[Errno 2] No such file or directory: '../data/XAUUSD_M5.pkl'",
     "output_type": "error",
     "traceback": [
      "\u001b[31m---------------------------------------------------------------------------\u001b[39m",
      "\u001b[31mFileNotFoundError\u001b[39m                         Traceback (most recent call last)",
      "\u001b[36mCell\u001b[39m\u001b[36m \u001b[39m\u001b[32mIn[76]\u001b[39m\u001b[32m, line 1\u001b[39m\n\u001b[32m----> \u001b[39m\u001b[32m1\u001b[39m df_m5 = \u001b[43mpd\u001b[49m\u001b[43m.\u001b[49m\u001b[43mread_pickle\u001b[49m\u001b[43m(\u001b[49m\u001b[33;43m\"\u001b[39;49m\u001b[33;43m../data/XAUUSD_M5.pkl\u001b[39;49m\u001b[33;43m\"\u001b[39;49m\u001b[43m)\u001b[49m\n",
      "\u001b[36mFile \u001b[39m\u001b[32m~/live feed test folder/venv/lib/python3.12/site-packages/pandas/io/pickle.py:185\u001b[39m, in \u001b[36mread_pickle\u001b[39m\u001b[34m(filepath_or_buffer, compression, storage_options)\u001b[39m\n\u001b[32m    123\u001b[39m \u001b[38;5;250m\u001b[39m\u001b[33;03m\"\"\"\u001b[39;00m\n\u001b[32m    124\u001b[39m \u001b[33;03mLoad pickled pandas object (or any object) from file.\u001b[39;00m\n\u001b[32m    125\u001b[39m \n\u001b[32m   (...)\u001b[39m\u001b[32m    182\u001b[39m \u001b[33;03m4    4    9\u001b[39;00m\n\u001b[32m    183\u001b[39m \u001b[33;03m\"\"\"\u001b[39;00m\n\u001b[32m    184\u001b[39m excs_to_catch = (\u001b[38;5;167;01mAttributeError\u001b[39;00m, \u001b[38;5;167;01mImportError\u001b[39;00m, \u001b[38;5;167;01mModuleNotFoundError\u001b[39;00m, \u001b[38;5;167;01mTypeError\u001b[39;00m)\n\u001b[32m--> \u001b[39m\u001b[32m185\u001b[39m \u001b[38;5;28;01mwith\u001b[39;00m \u001b[43mget_handle\u001b[49m\u001b[43m(\u001b[49m\n\u001b[32m    186\u001b[39m \u001b[43m    \u001b[49m\u001b[43mfilepath_or_buffer\u001b[49m\u001b[43m,\u001b[49m\n\u001b[32m    187\u001b[39m \u001b[43m    \u001b[49m\u001b[33;43m\"\u001b[39;49m\u001b[33;43mrb\u001b[39;49m\u001b[33;43m\"\u001b[39;49m\u001b[43m,\u001b[49m\n\u001b[32m    188\u001b[39m \u001b[43m    \u001b[49m\u001b[43mcompression\u001b[49m\u001b[43m=\u001b[49m\u001b[43mcompression\u001b[49m\u001b[43m,\u001b[49m\n\u001b[32m    189\u001b[39m \u001b[43m    \u001b[49m\u001b[43mis_text\u001b[49m\u001b[43m=\u001b[49m\u001b[38;5;28;43;01mFalse\u001b[39;49;00m\u001b[43m,\u001b[49m\n\u001b[32m    190\u001b[39m \u001b[43m    \u001b[49m\u001b[43mstorage_options\u001b[49m\u001b[43m=\u001b[49m\u001b[43mstorage_options\u001b[49m\u001b[43m,\u001b[49m\n\u001b[32m    191\u001b[39m \u001b[43m\u001b[49m\u001b[43m)\u001b[49m \u001b[38;5;28;01mas\u001b[39;00m handles:\n\u001b[32m    192\u001b[39m     \u001b[38;5;66;03m# 1) try standard library Pickle\u001b[39;00m\n\u001b[32m    193\u001b[39m     \u001b[38;5;66;03m# 2) try pickle_compat (older pandas version) to handle subclass changes\u001b[39;00m\n\u001b[32m    194\u001b[39m     \u001b[38;5;66;03m# 3) try pickle_compat with latin-1 encoding upon a UnicodeDecodeError\u001b[39;00m\n\u001b[32m    196\u001b[39m     \u001b[38;5;28;01mtry\u001b[39;00m:\n\u001b[32m    197\u001b[39m         \u001b[38;5;66;03m# TypeError for Cython complaints about object.__new__ vs Tick.__new__\u001b[39;00m\n\u001b[32m    198\u001b[39m         \u001b[38;5;28;01mtry\u001b[39;00m:\n",
      "\u001b[36mFile \u001b[39m\u001b[32m~/live feed test folder/venv/lib/python3.12/site-packages/pandas/io/common.py:882\u001b[39m, in \u001b[36mget_handle\u001b[39m\u001b[34m(path_or_buf, mode, encoding, compression, memory_map, is_text, errors, storage_options)\u001b[39m\n\u001b[32m    873\u001b[39m         handle = \u001b[38;5;28mopen\u001b[39m(\n\u001b[32m    874\u001b[39m             handle,\n\u001b[32m    875\u001b[39m             ioargs.mode,\n\u001b[32m   (...)\u001b[39m\u001b[32m    878\u001b[39m             newline=\u001b[33m\"\u001b[39m\u001b[33m\"\u001b[39m,\n\u001b[32m    879\u001b[39m         )\n\u001b[32m    880\u001b[39m     \u001b[38;5;28;01melse\u001b[39;00m:\n\u001b[32m    881\u001b[39m         \u001b[38;5;66;03m# Binary mode\u001b[39;00m\n\u001b[32m--> \u001b[39m\u001b[32m882\u001b[39m         handle = \u001b[38;5;28;43mopen\u001b[39;49m\u001b[43m(\u001b[49m\u001b[43mhandle\u001b[49m\u001b[43m,\u001b[49m\u001b[43m \u001b[49m\u001b[43mioargs\u001b[49m\u001b[43m.\u001b[49m\u001b[43mmode\u001b[49m\u001b[43m)\u001b[49m\n\u001b[32m    883\u001b[39m     handles.append(handle)\n\u001b[32m    885\u001b[39m \u001b[38;5;66;03m# Convert BytesIO or file objects passed with an encoding\u001b[39;00m\n",
      "\u001b[31mFileNotFoundError\u001b[39m: [Errno 2] No such file or directory: '../data/XAUUSD_M5.pkl'"
     ]
    }
   ],
   "source": [
    "df_m5 = pd.read_pickle(\"../data/XAUUSD_M5.pkl\")"
   ]
  },
  {
   "cell_type": "code",
   "execution_count": null,
   "id": "de1da2fe",
   "metadata": {},
   "outputs": [
    {
     "data": {
      "text/plain": [
       "(347158, 13)"
      ]
     },
     "execution_count": 34,
     "metadata": {},
     "output_type": "execute_result"
    }
   ],
   "source": [
    "df_m5.shape"
   ]
  },
  {
   "cell_type": "code",
   "execution_count": null,
   "id": "301f614e",
   "metadata": {},
   "outputs": [],
   "source": [
    "df_m5_slim = df_m5[['time','bid_h', 'bid_l','ask_h', 'ask_l' ]].copy()\n"
   ]
  },
  {
   "cell_type": "code",
   "execution_count": null,
   "id": "94d93243",
   "metadata": {},
   "outputs": [
    {
     "data": {
      "text/html": [
       "<div>\n",
       "<style scoped>\n",
       "    .dataframe tbody tr th:only-of-type {\n",
       "        vertical-align: middle;\n",
       "    }\n",
       "\n",
       "    .dataframe tbody tr th {\n",
       "        vertical-align: top;\n",
       "    }\n",
       "\n",
       "    .dataframe thead th {\n",
       "        text-align: right;\n",
       "    }\n",
       "</style>\n",
       "<table border=\"1\" class=\"dataframe\">\n",
       "  <thead>\n",
       "    <tr style=\"text-align: right;\">\n",
       "      <th></th>\n",
       "      <th>time</th>\n",
       "      <th>bid_h</th>\n",
       "      <th>bid_l</th>\n",
       "      <th>ask_h</th>\n",
       "      <th>ask_l</th>\n",
       "    </tr>\n",
       "  </thead>\n",
       "  <tbody>\n",
       "    <tr>\n",
       "      <th>0</th>\n",
       "      <td>2020-01-01 23:00:00</td>\n",
       "      <td>1520.92</td>\n",
       "      <td>1516.29</td>\n",
       "      <td>1521.26</td>\n",
       "      <td>1518.53</td>\n",
       "    </tr>\n",
       "    <tr>\n",
       "      <th>1</th>\n",
       "      <td>2020-01-01 23:05:00</td>\n",
       "      <td>1521.17</td>\n",
       "      <td>1520.50</td>\n",
       "      <td>1521.43</td>\n",
       "      <td>1520.73</td>\n",
       "    </tr>\n",
       "    <tr>\n",
       "      <th>2</th>\n",
       "      <td>2020-01-01 23:10:00</td>\n",
       "      <td>1520.77</td>\n",
       "      <td>1519.47</td>\n",
       "      <td>1521.05</td>\n",
       "      <td>1519.70</td>\n",
       "    </tr>\n",
       "    <tr>\n",
       "      <th>3</th>\n",
       "      <td>2020-01-01 23:15:00</td>\n",
       "      <td>1520.28</td>\n",
       "      <td>1519.67</td>\n",
       "      <td>1520.50</td>\n",
       "      <td>1519.90</td>\n",
       "    </tr>\n",
       "    <tr>\n",
       "      <th>4</th>\n",
       "      <td>2020-01-01 23:20:00</td>\n",
       "      <td>1519.93</td>\n",
       "      <td>1519.45</td>\n",
       "      <td>1520.14</td>\n",
       "      <td>1519.68</td>\n",
       "    </tr>\n",
       "  </tbody>\n",
       "</table>\n",
       "</div>"
      ],
      "text/plain": [
       "                 time    bid_h    bid_l    ask_h    ask_l\n",
       "0 2020-01-01 23:00:00  1520.92  1516.29  1521.26  1518.53\n",
       "1 2020-01-01 23:05:00  1521.17  1520.50  1521.43  1520.73\n",
       "2 2020-01-01 23:10:00  1520.77  1519.47  1521.05  1519.70\n",
       "3 2020-01-01 23:15:00  1520.28  1519.67  1520.50  1519.90\n",
       "4 2020-01-01 23:20:00  1519.93  1519.45  1520.14  1519.68"
      ]
     },
     "execution_count": 36,
     "metadata": {},
     "output_type": "execute_result"
    }
   ],
   "source": [
    "df_m5_slim.head()"
   ]
  },
  {
   "cell_type": "code",
   "execution_count": null,
   "id": "a534aa58",
   "metadata": {},
   "outputs": [],
   "source": [
    "df_signals = df_slim[df_slim.SIGNAL != NONE].copy() "
   ]
  },
  {
   "cell_type": "code",
   "execution_count": null,
   "id": "a634cf5b",
   "metadata": {},
   "outputs": [],
   "source": [
    "df_signals['m5_start'] = [x + dt.timedelta(hours=1) for x in df_signals.time]"
   ]
  },
  {
   "cell_type": "code",
   "execution_count": null,
   "id": "a87b9c39",
   "metadata": {},
   "outputs": [],
   "source": [
    "df_signals['start_index_h1'] = df_signals.index"
   ]
  },
  {
   "cell_type": "code",
   "execution_count": null,
   "id": "55b9d019",
   "metadata": {},
   "outputs": [
    {
     "data": {
      "text/html": [
       "<div>\n",
       "<style scoped>\n",
       "    .dataframe tbody tr th:only-of-type {\n",
       "        vertical-align: middle;\n",
       "    }\n",
       "\n",
       "    .dataframe tbody tr th {\n",
       "        vertical-align: top;\n",
       "    }\n",
       "\n",
       "    .dataframe thead th {\n",
       "        text-align: right;\n",
       "    }\n",
       "</style>\n",
       "<table border=\"1\" class=\"dataframe\">\n",
       "  <thead>\n",
       "    <tr style=\"text-align: right;\">\n",
       "      <th></th>\n",
       "      <th>time</th>\n",
       "      <th>mid_o</th>\n",
       "      <th>mid_h</th>\n",
       "      <th>mid_l</th>\n",
       "      <th>mid_c</th>\n",
       "      <th>bid_o</th>\n",
       "      <th>bid_h</th>\n",
       "      <th>bid_l</th>\n",
       "      <th>bid_c</th>\n",
       "      <th>ask_o</th>\n",
       "      <th>...</th>\n",
       "      <th>EMA_200</th>\n",
       "      <th>RSI_14</th>\n",
       "      <th>BB_UP</th>\n",
       "      <th>BB_LW</th>\n",
       "      <th>PIN_BAR</th>\n",
       "      <th>SIGNAL</th>\n",
       "      <th>TP</th>\n",
       "      <th>SL</th>\n",
       "      <th>m5_start</th>\n",
       "      <th>start_index_h1</th>\n",
       "    </tr>\n",
       "  </thead>\n",
       "  <tbody>\n",
       "    <tr>\n",
       "      <th>8</th>\n",
       "      <td>2020-01-14 23:00:00</td>\n",
       "      <td>1546.445</td>\n",
       "      <td>1550.055</td>\n",
       "      <td>1546.05</td>\n",
       "      <td>1549.60</td>\n",
       "      <td>1546.09</td>\n",
       "      <td>1549.91</td>\n",
       "      <td>1545.87</td>\n",
       "      <td>1549.49</td>\n",
       "      <td>1546.80</td>\n",
       "      <td>...</td>\n",
       "      <td>1553.422840</td>\n",
       "      <td>59.589342</td>\n",
       "      <td>1549.339095</td>\n",
       "      <td>1537.675572</td>\n",
       "      <td>False</td>\n",
       "      <td>-1</td>\n",
       "      <td>1559.69</td>\n",
       "      <td>1546.09</td>\n",
       "      <td>2020-01-15 00:00:00</td>\n",
       "      <td>8</td>\n",
       "    </tr>\n",
       "    <tr>\n",
       "      <th>226</th>\n",
       "      <td>2020-01-28 13:00:00</td>\n",
       "      <td>1574.130</td>\n",
       "      <td>1575.670</td>\n",
       "      <td>1572.23</td>\n",
       "      <td>1575.05</td>\n",
       "      <td>1574.01</td>\n",
       "      <td>1575.56</td>\n",
       "      <td>1572.11</td>\n",
       "      <td>1574.92</td>\n",
       "      <td>1574.25</td>\n",
       "      <td>...</td>\n",
       "      <td>1565.400635</td>\n",
       "      <td>41.421199</td>\n",
       "      <td>1583.922075</td>\n",
       "      <td>1575.455925</td>\n",
       "      <td>True</td>\n",
       "      <td>1</td>\n",
       "      <td>1577.97</td>\n",
       "      <td>1574.25</td>\n",
       "      <td>2020-01-28 14:00:00</td>\n",
       "      <td>226</td>\n",
       "    </tr>\n",
       "    <tr>\n",
       "      <th>798</th>\n",
       "      <td>2020-03-03 15:00:00</td>\n",
       "      <td>1602.360</td>\n",
       "      <td>1605.890</td>\n",
       "      <td>1600.48</td>\n",
       "      <td>1605.31</td>\n",
       "      <td>1602.36</td>\n",
       "      <td>1605.89</td>\n",
       "      <td>1600.48</td>\n",
       "      <td>1605.31</td>\n",
       "      <td>1602.36</td>\n",
       "      <td>...</td>\n",
       "      <td>1617.760547</td>\n",
       "      <td>58.362220</td>\n",
       "      <td>1604.867163</td>\n",
       "      <td>1588.032170</td>\n",
       "      <td>False</td>\n",
       "      <td>-1</td>\n",
       "      <td>1614.16</td>\n",
       "      <td>1602.36</td>\n",
       "      <td>2020-03-03 16:00:00</td>\n",
       "      <td>798</td>\n",
       "    </tr>\n",
       "    <tr>\n",
       "      <th>799</th>\n",
       "      <td>2020-03-03 16:00:00</td>\n",
       "      <td>1605.250</td>\n",
       "      <td>1606.800</td>\n",
       "      <td>1601.82</td>\n",
       "      <td>1606.73</td>\n",
       "      <td>1605.25</td>\n",
       "      <td>1606.80</td>\n",
       "      <td>1601.82</td>\n",
       "      <td>1606.73</td>\n",
       "      <td>1605.25</td>\n",
       "      <td>...</td>\n",
       "      <td>1617.650786</td>\n",
       "      <td>59.920210</td>\n",
       "      <td>1606.011516</td>\n",
       "      <td>1587.542817</td>\n",
       "      <td>True</td>\n",
       "      <td>-1</td>\n",
       "      <td>1611.17</td>\n",
       "      <td>1605.25</td>\n",
       "      <td>2020-03-03 17:00:00</td>\n",
       "      <td>799</td>\n",
       "    </tr>\n",
       "    <tr>\n",
       "      <th>826</th>\n",
       "      <td>2020-03-04 20:00:00</td>\n",
       "      <td>1642.030</td>\n",
       "      <td>1643.610</td>\n",
       "      <td>1633.64</td>\n",
       "      <td>1636.12</td>\n",
       "      <td>1642.03</td>\n",
       "      <td>1643.61</td>\n",
       "      <td>1633.64</td>\n",
       "      <td>1636.12</td>\n",
       "      <td>1642.03</td>\n",
       "      <td>...</td>\n",
       "      <td>1623.217617</td>\n",
       "      <td>50.374703</td>\n",
       "      <td>1647.574138</td>\n",
       "      <td>1636.599195</td>\n",
       "      <td>False</td>\n",
       "      <td>1</td>\n",
       "      <td>1618.39</td>\n",
       "      <td>1642.03</td>\n",
       "      <td>2020-03-04 21:00:00</td>\n",
       "      <td>826</td>\n",
       "    </tr>\n",
       "  </tbody>\n",
       "</table>\n",
       "<p>5 rows × 25 columns</p>\n",
       "</div>"
      ],
      "text/plain": [
       "                   time     mid_o     mid_h    mid_l    mid_c    bid_o  \\\n",
       "8   2020-01-14 23:00:00  1546.445  1550.055  1546.05  1549.60  1546.09   \n",
       "226 2020-01-28 13:00:00  1574.130  1575.670  1572.23  1575.05  1574.01   \n",
       "798 2020-03-03 15:00:00  1602.360  1605.890  1600.48  1605.31  1602.36   \n",
       "799 2020-03-03 16:00:00  1605.250  1606.800  1601.82  1606.73  1605.25   \n",
       "826 2020-03-04 20:00:00  1642.030  1643.610  1633.64  1636.12  1642.03   \n",
       "\n",
       "       bid_h    bid_l    bid_c    ask_o  ...      EMA_200     RSI_14  \\\n",
       "8    1549.91  1545.87  1549.49  1546.80  ...  1553.422840  59.589342   \n",
       "226  1575.56  1572.11  1574.92  1574.25  ...  1565.400635  41.421199   \n",
       "798  1605.89  1600.48  1605.31  1602.36  ...  1617.760547  58.362220   \n",
       "799  1606.80  1601.82  1606.73  1605.25  ...  1617.650786  59.920210   \n",
       "826  1643.61  1633.64  1636.12  1642.03  ...  1623.217617  50.374703   \n",
       "\n",
       "           BB_UP        BB_LW  PIN_BAR  SIGNAL       TP       SL  \\\n",
       "8    1549.339095  1537.675572    False      -1  1559.69  1546.09   \n",
       "226  1583.922075  1575.455925     True       1  1577.97  1574.25   \n",
       "798  1604.867163  1588.032170    False      -1  1614.16  1602.36   \n",
       "799  1606.011516  1587.542817     True      -1  1611.17  1605.25   \n",
       "826  1647.574138  1636.599195    False       1  1618.39  1642.03   \n",
       "\n",
       "               m5_start  start_index_h1  \n",
       "8   2020-01-15 00:00:00               8  \n",
       "226 2020-01-28 14:00:00             226  \n",
       "798 2020-03-03 16:00:00             798  \n",
       "799 2020-03-03 17:00:00             799  \n",
       "826 2020-03-04 21:00:00             826  \n",
       "\n",
       "[5 rows x 25 columns]"
      ]
     },
     "execution_count": 40,
     "metadata": {},
     "output_type": "execute_result"
    }
   ],
   "source": [
    "df_signals.head()"
   ]
  },
  {
   "cell_type": "code",
   "execution_count": null,
   "id": "78d349b1",
   "metadata": {},
   "outputs": [
    {
     "data": {
      "text/plain": [
       "Index(['time', 'mid_o', 'mid_h', 'mid_l', 'mid_c', 'bid_o', 'bid_h', 'bid_l',\n",
       "       'bid_c', 'ask_o', 'ask_h', 'ask_l', 'ask_c', 'ENGULFING', 'direction',\n",
       "       'EMA_200', 'RSI_14', 'BB_UP', 'BB_LW', 'PIN_BAR', 'SIGNAL', 'TP', 'SL',\n",
       "       'm5_start', 'start_index_h1'],\n",
       "      dtype='object')"
      ]
     },
     "execution_count": 41,
     "metadata": {},
     "output_type": "execute_result"
    }
   ],
   "source": [
    "df_signals.columns"
   ]
  },
  {
   "cell_type": "code",
   "execution_count": null,
   "id": "d16475b2",
   "metadata": {},
   "outputs": [],
   "source": [
    "df_signals.drop(['time','mid_o', 'mid_h', 'mid_l', 'mid_c', 'bid_o', 'bid_h', 'bid_l',\n",
    "        'ask_o', 'ask_h', 'ask_l', 'ENGULFING', 'direction', 'BB_UP', 'BB_LW',\n",
    "       'EMA_200', 'RSI_14'], axis=1, inplace=True)"
   ]
  },
  {
   "cell_type": "code",
   "execution_count": null,
   "id": "5924a24c",
   "metadata": {},
   "outputs": [
    {
     "data": {
      "text/html": [
       "<div>\n",
       "<style scoped>\n",
       "    .dataframe tbody tr th:only-of-type {\n",
       "        vertical-align: middle;\n",
       "    }\n",
       "\n",
       "    .dataframe tbody tr th {\n",
       "        vertical-align: top;\n",
       "    }\n",
       "\n",
       "    .dataframe thead th {\n",
       "        text-align: right;\n",
       "    }\n",
       "</style>\n",
       "<table border=\"1\" class=\"dataframe\">\n",
       "  <thead>\n",
       "    <tr style=\"text-align: right;\">\n",
       "      <th></th>\n",
       "      <th>bid_c</th>\n",
       "      <th>ask_c</th>\n",
       "      <th>PIN_BAR</th>\n",
       "      <th>SIGNAL</th>\n",
       "      <th>TP</th>\n",
       "      <th>SL</th>\n",
       "      <th>m5_start</th>\n",
       "      <th>start_index_h1</th>\n",
       "    </tr>\n",
       "  </thead>\n",
       "  <tbody>\n",
       "    <tr>\n",
       "      <th>8</th>\n",
       "      <td>1549.49</td>\n",
       "      <td>1549.71</td>\n",
       "      <td>False</td>\n",
       "      <td>-1</td>\n",
       "      <td>1559.69</td>\n",
       "      <td>1546.09</td>\n",
       "      <td>2020-01-15 00:00:00</td>\n",
       "      <td>8</td>\n",
       "    </tr>\n",
       "    <tr>\n",
       "      <th>226</th>\n",
       "      <td>1574.92</td>\n",
       "      <td>1575.18</td>\n",
       "      <td>True</td>\n",
       "      <td>1</td>\n",
       "      <td>1577.97</td>\n",
       "      <td>1574.25</td>\n",
       "      <td>2020-01-28 14:00:00</td>\n",
       "      <td>226</td>\n",
       "    </tr>\n",
       "    <tr>\n",
       "      <th>798</th>\n",
       "      <td>1605.31</td>\n",
       "      <td>1605.31</td>\n",
       "      <td>False</td>\n",
       "      <td>-1</td>\n",
       "      <td>1614.16</td>\n",
       "      <td>1602.36</td>\n",
       "      <td>2020-03-03 16:00:00</td>\n",
       "      <td>798</td>\n",
       "    </tr>\n",
       "    <tr>\n",
       "      <th>799</th>\n",
       "      <td>1606.73</td>\n",
       "      <td>1606.73</td>\n",
       "      <td>True</td>\n",
       "      <td>-1</td>\n",
       "      <td>1611.17</td>\n",
       "      <td>1605.25</td>\n",
       "      <td>2020-03-03 17:00:00</td>\n",
       "      <td>799</td>\n",
       "    </tr>\n",
       "    <tr>\n",
       "      <th>826</th>\n",
       "      <td>1636.12</td>\n",
       "      <td>1636.12</td>\n",
       "      <td>False</td>\n",
       "      <td>1</td>\n",
       "      <td>1618.39</td>\n",
       "      <td>1642.03</td>\n",
       "      <td>2020-03-04 21:00:00</td>\n",
       "      <td>826</td>\n",
       "    </tr>\n",
       "  </tbody>\n",
       "</table>\n",
       "</div>"
      ],
      "text/plain": [
       "       bid_c    ask_c  PIN_BAR  SIGNAL       TP       SL            m5_start  \\\n",
       "8    1549.49  1549.71    False      -1  1559.69  1546.09 2020-01-15 00:00:00   \n",
       "226  1574.92  1575.18     True       1  1577.97  1574.25 2020-01-28 14:00:00   \n",
       "798  1605.31  1605.31    False      -1  1614.16  1602.36 2020-03-03 16:00:00   \n",
       "799  1606.73  1606.73     True      -1  1611.17  1605.25 2020-03-03 17:00:00   \n",
       "826  1636.12  1636.12    False       1  1618.39  1642.03 2020-03-04 21:00:00   \n",
       "\n",
       "     start_index_h1  \n",
       "8                 8  \n",
       "226             226  \n",
       "798             798  \n",
       "799             799  \n",
       "826             826  "
      ]
     },
     "execution_count": 43,
     "metadata": {},
     "output_type": "execute_result"
    }
   ],
   "source": [
    "df_signals.head()"
   ]
  },
  {
   "cell_type": "code",
   "execution_count": null,
   "id": "8d3db758",
   "metadata": {},
   "outputs": [],
   "source": [
    "df_signals.rename(columns={\n",
    "    'bid_c' : 'start_price_BUY',\n",
    "    'ask_c' : 'start_price_SELL',\n",
    "    'm5_start' : 'time'\n",
    "}, inplace=True)"
   ]
  },
  {
   "cell_type": "code",
   "execution_count": null,
   "id": "aec9d5ae",
   "metadata": {},
   "outputs": [
    {
     "data": {
      "text/html": [
       "<div>\n",
       "<style scoped>\n",
       "    .dataframe tbody tr th:only-of-type {\n",
       "        vertical-align: middle;\n",
       "    }\n",
       "\n",
       "    .dataframe tbody tr th {\n",
       "        vertical-align: top;\n",
       "    }\n",
       "\n",
       "    .dataframe thead th {\n",
       "        text-align: right;\n",
       "    }\n",
       "</style>\n",
       "<table border=\"1\" class=\"dataframe\">\n",
       "  <thead>\n",
       "    <tr style=\"text-align: right;\">\n",
       "      <th></th>\n",
       "      <th>start_price_BUY</th>\n",
       "      <th>start_price_SELL</th>\n",
       "      <th>PIN_BAR</th>\n",
       "      <th>SIGNAL</th>\n",
       "      <th>TP</th>\n",
       "      <th>SL</th>\n",
       "      <th>time</th>\n",
       "      <th>start_index_h1</th>\n",
       "    </tr>\n",
       "  </thead>\n",
       "  <tbody>\n",
       "    <tr>\n",
       "      <th>8</th>\n",
       "      <td>1549.49</td>\n",
       "      <td>1549.71</td>\n",
       "      <td>False</td>\n",
       "      <td>-1</td>\n",
       "      <td>1559.69</td>\n",
       "      <td>1546.09</td>\n",
       "      <td>2020-01-15 00:00:00</td>\n",
       "      <td>8</td>\n",
       "    </tr>\n",
       "    <tr>\n",
       "      <th>226</th>\n",
       "      <td>1574.92</td>\n",
       "      <td>1575.18</td>\n",
       "      <td>True</td>\n",
       "      <td>1</td>\n",
       "      <td>1577.97</td>\n",
       "      <td>1574.25</td>\n",
       "      <td>2020-01-28 14:00:00</td>\n",
       "      <td>226</td>\n",
       "    </tr>\n",
       "  </tbody>\n",
       "</table>\n",
       "</div>"
      ],
      "text/plain": [
       "     start_price_BUY  start_price_SELL  PIN_BAR  SIGNAL       TP       SL  \\\n",
       "8            1549.49           1549.71    False      -1  1559.69  1546.09   \n",
       "226          1574.92           1575.18     True       1  1577.97  1574.25   \n",
       "\n",
       "                   time  start_index_h1  \n",
       "8   2020-01-15 00:00:00               8  \n",
       "226 2020-01-28 14:00:00             226  "
      ]
     },
     "execution_count": 45,
     "metadata": {},
     "output_type": "execute_result"
    }
   ],
   "source": [
    "df_signals.head(2)"
   ]
  },
  {
   "cell_type": "code",
   "execution_count": null,
   "id": "ae7ca4af",
   "metadata": {},
   "outputs": [
    {
     "data": {
      "text/html": [
       "<div>\n",
       "<style scoped>\n",
       "    .dataframe tbody tr th:only-of-type {\n",
       "        vertical-align: middle;\n",
       "    }\n",
       "\n",
       "    .dataframe tbody tr th {\n",
       "        vertical-align: top;\n",
       "    }\n",
       "\n",
       "    .dataframe thead th {\n",
       "        text-align: right;\n",
       "    }\n",
       "</style>\n",
       "<table border=\"1\" class=\"dataframe\">\n",
       "  <thead>\n",
       "    <tr style=\"text-align: right;\">\n",
       "      <th></th>\n",
       "      <th>time</th>\n",
       "      <th>bid_h</th>\n",
       "      <th>bid_l</th>\n",
       "      <th>ask_h</th>\n",
       "      <th>ask_l</th>\n",
       "    </tr>\n",
       "  </thead>\n",
       "  <tbody>\n",
       "    <tr>\n",
       "      <th>0</th>\n",
       "      <td>2020-01-01 23:00:00</td>\n",
       "      <td>1520.92</td>\n",
       "      <td>1516.29</td>\n",
       "      <td>1521.26</td>\n",
       "      <td>1518.53</td>\n",
       "    </tr>\n",
       "    <tr>\n",
       "      <th>1</th>\n",
       "      <td>2020-01-01 23:05:00</td>\n",
       "      <td>1521.17</td>\n",
       "      <td>1520.50</td>\n",
       "      <td>1521.43</td>\n",
       "      <td>1520.73</td>\n",
       "    </tr>\n",
       "  </tbody>\n",
       "</table>\n",
       "</div>"
      ],
      "text/plain": [
       "                 time    bid_h    bid_l    ask_h    ask_l\n",
       "0 2020-01-01 23:00:00  1520.92  1516.29  1521.26  1518.53\n",
       "1 2020-01-01 23:05:00  1521.17  1520.50  1521.43  1520.73"
      ]
     },
     "execution_count": 46,
     "metadata": {},
     "output_type": "execute_result"
    }
   ],
   "source": [
    "df_m5_slim.head(2)"
   ]
  },
  {
   "cell_type": "code",
   "execution_count": null,
   "id": "48ffdab0",
   "metadata": {},
   "outputs": [],
   "source": [
    "merged = pd.merge(left=df_m5_slim, right=df_signals, on='time', how='left')"
   ]
  },
  {
   "cell_type": "code",
   "execution_count": null,
   "id": "e82a939b",
   "metadata": {},
   "outputs": [],
   "source": [
    "merged.fillna(0, inplace=True)"
   ]
  },
  {
   "cell_type": "code",
   "execution_count": null,
   "id": "4b9fac68",
   "metadata": {},
   "outputs": [],
   "source": [
    "merged.SIGNAL = merged.SIGNAL.astype(int)\n",
    "merged.start_index_h1 = merged.start_index_h1.astype(int)"
   ]
  },
  {
   "cell_type": "code",
   "execution_count": null,
   "id": "d6b724e3",
   "metadata": {},
   "outputs": [
    {
     "data": {
      "text/html": [
       "<div>\n",
       "<style scoped>\n",
       "    .dataframe tbody tr th:only-of-type {\n",
       "        vertical-align: middle;\n",
       "    }\n",
       "\n",
       "    .dataframe tbody tr th {\n",
       "        vertical-align: top;\n",
       "    }\n",
       "\n",
       "    .dataframe thead th {\n",
       "        text-align: right;\n",
       "    }\n",
       "</style>\n",
       "<table border=\"1\" class=\"dataframe\">\n",
       "  <thead>\n",
       "    <tr style=\"text-align: right;\">\n",
       "      <th></th>\n",
       "      <th>time</th>\n",
       "      <th>bid_h</th>\n",
       "      <th>bid_l</th>\n",
       "      <th>ask_h</th>\n",
       "      <th>ask_l</th>\n",
       "      <th>start_price_BUY</th>\n",
       "      <th>start_price_SELL</th>\n",
       "      <th>PIN_BAR</th>\n",
       "      <th>SIGNAL</th>\n",
       "      <th>TP</th>\n",
       "      <th>SL</th>\n",
       "      <th>start_index_h1</th>\n",
       "    </tr>\n",
       "  </thead>\n",
       "  <tbody>\n",
       "    <tr>\n",
       "      <th>0</th>\n",
       "      <td>2020-01-01 23:00:00</td>\n",
       "      <td>1520.92</td>\n",
       "      <td>1516.29</td>\n",
       "      <td>1521.26</td>\n",
       "      <td>1518.53</td>\n",
       "      <td>0.0</td>\n",
       "      <td>0.0</td>\n",
       "      <td>0</td>\n",
       "      <td>0</td>\n",
       "      <td>0.0</td>\n",
       "      <td>0.0</td>\n",
       "      <td>0</td>\n",
       "    </tr>\n",
       "    <tr>\n",
       "      <th>1</th>\n",
       "      <td>2020-01-01 23:05:00</td>\n",
       "      <td>1521.17</td>\n",
       "      <td>1520.50</td>\n",
       "      <td>1521.43</td>\n",
       "      <td>1520.73</td>\n",
       "      <td>0.0</td>\n",
       "      <td>0.0</td>\n",
       "      <td>0</td>\n",
       "      <td>0</td>\n",
       "      <td>0.0</td>\n",
       "      <td>0.0</td>\n",
       "      <td>0</td>\n",
       "    </tr>\n",
       "    <tr>\n",
       "      <th>2</th>\n",
       "      <td>2020-01-01 23:10:00</td>\n",
       "      <td>1520.77</td>\n",
       "      <td>1519.47</td>\n",
       "      <td>1521.05</td>\n",
       "      <td>1519.70</td>\n",
       "      <td>0.0</td>\n",
       "      <td>0.0</td>\n",
       "      <td>0</td>\n",
       "      <td>0</td>\n",
       "      <td>0.0</td>\n",
       "      <td>0.0</td>\n",
       "      <td>0</td>\n",
       "    </tr>\n",
       "    <tr>\n",
       "      <th>3</th>\n",
       "      <td>2020-01-01 23:15:00</td>\n",
       "      <td>1520.28</td>\n",
       "      <td>1519.67</td>\n",
       "      <td>1520.50</td>\n",
       "      <td>1519.90</td>\n",
       "      <td>0.0</td>\n",
       "      <td>0.0</td>\n",
       "      <td>0</td>\n",
       "      <td>0</td>\n",
       "      <td>0.0</td>\n",
       "      <td>0.0</td>\n",
       "      <td>0</td>\n",
       "    </tr>\n",
       "    <tr>\n",
       "      <th>4</th>\n",
       "      <td>2020-01-01 23:20:00</td>\n",
       "      <td>1519.93</td>\n",
       "      <td>1519.45</td>\n",
       "      <td>1520.14</td>\n",
       "      <td>1519.68</td>\n",
       "      <td>0.0</td>\n",
       "      <td>0.0</td>\n",
       "      <td>0</td>\n",
       "      <td>0</td>\n",
       "      <td>0.0</td>\n",
       "      <td>0.0</td>\n",
       "      <td>0</td>\n",
       "    </tr>\n",
       "  </tbody>\n",
       "</table>\n",
       "</div>"
      ],
      "text/plain": [
       "                 time    bid_h    bid_l    ask_h    ask_l  start_price_BUY  \\\n",
       "0 2020-01-01 23:00:00  1520.92  1516.29  1521.26  1518.53              0.0   \n",
       "1 2020-01-01 23:05:00  1521.17  1520.50  1521.43  1520.73              0.0   \n",
       "2 2020-01-01 23:10:00  1520.77  1519.47  1521.05  1519.70              0.0   \n",
       "3 2020-01-01 23:15:00  1520.28  1519.67  1520.50  1519.90              0.0   \n",
       "4 2020-01-01 23:20:00  1519.93  1519.45  1520.14  1519.68              0.0   \n",
       "\n",
       "   start_price_SELL PIN_BAR  SIGNAL   TP   SL  start_index_h1  \n",
       "0               0.0       0       0  0.0  0.0               0  \n",
       "1               0.0       0       0  0.0  0.0               0  \n",
       "2               0.0       0       0  0.0  0.0               0  \n",
       "3               0.0       0       0  0.0  0.0               0  \n",
       "4               0.0       0       0  0.0  0.0               0  "
      ]
     },
     "execution_count": 50,
     "metadata": {},
     "output_type": "execute_result"
    }
   ],
   "source": [
    "merged.head()"
   ]
  },
  {
   "cell_type": "code",
   "execution_count": null,
   "id": "21750564",
   "metadata": {},
   "outputs": [],
   "source": [
    "class TradeM5:\n",
    "    def __init__(self, row):\n",
    "        self.running = True\n",
    "        self.start_index_m5 = row.name\n",
    "        self.start_index_h1 = row.start_index_h1\n",
    "        \n",
    "        if row.SIGNAL == BUY:\n",
    "            self.start_price = row.start_price_BUY\n",
    "            self.trigger_price = row.start_price_BUY\n",
    "        else:\n",
    "            self.start_price = row.start_price_SELL\n",
    "            self.trigger_price = row.start_price_SELL\n",
    "            \n",
    "        self.SIGNAL = row.SIGNAL\n",
    "        self.TP = row.TP\n",
    "        self.SL = row.SL\n",
    "        self.result = 0.0\n",
    "        self.end_time = row.time\n",
    "        self.start_time = row.time\n",
    "        self.duration = 1\n",
    "        \n",
    "    def close_trade(self, row, result, trigger_price):\n",
    "        self.running = False\n",
    "        self.result = result\n",
    "        self.end_time = row.time\n",
    "        self.trigger_price = trigger_price\n",
    "        \n",
    "    def update(self, row):\n",
    "        self.duration += 1\n",
    "        if self.SIGNAL == BUY:\n",
    "            if row.bid_h >= self.TP:\n",
    "                self.close_trade(row, PROFIT_FACTOR, row.bid_h)\n",
    "            elif row.bid_l <= self.SL:\n",
    "                self.close_trade(row, LOSS_FACTOR, row.bid_l)\n",
    "        if self.SIGNAL == SELL:\n",
    "            if row.ask_l <= self.TP:\n",
    "                self.close_trade(row, PROFIT_FACTOR, row.ask_l)\n",
    "            elif row.ask_h >= self.SL:\n",
    "                self.close_trade(row, LOSS_FACTOR, row.ask_h)   "
   ]
  },
  {
   "cell_type": "code",
   "execution_count": null,
   "id": "9899d481",
   "metadata": {},
   "outputs": [],
   "source": [
    "open_trades_m5 = []\n",
    "closed_trades_m5 = []\n",
    "\n",
    "for index, row in merged.iterrows():\n",
    "    \n",
    "    if row.SIGNAL != NONE:\n",
    "        open_trades_m5.append(TradeM5(row))   \n",
    "        \n",
    "    for ot in open_trades_m5:\n",
    "        ot.update(row)\n",
    "        if ot.running == False:\n",
    "            closed_trades_m5.append(ot)\n",
    "    open_trades_m5 = [x for x in open_trades_m5 if x.running == True]"
   ]
  },
  {
   "cell_type": "code",
   "execution_count": null,
   "id": "0bb7407d",
   "metadata": {},
   "outputs": [],
   "source": [
    "df_res_m5 = pd.DataFrame.from_dict([vars(x) for x in closed_trades_m5])"
   ]
  },
  {
   "cell_type": "code",
   "execution_count": null,
   "id": "ada0b3fb",
   "metadata": {},
   "outputs": [],
   "source": []
  },
  {
   "cell_type": "code",
   "execution_count": null,
   "id": "356f448c",
   "metadata": {},
   "outputs": [
    {
     "data": {
      "text/html": [
       "<div>\n",
       "<style scoped>\n",
       "    .dataframe tbody tr th:only-of-type {\n",
       "        vertical-align: middle;\n",
       "    }\n",
       "\n",
       "    .dataframe tbody tr th {\n",
       "        vertical-align: top;\n",
       "    }\n",
       "\n",
       "    .dataframe thead th {\n",
       "        text-align: right;\n",
       "    }\n",
       "</style>\n",
       "<table border=\"1\" class=\"dataframe\">\n",
       "  <thead>\n",
       "    <tr style=\"text-align: right;\">\n",
       "      <th></th>\n",
       "      <th>running</th>\n",
       "      <th>start_index_m5</th>\n",
       "      <th>start_index_h1</th>\n",
       "      <th>start_price</th>\n",
       "      <th>trigger_price</th>\n",
       "      <th>SIGNAL</th>\n",
       "      <th>TP</th>\n",
       "      <th>SL</th>\n",
       "      <th>result</th>\n",
       "      <th>end_time</th>\n",
       "      <th>start_time</th>\n",
       "      <th>duration</th>\n",
       "    </tr>\n",
       "  </thead>\n",
       "  <tbody>\n",
       "    <tr>\n",
       "      <th>0</th>\n",
       "      <td>False</td>\n",
       "      <td>2496</td>\n",
       "      <td>8</td>\n",
       "      <td>1549.71</td>\n",
       "      <td>1549.33</td>\n",
       "      <td>-1</td>\n",
       "      <td>1559.69</td>\n",
       "      <td>1546.09</td>\n",
       "      <td>3.0</td>\n",
       "      <td>2020-01-15 00:00:00</td>\n",
       "      <td>2020-01-15 00:00:00</td>\n",
       "      <td>2</td>\n",
       "    </tr>\n",
       "    <tr>\n",
       "      <th>1</th>\n",
       "      <td>False</td>\n",
       "      <td>5100</td>\n",
       "      <td>226</td>\n",
       "      <td>1574.92</td>\n",
       "      <td>1573.62</td>\n",
       "      <td>1</td>\n",
       "      <td>1577.97</td>\n",
       "      <td>1574.25</td>\n",
       "      <td>-1.0</td>\n",
       "      <td>2020-01-28 15:00:00</td>\n",
       "      <td>2020-01-28 14:00:00</td>\n",
       "      <td>14</td>\n",
       "    </tr>\n",
       "    <tr>\n",
       "      <th>2</th>\n",
       "      <td>False</td>\n",
       "      <td>11951</td>\n",
       "      <td>798</td>\n",
       "      <td>1605.31</td>\n",
       "      <td>1604.46</td>\n",
       "      <td>-1</td>\n",
       "      <td>1614.16</td>\n",
       "      <td>1602.36</td>\n",
       "      <td>3.0</td>\n",
       "      <td>2020-03-03 16:00:00</td>\n",
       "      <td>2020-03-03 16:00:00</td>\n",
       "      <td>2</td>\n",
       "    </tr>\n",
       "    <tr>\n",
       "      <th>3</th>\n",
       "      <td>False</td>\n",
       "      <td>11963</td>\n",
       "      <td>799</td>\n",
       "      <td>1606.73</td>\n",
       "      <td>1606.63</td>\n",
       "      <td>-1</td>\n",
       "      <td>1611.17</td>\n",
       "      <td>1605.25</td>\n",
       "      <td>3.0</td>\n",
       "      <td>2020-03-03 17:00:00</td>\n",
       "      <td>2020-03-03 17:00:00</td>\n",
       "      <td>2</td>\n",
       "    </tr>\n",
       "    <tr>\n",
       "      <th>4</th>\n",
       "      <td>False</td>\n",
       "      <td>12287</td>\n",
       "      <td>826</td>\n",
       "      <td>1636.12</td>\n",
       "      <td>1638.34</td>\n",
       "      <td>1</td>\n",
       "      <td>1618.39</td>\n",
       "      <td>1642.03</td>\n",
       "      <td>3.0</td>\n",
       "      <td>2020-03-04 21:00:00</td>\n",
       "      <td>2020-03-04 21:00:00</td>\n",
       "      <td>2</td>\n",
       "    </tr>\n",
       "  </tbody>\n",
       "</table>\n",
       "</div>"
      ],
      "text/plain": [
       "   running  start_index_m5  start_index_h1  start_price  trigger_price  \\\n",
       "0    False            2496               8      1549.71        1549.33   \n",
       "1    False            5100             226      1574.92        1573.62   \n",
       "2    False           11951             798      1605.31        1604.46   \n",
       "3    False           11963             799      1606.73        1606.63   \n",
       "4    False           12287             826      1636.12        1638.34   \n",
       "\n",
       "   SIGNAL       TP       SL  result            end_time          start_time  \\\n",
       "0      -1  1559.69  1546.09     3.0 2020-01-15 00:00:00 2020-01-15 00:00:00   \n",
       "1       1  1577.97  1574.25    -1.0 2020-01-28 15:00:00 2020-01-28 14:00:00   \n",
       "2      -1  1614.16  1602.36     3.0 2020-03-03 16:00:00 2020-03-03 16:00:00   \n",
       "3      -1  1611.17  1605.25     3.0 2020-03-03 17:00:00 2020-03-03 17:00:00   \n",
       "4       1  1618.39  1642.03     3.0 2020-03-04 21:00:00 2020-03-04 21:00:00   \n",
       "\n",
       "   duration  \n",
       "0         2  \n",
       "1        14  \n",
       "2         2  \n",
       "3         2  \n",
       "4         2  "
      ]
     },
     "execution_count": 54,
     "metadata": {},
     "output_type": "execute_result"
    }
   ],
   "source": [
    "df_res_m5.head()"
   ]
  },
  {
   "cell_type": "code",
   "execution_count": null,
   "id": "a527bf90",
   "metadata": {},
   "outputs": [
    {
     "data": {
      "text/html": [
       "<div>\n",
       "<style scoped>\n",
       "    .dataframe tbody tr th:only-of-type {\n",
       "        vertical-align: middle;\n",
       "    }\n",
       "\n",
       "    .dataframe tbody tr th {\n",
       "        vertical-align: top;\n",
       "    }\n",
       "\n",
       "    .dataframe thead th {\n",
       "        text-align: right;\n",
       "    }\n",
       "</style>\n",
       "<table border=\"1\" class=\"dataframe\">\n",
       "  <thead>\n",
       "    <tr style=\"text-align: right;\">\n",
       "      <th></th>\n",
       "      <th>running</th>\n",
       "      <th>start_index_m5</th>\n",
       "      <th>start_index_h1</th>\n",
       "      <th>start_price</th>\n",
       "      <th>trigger_price</th>\n",
       "      <th>SIGNAL</th>\n",
       "      <th>TP</th>\n",
       "      <th>SL</th>\n",
       "      <th>result</th>\n",
       "      <th>end_time</th>\n",
       "      <th>start_time</th>\n",
       "      <th>duration</th>\n",
       "    </tr>\n",
       "  </thead>\n",
       "  <tbody>\n",
       "    <tr>\n",
       "      <th>112</th>\n",
       "      <td>False</td>\n",
       "      <td>313802</td>\n",
       "      <td>27171</td>\n",
       "      <td>2397.91</td>\n",
       "      <td>2399.47</td>\n",
       "      <td>1</td>\n",
       "      <td>2386.60</td>\n",
       "      <td>2401.92</td>\n",
       "      <td>3.0</td>\n",
       "      <td>2024-07-12 13:00:00</td>\n",
       "      <td>2024-07-12 13:00:00</td>\n",
       "      <td>2</td>\n",
       "    </tr>\n",
       "    <tr>\n",
       "      <th>113</th>\n",
       "      <td>False</td>\n",
       "      <td>324816</td>\n",
       "      <td>28090</td>\n",
       "      <td>2509.38</td>\n",
       "      <td>2509.80</td>\n",
       "      <td>1</td>\n",
       "      <td>2470.92</td>\n",
       "      <td>2522.40</td>\n",
       "      <td>3.0</td>\n",
       "      <td>2024-09-06 14:00:00</td>\n",
       "      <td>2024-09-06 14:00:00</td>\n",
       "      <td>2</td>\n",
       "    </tr>\n",
       "    <tr>\n",
       "      <th>114</th>\n",
       "      <td>False</td>\n",
       "      <td>331391</td>\n",
       "      <td>28638</td>\n",
       "      <td>2617.32</td>\n",
       "      <td>2617.03</td>\n",
       "      <td>-1</td>\n",
       "      <td>2622.34</td>\n",
       "      <td>2615.50</td>\n",
       "      <td>3.0</td>\n",
       "      <td>2024-10-10 10:00:00</td>\n",
       "      <td>2024-10-10 10:00:00</td>\n",
       "      <td>2</td>\n",
       "    </tr>\n",
       "    <tr>\n",
       "      <th>115</th>\n",
       "      <td>False</td>\n",
       "      <td>336929</td>\n",
       "      <td>29100</td>\n",
       "      <td>2673.79</td>\n",
       "      <td>2672.57</td>\n",
       "      <td>-1</td>\n",
       "      <td>2695.71</td>\n",
       "      <td>2666.27</td>\n",
       "      <td>3.0</td>\n",
       "      <td>2024-11-07 13:00:00</td>\n",
       "      <td>2024-11-07 13:00:00</td>\n",
       "      <td>2</td>\n",
       "    </tr>\n",
       "    <tr>\n",
       "      <th>116</th>\n",
       "      <td>False</td>\n",
       "      <td>345304</td>\n",
       "      <td>29802</td>\n",
       "      <td>2609.81</td>\n",
       "      <td>2608.74</td>\n",
       "      <td>-1</td>\n",
       "      <td>2627.92</td>\n",
       "      <td>2603.56</td>\n",
       "      <td>3.0</td>\n",
       "      <td>2024-12-20 14:00:00</td>\n",
       "      <td>2024-12-20 14:00:00</td>\n",
       "      <td>2</td>\n",
       "    </tr>\n",
       "  </tbody>\n",
       "</table>\n",
       "</div>"
      ],
      "text/plain": [
       "     running  start_index_m5  start_index_h1  start_price  trigger_price  \\\n",
       "112    False          313802           27171      2397.91        2399.47   \n",
       "113    False          324816           28090      2509.38        2509.80   \n",
       "114    False          331391           28638      2617.32        2617.03   \n",
       "115    False          336929           29100      2673.79        2672.57   \n",
       "116    False          345304           29802      2609.81        2608.74   \n",
       "\n",
       "     SIGNAL       TP       SL  result            end_time          start_time  \\\n",
       "112       1  2386.60  2401.92     3.0 2024-07-12 13:00:00 2024-07-12 13:00:00   \n",
       "113       1  2470.92  2522.40     3.0 2024-09-06 14:00:00 2024-09-06 14:00:00   \n",
       "114      -1  2622.34  2615.50     3.0 2024-10-10 10:00:00 2024-10-10 10:00:00   \n",
       "115      -1  2695.71  2666.27     3.0 2024-11-07 13:00:00 2024-11-07 13:00:00   \n",
       "116      -1  2627.92  2603.56     3.0 2024-12-20 14:00:00 2024-12-20 14:00:00   \n",
       "\n",
       "     duration  \n",
       "112         2  \n",
       "113         2  \n",
       "114         2  \n",
       "115         2  \n",
       "116         2  "
      ]
     },
     "execution_count": 55,
     "metadata": {},
     "output_type": "execute_result"
    }
   ],
   "source": [
    "df_res_m5.tail()"
   ]
  },
  {
   "cell_type": "code",
   "execution_count": null,
   "id": "8f4fb66c",
   "metadata": {},
   "outputs": [
    {
     "data": {
      "text/plain": [
       "np.float64(299.0)"
      ]
     },
     "execution_count": 56,
     "metadata": {},
     "output_type": "execute_result"
    }
   ],
   "source": [
    "df_res_m5.result.sum()"
   ]
  },
  {
   "cell_type": "code",
   "execution_count": null,
   "id": "655b7be5",
   "metadata": {},
   "outputs": [
    {
     "name": "stdout",
     "output_type": "stream",
     "text": [
      "Win percentage 88.88888888888889\n"
     ]
    }
   ],
   "source": [
    "wp = (df_res_m5[df_res_m5.result > 0].shape[0] / df_res_m5.shape[0]) * 100\n",
    "print(\"Win percentage\", wp)\n"
   ]
  },
  {
   "cell_type": "code",
   "execution_count": null,
   "id": "314355c3",
   "metadata": {},
   "outputs": [],
   "source": [
    "df_res_m5 = df_res_m5.sort_values(by='end_time').reset_index(drop=True)"
   ]
  },
  {
   "cell_type": "code",
   "execution_count": null,
   "id": "80fc5215",
   "metadata": {},
   "outputs": [],
   "source": [
    "df_res_m5['CUM_RES'] = df_res_m5.result.cumsum()"
   ]
  },
  {
   "cell_type": "code",
   "execution_count": null,
   "id": "36fab442",
   "metadata": {},
   "outputs": [
    {
     "data": {
      "application/vnd.plotly.v1+json": {
       "config": {
        "plotlyServerURL": "https://plot.ly"
       },
       "data": [
        {
         "line": {
          "width": 2
         },
         "type": "scatter",
         "x": [
          "2020-01-15T00:00:00.000000000",
          "2020-01-28T15:00:00.000000000",
          "2020-03-03T16:00:00.000000000",
          "2020-03-03T17:00:00.000000000",
          "2020-03-04T21:00:00.000000000",
          "2020-03-25T11:00:00.000000000",
          "2020-03-25T14:00:00.000000000",
          "2020-03-26T08:00:00.000000000",
          "2020-04-03T14:00:00.000000000",
          "2020-04-07T17:00:00.000000000",
          "2020-04-15T10:00:00.000000000",
          "2020-05-21T04:00:00.000000000",
          "2020-06-07T10:00:00.000000000",
          "2020-06-18T19:00:00.000000000",
          "2020-08-19T06:00:00.000000000",
          "2020-09-05T04:00:00.000000000",
          "2020-10-11T12:00:00.000000000",
          "2020-10-11T14:00:00.000000000",
          "2020-12-04T16:00:00.000000000",
          "2021-01-19T09:00:00.000000000",
          "2021-02-02T00:00:00.000000000",
          "2021-02-16T04:00:00.000000000",
          "2021-03-08T01:00:00.000000000",
          "2021-03-17T16:00:00.000000000",
          "2021-04-07T12:00:00.000000000",
          "2021-05-11T14:35:00.000000000",
          "2021-05-18T14:00:00.000000000",
          "2021-05-25T00:00:00.000000000",
          "2021-05-25T06:00:00.000000000",
          "2021-06-16T18:00:00.000000000",
          "2021-06-18T08:00:00.000000000",
          "2021-06-18T10:00:00.000000000",
          "2021-07-08T02:00:00.000000000",
          "2021-07-15T15:00:00.000000000",
          "2021-07-30T15:00:00.000000000",
          "2021-09-13T14:00:00.000000000",
          "2021-09-17T09:00:00.000000000",
          "2021-09-20T13:00:00.000000000",
          "2021-09-29T09:00:00.000000000",
          "2021-09-29T10:00:00.000000000",
          "2021-10-26T13:00:00.000000000",
          "2021-10-29T05:00:00.000000000",
          "2021-10-29T09:00:00.000000000",
          "2022-01-07T17:00:00.000000000",
          "2022-01-18T06:00:00.000000000",
          "2022-01-26T12:00:00.000000000",
          "2022-03-09T11:00:00.000000000",
          "2022-03-21T14:00:00.000000000",
          "2022-03-25T11:00:00.000000000",
          "2022-03-25T14:00:00.000000000",
          "2022-04-14T06:00:00.000000000",
          "2022-04-14T09:00:00.000000000",
          "2022-04-18T20:00:00.000000000",
          "2022-04-20T20:00:00.000000000",
          "2022-05-03T14:00:00.000000000",
          "2022-05-25T09:00:00.000000000",
          "2022-06-01T13:00:00.000000000",
          "2022-06-01T14:00:00.000000000",
          "2022-06-03T15:00:00.000000000",
          "2022-06-27T01:40:00.000000000",
          "2022-06-29T11:00:00.000000000",
          "2022-07-08T15:00:00.000000000",
          "2022-08-12T12:00:00.000000000",
          "2022-08-17T05:00:00.000000000",
          "2022-08-18T12:00:00.000000000",
          "2022-09-14T13:00:00.000000000",
          "2022-09-14T15:00:00.000000000",
          "2022-09-28T13:00:00.000000000",
          "2022-10-07T11:00:00.000000000",
          "2022-10-27T07:00:00.000000000",
          "2022-11-09T19:00:00.000000000",
          "2022-11-25T08:00:00.000000000",
          "2022-11-25T10:00:00.000000000",
          "2022-12-14T12:00:00.000000000",
          "2023-01-18T03:00:00.000000000",
          "2023-02-07T18:00:00.000000000",
          "2023-02-22T08:00:00.000000000",
          "2023-02-22T12:00:00.000000000",
          "2023-02-27T14:00:00.000000000",
          "2023-03-08T15:00:00.000000000",
          "2023-03-15T08:00:00.000000000",
          "2023-03-24T19:00:00.000000000",
          "2023-04-20T10:00:00.000000000",
          "2023-05-05T12:00:00.000000000",
          "2023-05-19T10:00:00.000000000",
          "2023-06-02T13:00:00.000000000",
          "2023-06-30T13:00:00.000000000",
          "2023-07-13T16:00:00.000000000",
          "2023-08-04T13:00:00.000000000",
          "2023-08-21T12:00:00.000000000",
          "2023-08-29T13:00:00.000000000",
          "2023-08-31T18:00:00.000000000",
          "2023-08-31T20:00:00.000000000",
          "2023-09-06T14:00:00.000000000",
          "2023-09-07T12:00:00.000000000",
          "2023-09-07T13:00:00.000000000",
          "2023-10-27T13:00:00.000000000",
          "2023-11-20T11:00:00.000000000",
          "2023-11-22T16:00:00.000000000",
          "2023-11-30T14:00:00.000000000",
          "2023-12-13T14:00:00.000000000",
          "2023-12-20T13:20:00.000000000",
          "2023-12-20T16:00:00.000000000",
          "2024-01-18T20:00:00.000000000",
          "2024-01-25T14:00:00.000000000",
          "2024-02-15T12:00:00.000000000",
          "2024-03-12T06:00:00.000000000",
          "2024-04-04T20:00:00.000000000",
          "2024-04-25T15:00:00.000000000",
          "2024-05-30T17:00:00.000000000",
          "2024-06-03T13:00:00.000000000",
          "2024-06-10T16:00:00.000000000",
          "2024-07-12T13:00:00.000000000",
          "2024-09-06T14:00:00.000000000",
          "2024-10-10T10:00:00.000000000",
          "2024-11-07T13:00:00.000000000",
          "2024-12-20T14:00:00.000000000"
         ],
         "y": {
          "bdata": "AAAAAAAACEAAAAAAAAAAQAAAAAAAABRAAAAAAAAAIEAAAAAAAAAmQAAAAAAAACxAAAAAAAAAMUAAAAAAAAA0QAAAAAAAADdAAAAAAAAAOkAAAAAAAAA9QAAAAAAAAEBAAAAAAAAAP0AAAAAAAAA+QAAAAAAAAD1AAAAAAAAAPEAAAAAAAAA7QAAAAAAAADpAAAAAAAAAPUAAAAAAAABAQAAAAAAAgEFAAAAAAAAAQ0AAAAAAAIBCQAAAAAAAAERAAAAAAACARUAAAAAAAABFQAAAAAAAgEZAAAAAAAAASEAAAAAAAIBJQAAAAAAAAEtAAAAAAACATEAAAAAAAABOQAAAAAAAgE9AAAAAAACAUEAAAAAAAEBRQAAAAAAAAFJAAAAAAADAUkAAAAAAAIBTQAAAAAAAQFRAAAAAAAAAVEAAAAAAAMBUQAAAAAAAgFVAAAAAAABAVkAAAAAAAABXQAAAAAAAwFdAAAAAAACAWEAAAAAAAEBZQAAAAAAAAFpAAAAAAADAWkAAAAAAAIBbQAAAAAAAQFxAAAAAAAAAXUAAAAAAAMBdQAAAAAAAgF5AAAAAAABAX0AAAAAAAABgQAAAAAAAYGBAAAAAAADAYEAAAAAAACBhQAAAAAAAAGFAAAAAAABgYUAAAAAAAMBhQAAAAAAAIGJAAAAAAACAYkAAAAAAAOBiQAAAAAAAQGNAAAAAAACgY0AAAAAAAABkQAAAAAAAYGRAAAAAAADAZEAAAAAAACBlQAAAAAAAgGVAAAAAAADgZUAAAAAAAEBmQAAAAAAAoGZAAAAAAAAAZ0AAAAAAAGBnQAAAAAAAwGdAAAAAAAAgaEAAAAAAAIBoQAAAAAAA4GhAAAAAAABAaUAAAAAAAKBpQAAAAAAAAGpAAAAAAABgakAAAAAAAMBqQAAAAAAAIGtAAAAAAACAa0AAAAAAAOBrQAAAAAAAQGxAAAAAAACgbEAAAAAAAABtQAAAAAAAYG1AAAAAAADAbUAAAAAAACBuQAAAAAAAgG5AAAAAAADgbkAAAAAAAEBvQAAAAAAAoG9AAAAAAAAAcEAAAAAAADBwQAAAAAAAIHBAAAAAAABQcEAAAAAAAEBwQAAAAAAAcHBAAAAAAACgcEAAAAAAANBwQAAAAAAAAHFAAAAAAAAwcUAAAAAAAGBxQAAAAAAAkHFAAAAAAADAcUAAAAAAAPBxQAAAAAAAIHJAAAAAAABQckAAAAAAAIByQAAAAAAAsHJA",
          "dtype": "f8"
         }
        }
       ],
       "layout": {
        "font": {
         "color": "#e1e1e1",
         "size": 8
        },
        "height": 400,
        "margin": {
         "b": 10,
         "l": 10,
         "r": 10,
         "t": 10
        },
        "paper_bgcolor": "#2c303c",
        "plot_bgcolor": "#2c303c",
        "template": {
         "data": {
          "bar": [
           {
            "error_x": {
             "color": "#2a3f5f"
            },
            "error_y": {
             "color": "#2a3f5f"
            },
            "marker": {
             "line": {
              "color": "#E5ECF6",
              "width": 0.5
             },
             "pattern": {
              "fillmode": "overlay",
              "size": 10,
              "solidity": 0.2
             }
            },
            "type": "bar"
           }
          ],
          "barpolar": [
           {
            "marker": {
             "line": {
              "color": "#E5ECF6",
              "width": 0.5
             },
             "pattern": {
              "fillmode": "overlay",
              "size": 10,
              "solidity": 0.2
             }
            },
            "type": "barpolar"
           }
          ],
          "carpet": [
           {
            "aaxis": {
             "endlinecolor": "#2a3f5f",
             "gridcolor": "white",
             "linecolor": "white",
             "minorgridcolor": "white",
             "startlinecolor": "#2a3f5f"
            },
            "baxis": {
             "endlinecolor": "#2a3f5f",
             "gridcolor": "white",
             "linecolor": "white",
             "minorgridcolor": "white",
             "startlinecolor": "#2a3f5f"
            },
            "type": "carpet"
           }
          ],
          "choropleth": [
           {
            "colorbar": {
             "outlinewidth": 0,
             "ticks": ""
            },
            "type": "choropleth"
           }
          ],
          "contour": [
           {
            "colorbar": {
             "outlinewidth": 0,
             "ticks": ""
            },
            "colorscale": [
             [
              0,
              "#0d0887"
             ],
             [
              0.1111111111111111,
              "#46039f"
             ],
             [
              0.2222222222222222,
              "#7201a8"
             ],
             [
              0.3333333333333333,
              "#9c179e"
             ],
             [
              0.4444444444444444,
              "#bd3786"
             ],
             [
              0.5555555555555556,
              "#d8576b"
             ],
             [
              0.6666666666666666,
              "#ed7953"
             ],
             [
              0.7777777777777778,
              "#fb9f3a"
             ],
             [
              0.8888888888888888,
              "#fdca26"
             ],
             [
              1,
              "#f0f921"
             ]
            ],
            "type": "contour"
           }
          ],
          "contourcarpet": [
           {
            "colorbar": {
             "outlinewidth": 0,
             "ticks": ""
            },
            "type": "contourcarpet"
           }
          ],
          "heatmap": [
           {
            "colorbar": {
             "outlinewidth": 0,
             "ticks": ""
            },
            "colorscale": [
             [
              0,
              "#0d0887"
             ],
             [
              0.1111111111111111,
              "#46039f"
             ],
             [
              0.2222222222222222,
              "#7201a8"
             ],
             [
              0.3333333333333333,
              "#9c179e"
             ],
             [
              0.4444444444444444,
              "#bd3786"
             ],
             [
              0.5555555555555556,
              "#d8576b"
             ],
             [
              0.6666666666666666,
              "#ed7953"
             ],
             [
              0.7777777777777778,
              "#fb9f3a"
             ],
             [
              0.8888888888888888,
              "#fdca26"
             ],
             [
              1,
              "#f0f921"
             ]
            ],
            "type": "heatmap"
           }
          ],
          "histogram": [
           {
            "marker": {
             "pattern": {
              "fillmode": "overlay",
              "size": 10,
              "solidity": 0.2
             }
            },
            "type": "histogram"
           }
          ],
          "histogram2d": [
           {
            "colorbar": {
             "outlinewidth": 0,
             "ticks": ""
            },
            "colorscale": [
             [
              0,
              "#0d0887"
             ],
             [
              0.1111111111111111,
              "#46039f"
             ],
             [
              0.2222222222222222,
              "#7201a8"
             ],
             [
              0.3333333333333333,
              "#9c179e"
             ],
             [
              0.4444444444444444,
              "#bd3786"
             ],
             [
              0.5555555555555556,
              "#d8576b"
             ],
             [
              0.6666666666666666,
              "#ed7953"
             ],
             [
              0.7777777777777778,
              "#fb9f3a"
             ],
             [
              0.8888888888888888,
              "#fdca26"
             ],
             [
              1,
              "#f0f921"
             ]
            ],
            "type": "histogram2d"
           }
          ],
          "histogram2dcontour": [
           {
            "colorbar": {
             "outlinewidth": 0,
             "ticks": ""
            },
            "colorscale": [
             [
              0,
              "#0d0887"
             ],
             [
              0.1111111111111111,
              "#46039f"
             ],
             [
              0.2222222222222222,
              "#7201a8"
             ],
             [
              0.3333333333333333,
              "#9c179e"
             ],
             [
              0.4444444444444444,
              "#bd3786"
             ],
             [
              0.5555555555555556,
              "#d8576b"
             ],
             [
              0.6666666666666666,
              "#ed7953"
             ],
             [
              0.7777777777777778,
              "#fb9f3a"
             ],
             [
              0.8888888888888888,
              "#fdca26"
             ],
             [
              1,
              "#f0f921"
             ]
            ],
            "type": "histogram2dcontour"
           }
          ],
          "mesh3d": [
           {
            "colorbar": {
             "outlinewidth": 0,
             "ticks": ""
            },
            "type": "mesh3d"
           }
          ],
          "parcoords": [
           {
            "line": {
             "colorbar": {
              "outlinewidth": 0,
              "ticks": ""
             }
            },
            "type": "parcoords"
           }
          ],
          "pie": [
           {
            "automargin": true,
            "type": "pie"
           }
          ],
          "scatter": [
           {
            "fillpattern": {
             "fillmode": "overlay",
             "size": 10,
             "solidity": 0.2
            },
            "type": "scatter"
           }
          ],
          "scatter3d": [
           {
            "line": {
             "colorbar": {
              "outlinewidth": 0,
              "ticks": ""
             }
            },
            "marker": {
             "colorbar": {
              "outlinewidth": 0,
              "ticks": ""
             }
            },
            "type": "scatter3d"
           }
          ],
          "scattercarpet": [
           {
            "marker": {
             "colorbar": {
              "outlinewidth": 0,
              "ticks": ""
             }
            },
            "type": "scattercarpet"
           }
          ],
          "scattergeo": [
           {
            "marker": {
             "colorbar": {
              "outlinewidth": 0,
              "ticks": ""
             }
            },
            "type": "scattergeo"
           }
          ],
          "scattergl": [
           {
            "marker": {
             "colorbar": {
              "outlinewidth": 0,
              "ticks": ""
             }
            },
            "type": "scattergl"
           }
          ],
          "scattermap": [
           {
            "marker": {
             "colorbar": {
              "outlinewidth": 0,
              "ticks": ""
             }
            },
            "type": "scattermap"
           }
          ],
          "scattermapbox": [
           {
            "marker": {
             "colorbar": {
              "outlinewidth": 0,
              "ticks": ""
             }
            },
            "type": "scattermapbox"
           }
          ],
          "scatterpolar": [
           {
            "marker": {
             "colorbar": {
              "outlinewidth": 0,
              "ticks": ""
             }
            },
            "type": "scatterpolar"
           }
          ],
          "scatterpolargl": [
           {
            "marker": {
             "colorbar": {
              "outlinewidth": 0,
              "ticks": ""
             }
            },
            "type": "scatterpolargl"
           }
          ],
          "scatterternary": [
           {
            "marker": {
             "colorbar": {
              "outlinewidth": 0,
              "ticks": ""
             }
            },
            "type": "scatterternary"
           }
          ],
          "surface": [
           {
            "colorbar": {
             "outlinewidth": 0,
             "ticks": ""
            },
            "colorscale": [
             [
              0,
              "#0d0887"
             ],
             [
              0.1111111111111111,
              "#46039f"
             ],
             [
              0.2222222222222222,
              "#7201a8"
             ],
             [
              0.3333333333333333,
              "#9c179e"
             ],
             [
              0.4444444444444444,
              "#bd3786"
             ],
             [
              0.5555555555555556,
              "#d8576b"
             ],
             [
              0.6666666666666666,
              "#ed7953"
             ],
             [
              0.7777777777777778,
              "#fb9f3a"
             ],
             [
              0.8888888888888888,
              "#fdca26"
             ],
             [
              1,
              "#f0f921"
             ]
            ],
            "type": "surface"
           }
          ],
          "table": [
           {
            "cells": {
             "fill": {
              "color": "#EBF0F8"
             },
             "line": {
              "color": "white"
             }
            },
            "header": {
             "fill": {
              "color": "#C8D4E3"
             },
             "line": {
              "color": "white"
             }
            },
            "type": "table"
           }
          ]
         },
         "layout": {
          "annotationdefaults": {
           "arrowcolor": "#2a3f5f",
           "arrowhead": 0,
           "arrowwidth": 1
          },
          "autotypenumbers": "strict",
          "coloraxis": {
           "colorbar": {
            "outlinewidth": 0,
            "ticks": ""
           }
          },
          "colorscale": {
           "diverging": [
            [
             0,
             "#8e0152"
            ],
            [
             0.1,
             "#c51b7d"
            ],
            [
             0.2,
             "#de77ae"
            ],
            [
             0.3,
             "#f1b6da"
            ],
            [
             0.4,
             "#fde0ef"
            ],
            [
             0.5,
             "#f7f7f7"
            ],
            [
             0.6,
             "#e6f5d0"
            ],
            [
             0.7,
             "#b8e186"
            ],
            [
             0.8,
             "#7fbc41"
            ],
            [
             0.9,
             "#4d9221"
            ],
            [
             1,
             "#276419"
            ]
           ],
           "sequential": [
            [
             0,
             "#0d0887"
            ],
            [
             0.1111111111111111,
             "#46039f"
            ],
            [
             0.2222222222222222,
             "#7201a8"
            ],
            [
             0.3333333333333333,
             "#9c179e"
            ],
            [
             0.4444444444444444,
             "#bd3786"
            ],
            [
             0.5555555555555556,
             "#d8576b"
            ],
            [
             0.6666666666666666,
             "#ed7953"
            ],
            [
             0.7777777777777778,
             "#fb9f3a"
            ],
            [
             0.8888888888888888,
             "#fdca26"
            ],
            [
             1,
             "#f0f921"
            ]
           ],
           "sequentialminus": [
            [
             0,
             "#0d0887"
            ],
            [
             0.1111111111111111,
             "#46039f"
            ],
            [
             0.2222222222222222,
             "#7201a8"
            ],
            [
             0.3333333333333333,
             "#9c179e"
            ],
            [
             0.4444444444444444,
             "#bd3786"
            ],
            [
             0.5555555555555556,
             "#d8576b"
            ],
            [
             0.6666666666666666,
             "#ed7953"
            ],
            [
             0.7777777777777778,
             "#fb9f3a"
            ],
            [
             0.8888888888888888,
             "#fdca26"
            ],
            [
             1,
             "#f0f921"
            ]
           ]
          },
          "colorway": [
           "#636efa",
           "#EF553B",
           "#00cc96",
           "#ab63fa",
           "#FFA15A",
           "#19d3f3",
           "#FF6692",
           "#B6E880",
           "#FF97FF",
           "#FECB52"
          ],
          "font": {
           "color": "#2a3f5f"
          },
          "geo": {
           "bgcolor": "white",
           "lakecolor": "white",
           "landcolor": "#E5ECF6",
           "showlakes": true,
           "showland": true,
           "subunitcolor": "white"
          },
          "hoverlabel": {
           "align": "left"
          },
          "hovermode": "closest",
          "mapbox": {
           "style": "light"
          },
          "paper_bgcolor": "white",
          "plot_bgcolor": "#E5ECF6",
          "polar": {
           "angularaxis": {
            "gridcolor": "white",
            "linecolor": "white",
            "ticks": ""
           },
           "bgcolor": "#E5ECF6",
           "radialaxis": {
            "gridcolor": "white",
            "linecolor": "white",
            "ticks": ""
           }
          },
          "scene": {
           "xaxis": {
            "backgroundcolor": "#E5ECF6",
            "gridcolor": "white",
            "gridwidth": 2,
            "linecolor": "white",
            "showbackground": true,
            "ticks": "",
            "zerolinecolor": "white"
           },
           "yaxis": {
            "backgroundcolor": "#E5ECF6",
            "gridcolor": "white",
            "gridwidth": 2,
            "linecolor": "white",
            "showbackground": true,
            "ticks": "",
            "zerolinecolor": "white"
           },
           "zaxis": {
            "backgroundcolor": "#E5ECF6",
            "gridcolor": "white",
            "gridwidth": 2,
            "linecolor": "white",
            "showbackground": true,
            "ticks": "",
            "zerolinecolor": "white"
           }
          },
          "shapedefaults": {
           "line": {
            "color": "#2a3f5f"
           }
          },
          "ternary": {
           "aaxis": {
            "gridcolor": "white",
            "linecolor": "white",
            "ticks": ""
           },
           "baxis": {
            "gridcolor": "white",
            "linecolor": "white",
            "ticks": ""
           },
           "bgcolor": "#E5ECF6",
           "caxis": {
            "gridcolor": "white",
            "linecolor": "white",
            "ticks": ""
           }
          },
          "title": {
           "x": 0.05
          },
          "xaxis": {
           "automargin": true,
           "gridcolor": "white",
           "linecolor": "white",
           "ticks": "",
           "title": {
            "standoff": 15
           },
           "zerolinecolor": "white",
           "zerolinewidth": 2
          },
          "yaxis": {
           "automargin": true,
           "gridcolor": "white",
           "linecolor": "white",
           "ticks": "",
           "title": {
            "standoff": 15
           },
           "zerolinecolor": "white",
           "zerolinewidth": 2
          }
         }
        },
        "xaxis": {
         "gridcolor": "#1f292f"
        },
        "yaxis": {
         "gridcolor": "#1f292f"
        }
       }
      }
     },
     "metadata": {},
     "output_type": "display_data"
    }
   ],
   "source": [
    "fig = go.Figure()\n",
    "\n",
    "fig.add_trace(go.Scatter(\n",
    "    x=df_res_m5.end_time,\n",
    "    y=df_res_m5['CUM_RES'],\n",
    "    line=dict(width=2)\n",
    "))\n",
    "\n",
    "fig.update_yaxes(\n",
    "    gridcolor=\"#1f292f\"\n",
    ")\n",
    "fig.update_xaxes(\n",
    "    gridcolor=\"#1f292f\"\n",
    ")\n",
    "\n",
    "fig.update_layout(\n",
    "    margin=dict(l=10,r=10,b=10,t=10),\n",
    "    paper_bgcolor=\"#2c303c\",\n",
    "    plot_bgcolor=\"#2c303c\",\n",
    "    font=dict(size=8, color=\"#e1e1e1\"),\n",
    "    height=400\n",
    ")\n",
    "\n",
    "fig.show()"
   ]
  },
  {
   "cell_type": "code",
   "execution_count": null,
   "id": "d9b1f5f0",
   "metadata": {},
   "outputs": [],
   "source": []
  },
  {
   "cell_type": "code",
   "execution_count": null,
   "id": "b3aae0b2",
   "metadata": {},
   "outputs": [],
   "source": []
  },
  {
   "cell_type": "code",
   "execution_count": null,
   "id": "990d4bde",
   "metadata": {},
   "outputs": [],
   "source": []
  },
  {
   "cell_type": "code",
   "execution_count": null,
   "id": "3f968cf3",
   "metadata": {},
   "outputs": [],
   "source": []
  }
 ],
 "metadata": {
  "kernelspec": {
   "display_name": "venv",
   "language": "python",
   "name": "python3"
  },
  "language_info": {
   "codemirror_mode": {
    "name": "ipython",
    "version": 3
   },
   "file_extension": ".py",
   "mimetype": "text/x-python",
   "name": "python",
   "nbconvert_exporter": "python",
   "pygments_lexer": "ipython3",
   "version": "3.12.3"
  }
 },
 "nbformat": 4,
 "nbformat_minor": 5
}
