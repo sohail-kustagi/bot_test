{
 "cells": [
  {
   "cell_type": "code",
   "execution_count": 3,
   "id": "d45bb3a8",
   "metadata": {},
   "outputs": [],
   "source": [
    "import sys\n",
    "sys.path.append(\"../\")"
   ]
  },
  {
   "cell_type": "code",
   "execution_count": 4,
   "id": "2276616b",
   "metadata": {},
   "outputs": [],
   "source": [
    "import pandas as pd\n",
    "import datetime as dt\n",
    "import plotly.graph_objects as go\n",
    "from technicals.indicatorspre import RSI\n",
    "from technicals.patterns import apply_patterns\n",
    "from plotting import CandlePlot"
   ]
  },
  {
   "cell_type": "code",
   "execution_count": 5,
   "id": "5979a5ce",
   "metadata": {},
   "outputs": [],
   "source": [
    "df_raw = pd.read_pickle(\"../data/XAUUSD_H1.pkl\")"
   ]
  },
  {
   "cell_type": "code",
   "execution_count": 6,
   "id": "e55a7c2d",
   "metadata": {},
   "outputs": [
    {
     "data": {
      "text/plain": [
       "(31263, 13)"
      ]
     },
     "execution_count": 6,
     "metadata": {},
     "output_type": "execute_result"
    }
   ],
   "source": [
    "df_raw.shape"
   ]
  },
  {
   "cell_type": "code",
   "execution_count": 7,
   "id": "9f383be9",
   "metadata": {},
   "outputs": [],
   "source": [
    "df_an = df_raw.copy()#df_raw.iloc[-6000:].copy()\n",
    "df_an.reset_index(drop=True, inplace=True)"
   ]
  },
  {
   "cell_type": "code",
   "execution_count": 8,
   "id": "0cf825ed",
   "metadata": {},
   "outputs": [
    {
     "data": {
      "text/plain": [
       "(31263, 13)"
      ]
     },
     "execution_count": 8,
     "metadata": {},
     "output_type": "execute_result"
    }
   ],
   "source": [
    "df_an.shape"
   ]
  },
  {
   "cell_type": "code",
   "execution_count": 9,
   "id": "61d8e122",
   "metadata": {},
   "outputs": [],
   "source": [
    "df_an = RSI(df_an)"
   ]
  },
  {
   "cell_type": "code",
   "execution_count": 10,
   "id": "95780bfb",
   "metadata": {},
   "outputs": [
    {
     "data": {
      "text/html": [
       "<div>\n",
       "<style scoped>\n",
       "    .dataframe tbody tr th:only-of-type {\n",
       "        vertical-align: middle;\n",
       "    }\n",
       "\n",
       "    .dataframe tbody tr th {\n",
       "        vertical-align: top;\n",
       "    }\n",
       "\n",
       "    .dataframe thead th {\n",
       "        text-align: right;\n",
       "    }\n",
       "</style>\n",
       "<table border=\"1\" class=\"dataframe\">\n",
       "  <thead>\n",
       "    <tr style=\"text-align: right;\">\n",
       "      <th></th>\n",
       "      <th>time</th>\n",
       "      <th>bid_o</th>\n",
       "      <th>bid_h</th>\n",
       "      <th>bid_l</th>\n",
       "      <th>bid_c</th>\n",
       "      <th>ask_o</th>\n",
       "      <th>ask_h</th>\n",
       "      <th>ask_l</th>\n",
       "      <th>ask_c</th>\n",
       "      <th>mid_o</th>\n",
       "      <th>mid_h</th>\n",
       "      <th>mid_l</th>\n",
       "      <th>mid_c</th>\n",
       "      <th>RSI_14</th>\n",
       "    </tr>\n",
       "  </thead>\n",
       "  <tbody>\n",
       "    <tr>\n",
       "      <th>31258</th>\n",
       "      <td>2025-03-13 11:00:00</td>\n",
       "      <td>2944.07</td>\n",
       "      <td>2948.65</td>\n",
       "      <td>2944.07</td>\n",
       "      <td>2946.24</td>\n",
       "      <td>2944.23</td>\n",
       "      <td>2948.73</td>\n",
       "      <td>2944.23</td>\n",
       "      <td>2946.50</td>\n",
       "      <td>2944.150</td>\n",
       "      <td>2948.690</td>\n",
       "      <td>2944.150</td>\n",
       "      <td>2946.370</td>\n",
       "      <td>64.279021</td>\n",
       "    </tr>\n",
       "    <tr>\n",
       "      <th>31259</th>\n",
       "      <td>2025-03-13 12:00:00</td>\n",
       "      <td>2946.24</td>\n",
       "      <td>2949.11</td>\n",
       "      <td>2941.02</td>\n",
       "      <td>2942.39</td>\n",
       "      <td>2946.49</td>\n",
       "      <td>2949.48</td>\n",
       "      <td>2941.16</td>\n",
       "      <td>2942.56</td>\n",
       "      <td>2946.365</td>\n",
       "      <td>2949.295</td>\n",
       "      <td>2941.090</td>\n",
       "      <td>2942.475</td>\n",
       "      <td>58.702188</td>\n",
       "    </tr>\n",
       "    <tr>\n",
       "      <th>31260</th>\n",
       "      <td>2025-03-13 13:00:00</td>\n",
       "      <td>2942.37</td>\n",
       "      <td>2952.42</td>\n",
       "      <td>2939.11</td>\n",
       "      <td>2950.38</td>\n",
       "      <td>2942.55</td>\n",
       "      <td>2952.57</td>\n",
       "      <td>2939.19</td>\n",
       "      <td>2950.56</td>\n",
       "      <td>2942.460</td>\n",
       "      <td>2952.495</td>\n",
       "      <td>2939.150</td>\n",
       "      <td>2950.470</td>\n",
       "      <td>65.347927</td>\n",
       "    </tr>\n",
       "    <tr>\n",
       "      <th>31261</th>\n",
       "      <td>2025-03-13 14:00:00</td>\n",
       "      <td>2950.40</td>\n",
       "      <td>2971.13</td>\n",
       "      <td>2949.86</td>\n",
       "      <td>2969.94</td>\n",
       "      <td>2950.57</td>\n",
       "      <td>2971.31</td>\n",
       "      <td>2950.01</td>\n",
       "      <td>2970.09</td>\n",
       "      <td>2950.485</td>\n",
       "      <td>2971.220</td>\n",
       "      <td>2949.935</td>\n",
       "      <td>2970.015</td>\n",
       "      <td>75.659879</td>\n",
       "    </tr>\n",
       "    <tr>\n",
       "      <th>31262</th>\n",
       "      <td>2025-03-13 15:00:00</td>\n",
       "      <td>2969.94</td>\n",
       "      <td>2978.30</td>\n",
       "      <td>2966.43</td>\n",
       "      <td>2977.78</td>\n",
       "      <td>2970.10</td>\n",
       "      <td>2978.55</td>\n",
       "      <td>2966.54</td>\n",
       "      <td>2978.02</td>\n",
       "      <td>2970.020</td>\n",
       "      <td>2978.425</td>\n",
       "      <td>2966.485</td>\n",
       "      <td>2977.900</td>\n",
       "      <td>78.446513</td>\n",
       "    </tr>\n",
       "  </tbody>\n",
       "</table>\n",
       "</div>"
      ],
      "text/plain": [
       "                     time    bid_o    bid_h    bid_l    bid_c    ask_o  \\\n",
       "31258 2025-03-13 11:00:00  2944.07  2948.65  2944.07  2946.24  2944.23   \n",
       "31259 2025-03-13 12:00:00  2946.24  2949.11  2941.02  2942.39  2946.49   \n",
       "31260 2025-03-13 13:00:00  2942.37  2952.42  2939.11  2950.38  2942.55   \n",
       "31261 2025-03-13 14:00:00  2950.40  2971.13  2949.86  2969.94  2950.57   \n",
       "31262 2025-03-13 15:00:00  2969.94  2978.30  2966.43  2977.78  2970.10   \n",
       "\n",
       "         ask_h    ask_l    ask_c     mid_o     mid_h     mid_l     mid_c  \\\n",
       "31258  2948.73  2944.23  2946.50  2944.150  2948.690  2944.150  2946.370   \n",
       "31259  2949.48  2941.16  2942.56  2946.365  2949.295  2941.090  2942.475   \n",
       "31260  2952.57  2939.19  2950.56  2942.460  2952.495  2939.150  2950.470   \n",
       "31261  2971.31  2950.01  2970.09  2950.485  2971.220  2949.935  2970.015   \n",
       "31262  2978.55  2966.54  2978.02  2970.020  2978.425  2966.485  2977.900   \n",
       "\n",
       "          RSI_14  \n",
       "31258  64.279021  \n",
       "31259  58.702188  \n",
       "31260  65.347927  \n",
       "31261  75.659879  \n",
       "31262  78.446513  "
      ]
     },
     "execution_count": 10,
     "metadata": {},
     "output_type": "execute_result"
    }
   ],
   "source": [
    "df_an.tail()"
   ]
  },
  {
   "cell_type": "code",
   "execution_count": 11,
   "id": "23769d23",
   "metadata": {},
   "outputs": [],
   "source": [
    "df_an = apply_patterns(df_an)"
   ]
  },
  {
   "cell_type": "code",
   "execution_count": 12,
   "id": "8ac55bc7",
   "metadata": {},
   "outputs": [],
   "source": [
    "df_an['EMA_200'] = df_an.mid_c.ewm(span=200, min_periods=200).mean()"
   ]
  },
  {
   "cell_type": "code",
   "execution_count": 13,
   "id": "f2498b85",
   "metadata": {},
   "outputs": [
    {
     "data": {
      "text/plain": [
       "Index(['time', 'bid_o', 'bid_h', 'bid_l', 'bid_c', 'ask_o', 'ask_h', 'ask_l',\n",
       "       'ask_c', 'mid_o', 'mid_h', 'mid_l', 'mid_c', 'RSI_14', 'direction',\n",
       "       'body_size', 'full_range', 'body_perc', 'body_lower', 'body_upper',\n",
       "       'body_bottom_perc', 'body_top_perc', 'mid_point', 'low_change',\n",
       "       'high_change', 'body_size_change', 'mid_point_prev', 'mid_point_prev_2',\n",
       "       'body_size_prev', 'direction_prev', 'direction_prev_2',\n",
       "       'body_perc_prev', 'body_perc_prev_2', 'close_price_prev', 'open_price',\n",
       "       'close_price', 'HANGING_MAN', 'SHOOTING_STAR', 'SPINNING_TOP',\n",
       "       'MARUBOZU', 'ENGULFING', 'TWEEZER_TOP', 'TWEEZER_BOTTOM',\n",
       "       'MORNING_STAR', 'EVENING_STAR', 'PIERCING_LINE', 'PIN_BAR',\n",
       "       'THREE_WHITE_SOLDIERS', 'EMA_200'],\n",
       "      dtype='object')"
      ]
     },
     "execution_count": 13,
     "metadata": {},
     "output_type": "execute_result"
    }
   ],
   "source": [
    "df_an.columns"
   ]
  },
  {
   "cell_type": "code",
   "execution_count": 14,
   "id": "881c992e",
   "metadata": {},
   "outputs": [],
   "source": [
    "our_cols = ['time', 'mid_o', 'mid_h', 'mid_l', 'mid_c',\n",
    "                'ask_c','bid_c', 'ENGULFING', 'direction', 'EMA_200', 'RSI_14' ]"
   ]
  },
  {
   "cell_type": "code",
   "execution_count": 15,
   "id": "c65c943c",
   "metadata": {},
   "outputs": [],
   "source": [
    "df_slim = df_an[our_cols].copy()\n",
    "df_slim.dropna(inplace=True)\n",
    "df_slim.reset_index(drop=True, inplace=True)"
   ]
  },
  {
   "cell_type": "code",
   "execution_count": 16,
   "id": "b33bb31e",
   "metadata": {},
   "outputs": [
    {
     "data": {
      "text/html": [
       "<div>\n",
       "<style scoped>\n",
       "    .dataframe tbody tr th:only-of-type {\n",
       "        vertical-align: middle;\n",
       "    }\n",
       "\n",
       "    .dataframe tbody tr th {\n",
       "        vertical-align: top;\n",
       "    }\n",
       "\n",
       "    .dataframe thead th {\n",
       "        text-align: right;\n",
       "    }\n",
       "</style>\n",
       "<table border=\"1\" class=\"dataframe\">\n",
       "  <thead>\n",
       "    <tr style=\"text-align: right;\">\n",
       "      <th></th>\n",
       "      <th>time</th>\n",
       "      <th>mid_o</th>\n",
       "      <th>mid_h</th>\n",
       "      <th>mid_l</th>\n",
       "      <th>mid_c</th>\n",
       "      <th>ask_c</th>\n",
       "      <th>bid_c</th>\n",
       "      <th>ENGULFING</th>\n",
       "      <th>direction</th>\n",
       "      <th>EMA_200</th>\n",
       "      <th>RSI_14</th>\n",
       "    </tr>\n",
       "  </thead>\n",
       "  <tbody>\n",
       "    <tr>\n",
       "      <th>0</th>\n",
       "      <td>2020-01-14 14:00:00</td>\n",
       "      <td>1544.200</td>\n",
       "      <td>1547.085</td>\n",
       "      <td>1542.520</td>\n",
       "      <td>1546.455</td>\n",
       "      <td>1546.57</td>\n",
       "      <td>1546.34</td>\n",
       "      <td>False</td>\n",
       "      <td>1</td>\n",
       "      <td>1554.180147</td>\n",
       "      <td>51.971579</td>\n",
       "    </tr>\n",
       "    <tr>\n",
       "      <th>1</th>\n",
       "      <td>2020-01-14 15:00:00</td>\n",
       "      <td>1546.385</td>\n",
       "      <td>1546.840</td>\n",
       "      <td>1541.045</td>\n",
       "      <td>1543.070</td>\n",
       "      <td>1543.16</td>\n",
       "      <td>1542.98</td>\n",
       "      <td>True</td>\n",
       "      <td>-1</td>\n",
       "      <td>1554.052495</td>\n",
       "      <td>44.349179</td>\n",
       "    </tr>\n",
       "    <tr>\n",
       "      <th>2</th>\n",
       "      <td>2020-01-14 16:00:00</td>\n",
       "      <td>1543.075</td>\n",
       "      <td>1544.415</td>\n",
       "      <td>1542.240</td>\n",
       "      <td>1542.440</td>\n",
       "      <td>1542.57</td>\n",
       "      <td>1542.31</td>\n",
       "      <td>False</td>\n",
       "      <td>-1</td>\n",
       "      <td>1553.919276</td>\n",
       "      <td>43.082708</td>\n",
       "    </tr>\n",
       "    <tr>\n",
       "      <th>3</th>\n",
       "      <td>2020-01-14 17:00:00</td>\n",
       "      <td>1542.465</td>\n",
       "      <td>1543.910</td>\n",
       "      <td>1542.090</td>\n",
       "      <td>1543.620</td>\n",
       "      <td>1543.74</td>\n",
       "      <td>1543.50</td>\n",
       "      <td>True</td>\n",
       "      <td>1</td>\n",
       "      <td>1553.801301</td>\n",
       "      <td>46.182681</td>\n",
       "    </tr>\n",
       "    <tr>\n",
       "      <th>4</th>\n",
       "      <td>2020-01-14 18:00:00</td>\n",
       "      <td>1543.605</td>\n",
       "      <td>1548.030</td>\n",
       "      <td>1542.980</td>\n",
       "      <td>1545.780</td>\n",
       "      <td>1545.91</td>\n",
       "      <td>1545.65</td>\n",
       "      <td>False</td>\n",
       "      <td>1</td>\n",
       "      <td>1553.709558</td>\n",
       "      <td>51.400641</td>\n",
       "    </tr>\n",
       "  </tbody>\n",
       "</table>\n",
       "</div>"
      ],
      "text/plain": [
       "                 time     mid_o     mid_h     mid_l     mid_c    ask_c  \\\n",
       "0 2020-01-14 14:00:00  1544.200  1547.085  1542.520  1546.455  1546.57   \n",
       "1 2020-01-14 15:00:00  1546.385  1546.840  1541.045  1543.070  1543.16   \n",
       "2 2020-01-14 16:00:00  1543.075  1544.415  1542.240  1542.440  1542.57   \n",
       "3 2020-01-14 17:00:00  1542.465  1543.910  1542.090  1543.620  1543.74   \n",
       "4 2020-01-14 18:00:00  1543.605  1548.030  1542.980  1545.780  1545.91   \n",
       "\n",
       "     bid_c  ENGULFING  direction      EMA_200     RSI_14  \n",
       "0  1546.34      False          1  1554.180147  51.971579  \n",
       "1  1542.98       True         -1  1554.052495  44.349179  \n",
       "2  1542.31      False         -1  1553.919276  43.082708  \n",
       "3  1543.50       True          1  1553.801301  46.182681  \n",
       "4  1545.65      False          1  1553.709558  51.400641  "
      ]
     },
     "execution_count": 16,
     "metadata": {},
     "output_type": "execute_result"
    }
   ],
   "source": [
    "df_slim.head()"
   ]
  },
  {
   "cell_type": "code",
   "execution_count": 17,
   "id": "a0d4271d",
   "metadata": {},
   "outputs": [],
   "source": [
    "BUY = 1\n",
    "SELL = -1\n",
    "NONE = 0\n",
    "RSI_LIMIT = 50.0\n",
    "\n",
    "def apply_signal(row):\n",
    "    if row.ENGULFING == True:\n",
    "        if row.direction == BUY and row.mid_l > row.EMA_200:\n",
    "            if row.RSI_14 > RSI_LIMIT:\n",
    "                return BUY\n",
    "        if row.direction == SELL and row.mid_h < row.EMA_200:\n",
    "            if row.RSI_14 < RSI_LIMIT:\n",
    "                return SELL\n",
    "    return NONE        "
   ]
  },
  {
   "cell_type": "code",
   "execution_count": 18,
   "id": "774e924d",
   "metadata": {},
   "outputs": [],
   "source": [
    "df_slim[\"SIGNAL\"] = df_slim.apply(apply_signal, axis=1)"
   ]
  },
  {
   "cell_type": "code",
   "execution_count": 19,
   "id": "cbf03c6f",
   "metadata": {},
   "outputs": [
    {
     "data": {
      "text/plain": [
       "SIGNAL\n",
       " 0    28297\n",
       " 1     1646\n",
       "-1     1121\n",
       "Name: count, dtype: int64"
      ]
     },
     "execution_count": 19,
     "metadata": {},
     "output_type": "execute_result"
    }
   ],
   "source": [
    "df_slim[\"SIGNAL\"].value_counts()"
   ]
  },
  {
   "cell_type": "code",
   "execution_count": 20,
   "id": "41839f66",
   "metadata": {},
   "outputs": [],
   "source": [
    "LOSS_FACTOR = -1.0\n",
    "PROFIT_FACTOR = 1.5\n",
    "\n",
    "def apply_take_profit(row):\n",
    "    if row.SIGNAL != NONE:\n",
    "        return (row.mid_c - row.mid_o) * 1.5 + row.mid_c\n",
    "    else:\n",
    "        return 0.0\n",
    "\n",
    "def apply_stop_loss(row):\n",
    "    if row.SIGNAL != NONE:\n",
    "        return row.mid_o\n",
    "    else:\n",
    "        return 0.0"
   ]
  },
  {
   "cell_type": "code",
   "execution_count": 21,
   "id": "914d768a",
   "metadata": {},
   "outputs": [],
   "source": [
    "df_slim[\"TP\"] = df_slim.apply(apply_take_profit, axis=1)\n",
    "df_slim[\"SL\"] = df_slim.apply(apply_stop_loss, axis=1)"
   ]
  },
  {
   "cell_type": "code",
   "execution_count": 22,
   "id": "fa1aef5e",
   "metadata": {},
   "outputs": [
    {
     "data": {
      "text/html": [
       "<div>\n",
       "<style scoped>\n",
       "    .dataframe tbody tr th:only-of-type {\n",
       "        vertical-align: middle;\n",
       "    }\n",
       "\n",
       "    .dataframe tbody tr th {\n",
       "        vertical-align: top;\n",
       "    }\n",
       "\n",
       "    .dataframe thead th {\n",
       "        text-align: right;\n",
       "    }\n",
       "</style>\n",
       "<table border=\"1\" class=\"dataframe\">\n",
       "  <thead>\n",
       "    <tr style=\"text-align: right;\">\n",
       "      <th></th>\n",
       "      <th>time</th>\n",
       "      <th>mid_o</th>\n",
       "      <th>mid_h</th>\n",
       "      <th>mid_l</th>\n",
       "      <th>mid_c</th>\n",
       "      <th>ask_c</th>\n",
       "      <th>bid_c</th>\n",
       "      <th>ENGULFING</th>\n",
       "      <th>direction</th>\n",
       "      <th>EMA_200</th>\n",
       "      <th>RSI_14</th>\n",
       "      <th>SIGNAL</th>\n",
       "      <th>TP</th>\n",
       "      <th>SL</th>\n",
       "    </tr>\n",
       "  </thead>\n",
       "  <tbody>\n",
       "    <tr>\n",
       "      <th>29</th>\n",
       "      <td>2020-01-15 20:00:00</td>\n",
       "      <td>1555.455</td>\n",
       "      <td>1557.075</td>\n",
       "      <td>1554.300</td>\n",
       "      <td>1556.205</td>\n",
       "      <td>1556.30</td>\n",
       "      <td>1556.11</td>\n",
       "      <td>True</td>\n",
       "      <td>1</td>\n",
       "      <td>1553.208798</td>\n",
       "      <td>61.232784</td>\n",
       "      <td>1</td>\n",
       "      <td>1557.330</td>\n",
       "      <td>1555.455</td>\n",
       "    </tr>\n",
       "    <tr>\n",
       "      <th>35</th>\n",
       "      <td>2020-01-16 03:00:00</td>\n",
       "      <td>1556.020</td>\n",
       "      <td>1556.815</td>\n",
       "      <td>1555.480</td>\n",
       "      <td>1556.520</td>\n",
       "      <td>1556.61</td>\n",
       "      <td>1556.43</td>\n",
       "      <td>True</td>\n",
       "      <td>1</td>\n",
       "      <td>1553.417529</td>\n",
       "      <td>60.536269</td>\n",
       "      <td>1</td>\n",
       "      <td>1557.270</td>\n",
       "      <td>1556.020</td>\n",
       "    </tr>\n",
       "    <tr>\n",
       "      <th>43</th>\n",
       "      <td>2020-01-16 11:00:00</td>\n",
       "      <td>1554.800</td>\n",
       "      <td>1556.500</td>\n",
       "      <td>1554.570</td>\n",
       "      <td>1556.290</td>\n",
       "      <td>1556.40</td>\n",
       "      <td>1556.18</td>\n",
       "      <td>True</td>\n",
       "      <td>1</td>\n",
       "      <td>1553.490274</td>\n",
       "      <td>58.418260</td>\n",
       "      <td>1</td>\n",
       "      <td>1558.525</td>\n",
       "      <td>1554.800</td>\n",
       "    </tr>\n",
       "    <tr>\n",
       "      <th>61</th>\n",
       "      <td>2020-01-17 06:00:00</td>\n",
       "      <td>1555.720</td>\n",
       "      <td>1557.015</td>\n",
       "      <td>1554.355</td>\n",
       "      <td>1556.920</td>\n",
       "      <td>1557.03</td>\n",
       "      <td>1556.81</td>\n",
       "      <td>True</td>\n",
       "      <td>1</td>\n",
       "      <td>1553.458130</td>\n",
       "      <td>60.721254</td>\n",
       "      <td>1</td>\n",
       "      <td>1558.720</td>\n",
       "      <td>1555.720</td>\n",
       "    </tr>\n",
       "    <tr>\n",
       "      <th>67</th>\n",
       "      <td>2020-01-17 12:00:00</td>\n",
       "      <td>1556.580</td>\n",
       "      <td>1559.790</td>\n",
       "      <td>1556.525</td>\n",
       "      <td>1558.970</td>\n",
       "      <td>1559.11</td>\n",
       "      <td>1558.83</td>\n",
       "      <td>True</td>\n",
       "      <td>1</td>\n",
       "      <td>1553.640734</td>\n",
       "      <td>63.828401</td>\n",
       "      <td>1</td>\n",
       "      <td>1562.555</td>\n",
       "      <td>1556.580</td>\n",
       "    </tr>\n",
       "  </tbody>\n",
       "</table>\n",
       "</div>"
      ],
      "text/plain": [
       "                  time     mid_o     mid_h     mid_l     mid_c    ask_c  \\\n",
       "29 2020-01-15 20:00:00  1555.455  1557.075  1554.300  1556.205  1556.30   \n",
       "35 2020-01-16 03:00:00  1556.020  1556.815  1555.480  1556.520  1556.61   \n",
       "43 2020-01-16 11:00:00  1554.800  1556.500  1554.570  1556.290  1556.40   \n",
       "61 2020-01-17 06:00:00  1555.720  1557.015  1554.355  1556.920  1557.03   \n",
       "67 2020-01-17 12:00:00  1556.580  1559.790  1556.525  1558.970  1559.11   \n",
       "\n",
       "      bid_c  ENGULFING  direction      EMA_200     RSI_14  SIGNAL        TP  \\\n",
       "29  1556.11       True          1  1553.208798  61.232784       1  1557.330   \n",
       "35  1556.43       True          1  1553.417529  60.536269       1  1557.270   \n",
       "43  1556.18       True          1  1553.490274  58.418260       1  1558.525   \n",
       "61  1556.81       True          1  1553.458130  60.721254       1  1558.720   \n",
       "67  1558.83       True          1  1553.640734  63.828401       1  1562.555   \n",
       "\n",
       "          SL  \n",
       "29  1555.455  \n",
       "35  1556.020  \n",
       "43  1554.800  \n",
       "61  1555.720  \n",
       "67  1556.580  "
      ]
     },
     "execution_count": 22,
     "metadata": {},
     "output_type": "execute_result"
    }
   ],
   "source": [
    "df_slim[df_slim.SIGNAL==BUY].head()"
   ]
  },
  {
   "cell_type": "code",
   "execution_count": 23,
   "id": "c8be66ff",
   "metadata": {},
   "outputs": [
    {
     "data": {
      "application/vnd.plotly.v1+json": {
       "config": {
        "plotlyServerURL": "https://plot.ly"
       },
       "data": [
        {
         "close": {
          "bdata": "ZmZmZmZRmEDMzMzMzFeYQOJ6FK5HX5hA9ihcj0JgmEA0MzMzM1+YQHA9CtejVJhA4noUrsdVmEApXI/CdVSYQJqZmZmZU5hAuB6F69FWmEBI4XoUrleYQI/C9SjcW5hArkfhepRemEC4HoXr0WeYQB+F61E4ZphAH4XrUThmmEA+Ctej8GCYQNejcD0KYphAuB6F61FfmEBI4XoUrmCYQJqZmZmZXphACtejcL1hmEBmZmZm5mCYQOF6FK7HY5hAw/UoXA9kmEBwPQrXo2KYQNejcD0KY5hAhutRuB5lmECkcD0K12GYQNejcD2KephA",
          "dtype": "f8"
         },
         "decreasing": {
          "fillcolor": "#CC2E3C",
          "line": {
           "color": "#FF3A4C"
          }
         },
         "high": {
          "bdata": "uB6F61FamEBcj8L1qFqYQDMzMzOzYJhAAAAAAABlmEA0MzMzM2WYQGZmZmbmY5hAhetRuJ5WmEDC9Shcj1yYQJDC9ShcWZhA16NwPYpbmEDsUbgehViYQI/C9SjcW5hAkML1KFxfmEBwPQrXI2mYQKRwPQpXa5hANDMzMzNqmECamZmZGWeYQFyPwvWoYphAw/UoXA9jmEDMzMzMzGKYQPYoXI/CYJhA7FG4HgVkmEAehetRuGKYQJDC9ShcZJhAw/UoXA9lmEAehetRuGSYQD4K16NwY5hAw/UoXA9mmEAAAAAAAGiYQNejcD2Kf5hA",
          "dtype": "f8"
         },
         "increasing": {
          "fillcolor": "#24A06B",
          "line": {
           "color": "#2EC886"
          }
         },
         "line": {
          "width": 1
         },
         "low": {
          "bdata": "exSuR2FImEBcj8L1qE+YQKRwPQpXVphAMzMzM7NdmEDhehSux16YQArXo3A9UZhArkfhepRRmEDC9ShcD0+YQHE9CtcjU5hAPgrXo/BSmEDsUbgeBVSYQLgehetRV5hAuB6F69FbmEB6FK5H4VyYQML1KFyPZZhA16NwPQphmECQwvUoXF2YQOJ6FK5HXphAAAAAAIBdmEDMzMzMzF2YQEjhehSuXZhAzczMzExZmECF61G4nl2YQOF6FK7HXphAhetRuJ5hmEC4HoXrUWKYQLgehetRYphAXI/C9ShfmEDC9Shcj2GYQFK4HoVrYJhA",
          "dtype": "f8"
         },
         "opacity": 1,
         "open": {
          "bdata": "H4XrUThXmEDiehSuR1GYQB6F61G4V5hANDMzMzNfmEApXI/CdWCYQGZmZmbmXphA9ihcj8JUmEDC9ShcD1WYQKRwPQpXVJhAXI/C9ahTmEDhehSux1aYQEjhehSuV5hAuB6F69FbmECamZmZmV6YQClcj8J1Z5hASOF6FC5mmEA0MzMzM2aYQGZmZmbmYJhAj8L1KNxhmEBI4XoULl+YQDMzMzOzYJhAwvUoXI9emEBwPQrXo2GYQKRwPQrXYJhAMzMzM7NjmECamZmZGWSYQFK4HoVrYphAexSuR2FfmEBI4XoULmWYQI/C9SjcYZhA",
          "dtype": "f8"
         },
         "type": "candlestick",
         "x": [
          "s20-01-17 15:00",
          "s20-01-17 16:00",
          "s20-01-17 17:00",
          "s20-01-17 18:00",
          "s20-01-17 19:00",
          "s20-01-17 20:00",
          "s20-01-17 21:00",
          "s20-01-19 23:00",
          "s20-01-20 00:00",
          "s20-01-20 01:00",
          "s20-01-20 02:00",
          "s20-01-20 03:00",
          "s20-01-20 04:00",
          "s20-01-20 05:00",
          "s20-01-20 06:00",
          "s20-01-20 07:00",
          "s20-01-20 08:00",
          "s20-01-20 09:00",
          "s20-01-20 10:00",
          "s20-01-20 11:00",
          "s20-01-20 12:00",
          "s20-01-20 13:00",
          "s20-01-20 14:00",
          "s20-01-20 15:00",
          "s20-01-20 16:00",
          "s20-01-20 17:00",
          "s20-01-20 18:00",
          "s20-01-20 23:00",
          "s20-01-21 00:00",
          "s20-01-21 01:00"
         ]
        },
        {
         "marker": {
          "color": "#0000FF",
          "size": 12
         },
         "mode": "markers",
         "type": "scatter",
         "x": [
          "s20-01-17 16:00",
          "s20-01-20 01:00",
          "s20-01-20 13:00",
          "s20-01-20 15:00",
          "s20-01-21 01:00"
         ],
         "y": {
          "bdata": "zMzMzMxXmEC4HoXr0VaYQArXo3C9YZhA4XoUrsdjmEDXo3A9inqYQA==",
          "dtype": "f8"
         }
        },
        {
         "marker": {
          "color": "#00FF00",
          "size": 12
         },
         "mode": "markers",
         "type": "scatter",
         "x": [
          "s20-01-17 16:00",
          "s20-01-20 01:00",
          "s20-01-20 13:00",
          "s20-01-20 15:00",
          "s20-01-21 01:00"
         ],
         "y": {
          "bdata": "q0fhepRhmEDC9Shcj1uYQPYoXI+CZphAPArXozBomEDD9Shcj5+YQA==",
          "dtype": "f8"
         }
        },
        {
         "marker": {
          "color": "#FF0000",
          "size": 12
         },
         "mode": "markers",
         "type": "scatter",
         "x": [
          "s20-01-17 16:00",
          "s20-01-20 01:00",
          "s20-01-20 13:00",
          "s20-01-20 15:00",
          "s20-01-21 01:00"
         ],
         "y": {
          "bdata": "4noUrkdRmEBcj8L1qFOYQML1KFyPXphApHA9CtdgmECPwvUo3GGYQA==",
          "dtype": "f8"
         }
        },
        {
         "line": {
          "shape": "spline",
          "width": 2
         },
         "name": "EMA_200",
         "type": "scatter",
         "x": [
          "s20-01-17 15:00",
          "s20-01-17 16:00",
          "s20-01-17 17:00",
          "s20-01-17 18:00",
          "s20-01-17 19:00",
          "s20-01-17 20:00",
          "s20-01-17 21:00",
          "s20-01-19 23:00",
          "s20-01-20 00:00",
          "s20-01-20 01:00",
          "s20-01-20 02:00",
          "s20-01-20 03:00",
          "s20-01-20 04:00",
          "s20-01-20 05:00",
          "s20-01-20 06:00",
          "s20-01-20 07:00",
          "s20-01-20 08:00",
          "s20-01-20 09:00",
          "s20-01-20 10:00",
          "s20-01-20 11:00",
          "s20-01-20 12:00",
          "s20-01-20 13:00",
          "s20-01-20 14:00",
          "s20-01-20 15:00",
          "s20-01-20 16:00",
          "s20-01-20 17:00",
          "s20-01-20 18:00",
          "s20-01-20 23:00",
          "s20-01-21 00:00",
          "s20-01-21 01:00"
         ],
         "xaxis": "x",
         "y": {
          "bdata": "Tg2yDu5GmECHB8wXHEeYQD1VrwBeR5hAUkPI1aFHmECFbi4D4keYQGrIOLoESJhADURyJipImEDPEjmQS0iYQEO5rENqSJhAEZjNW5FImEA25IBYukiYQAS6vjPuSJhA/NUy2ChJmEAIz7XXe0mYQCsJVpXJSZhA6ZN/dBZKmECp/LIzVEqYQIkcCTuUSphATLOUNMxKmEA8nrg5B0uYQP2Xlfs7S5hAs+oOnXhLmEB0GGdPskuYQCkEGR7zS5hAQTL49TNMmED4szVFcEyYQAWDC/2sTJhAmC0en+5MmEBA8a+6Jk2YQCsV0negTZhA",
          "dtype": "f8"
         },
         "yaxis": "y"
        },
        {
         "line": {
          "shape": "spline",
          "width": 2
         },
         "name": "RSI_14",
         "type": "scatter",
         "x": [
          "s20-01-17 15:00",
          "s20-01-17 16:00",
          "s20-01-17 17:00",
          "s20-01-17 18:00",
          "s20-01-17 19:00",
          "s20-01-17 20:00",
          "s20-01-17 21:00",
          "s20-01-19 23:00",
          "s20-01-20 00:00",
          "s20-01-20 01:00",
          "s20-01-20 02:00",
          "s20-01-20 03:00",
          "s20-01-20 04:00",
          "s20-01-20 05:00",
          "s20-01-20 06:00",
          "s20-01-20 07:00",
          "s20-01-20 08:00",
          "s20-01-20 09:00",
          "s20-01-20 10:00",
          "s20-01-20 11:00",
          "s20-01-20 12:00",
          "s20-01-20 13:00",
          "s20-01-20 14:00",
          "s20-01-20 15:00",
          "s20-01-20 16:00",
          "s20-01-20 17:00",
          "s20-01-20 18:00",
          "s20-01-20 23:00",
          "s20-01-21 00:00",
          "s20-01-21 01:00"
         ],
         "xaxis": "x",
         "y": {
          "bdata": "cWzUQ5W+SkC/WgKYpJVMQOtyYVwuhk5A/44bMhfFTkDnRTZp/lJOQO2/+Y/hPkpAgglPZoGcSkAnREV+LhxKQKtxdWn+xElA5vv1XvH6SkB8jy8CcE5LQK0kBgKK30xA+C2tQCPZTUA98P3uJ2FQQJIsv3RX5k9Akiy/dFfmT0CIwBRrVv1MQNamYj04aU1AT8tsPnbrS0Cdwp15r4FMQE86CGWkT0tANrA+Xl/CTEAcGKmtbz1MQMk15pCbmU1AWXT8lo+7TUDNsPqijrZMQFzvnwmp7kxAWXtJVqcUTkCjHWr5MYhLQMoFiOFgV1JA",
          "dtype": "f8"
         },
         "yaxis": "y2"
        }
       ],
       "layout": {
        "font": {
         "color": "#e1e1e1",
         "size": 8
        },
        "height": 250,
        "margin": {
         "b": 10,
         "l": 10,
         "r": 10,
         "t": 10
        },
        "paper_bgcolor": "#2c303c",
        "plot_bgcolor": "#2c303c",
        "template": {
         "data": {
          "bar": [
           {
            "error_x": {
             "color": "#2a3f5f"
            },
            "error_y": {
             "color": "#2a3f5f"
            },
            "marker": {
             "line": {
              "color": "#E5ECF6",
              "width": 0.5
             },
             "pattern": {
              "fillmode": "overlay",
              "size": 10,
              "solidity": 0.2
             }
            },
            "type": "bar"
           }
          ],
          "barpolar": [
           {
            "marker": {
             "line": {
              "color": "#E5ECF6",
              "width": 0.5
             },
             "pattern": {
              "fillmode": "overlay",
              "size": 10,
              "solidity": 0.2
             }
            },
            "type": "barpolar"
           }
          ],
          "carpet": [
           {
            "aaxis": {
             "endlinecolor": "#2a3f5f",
             "gridcolor": "white",
             "linecolor": "white",
             "minorgridcolor": "white",
             "startlinecolor": "#2a3f5f"
            },
            "baxis": {
             "endlinecolor": "#2a3f5f",
             "gridcolor": "white",
             "linecolor": "white",
             "minorgridcolor": "white",
             "startlinecolor": "#2a3f5f"
            },
            "type": "carpet"
           }
          ],
          "choropleth": [
           {
            "colorbar": {
             "outlinewidth": 0,
             "ticks": ""
            },
            "type": "choropleth"
           }
          ],
          "contour": [
           {
            "colorbar": {
             "outlinewidth": 0,
             "ticks": ""
            },
            "colorscale": [
             [
              0,
              "#0d0887"
             ],
             [
              0.1111111111111111,
              "#46039f"
             ],
             [
              0.2222222222222222,
              "#7201a8"
             ],
             [
              0.3333333333333333,
              "#9c179e"
             ],
             [
              0.4444444444444444,
              "#bd3786"
             ],
             [
              0.5555555555555556,
              "#d8576b"
             ],
             [
              0.6666666666666666,
              "#ed7953"
             ],
             [
              0.7777777777777778,
              "#fb9f3a"
             ],
             [
              0.8888888888888888,
              "#fdca26"
             ],
             [
              1,
              "#f0f921"
             ]
            ],
            "type": "contour"
           }
          ],
          "contourcarpet": [
           {
            "colorbar": {
             "outlinewidth": 0,
             "ticks": ""
            },
            "type": "contourcarpet"
           }
          ],
          "heatmap": [
           {
            "colorbar": {
             "outlinewidth": 0,
             "ticks": ""
            },
            "colorscale": [
             [
              0,
              "#0d0887"
             ],
             [
              0.1111111111111111,
              "#46039f"
             ],
             [
              0.2222222222222222,
              "#7201a8"
             ],
             [
              0.3333333333333333,
              "#9c179e"
             ],
             [
              0.4444444444444444,
              "#bd3786"
             ],
             [
              0.5555555555555556,
              "#d8576b"
             ],
             [
              0.6666666666666666,
              "#ed7953"
             ],
             [
              0.7777777777777778,
              "#fb9f3a"
             ],
             [
              0.8888888888888888,
              "#fdca26"
             ],
             [
              1,
              "#f0f921"
             ]
            ],
            "type": "heatmap"
           }
          ],
          "histogram": [
           {
            "marker": {
             "pattern": {
              "fillmode": "overlay",
              "size": 10,
              "solidity": 0.2
             }
            },
            "type": "histogram"
           }
          ],
          "histogram2d": [
           {
            "colorbar": {
             "outlinewidth": 0,
             "ticks": ""
            },
            "colorscale": [
             [
              0,
              "#0d0887"
             ],
             [
              0.1111111111111111,
              "#46039f"
             ],
             [
              0.2222222222222222,
              "#7201a8"
             ],
             [
              0.3333333333333333,
              "#9c179e"
             ],
             [
              0.4444444444444444,
              "#bd3786"
             ],
             [
              0.5555555555555556,
              "#d8576b"
             ],
             [
              0.6666666666666666,
              "#ed7953"
             ],
             [
              0.7777777777777778,
              "#fb9f3a"
             ],
             [
              0.8888888888888888,
              "#fdca26"
             ],
             [
              1,
              "#f0f921"
             ]
            ],
            "type": "histogram2d"
           }
          ],
          "histogram2dcontour": [
           {
            "colorbar": {
             "outlinewidth": 0,
             "ticks": ""
            },
            "colorscale": [
             [
              0,
              "#0d0887"
             ],
             [
              0.1111111111111111,
              "#46039f"
             ],
             [
              0.2222222222222222,
              "#7201a8"
             ],
             [
              0.3333333333333333,
              "#9c179e"
             ],
             [
              0.4444444444444444,
              "#bd3786"
             ],
             [
              0.5555555555555556,
              "#d8576b"
             ],
             [
              0.6666666666666666,
              "#ed7953"
             ],
             [
              0.7777777777777778,
              "#fb9f3a"
             ],
             [
              0.8888888888888888,
              "#fdca26"
             ],
             [
              1,
              "#f0f921"
             ]
            ],
            "type": "histogram2dcontour"
           }
          ],
          "mesh3d": [
           {
            "colorbar": {
             "outlinewidth": 0,
             "ticks": ""
            },
            "type": "mesh3d"
           }
          ],
          "parcoords": [
           {
            "line": {
             "colorbar": {
              "outlinewidth": 0,
              "ticks": ""
             }
            },
            "type": "parcoords"
           }
          ],
          "pie": [
           {
            "automargin": true,
            "type": "pie"
           }
          ],
          "scatter": [
           {
            "fillpattern": {
             "fillmode": "overlay",
             "size": 10,
             "solidity": 0.2
            },
            "type": "scatter"
           }
          ],
          "scatter3d": [
           {
            "line": {
             "colorbar": {
              "outlinewidth": 0,
              "ticks": ""
             }
            },
            "marker": {
             "colorbar": {
              "outlinewidth": 0,
              "ticks": ""
             }
            },
            "type": "scatter3d"
           }
          ],
          "scattercarpet": [
           {
            "marker": {
             "colorbar": {
              "outlinewidth": 0,
              "ticks": ""
             }
            },
            "type": "scattercarpet"
           }
          ],
          "scattergeo": [
           {
            "marker": {
             "colorbar": {
              "outlinewidth": 0,
              "ticks": ""
             }
            },
            "type": "scattergeo"
           }
          ],
          "scattergl": [
           {
            "marker": {
             "colorbar": {
              "outlinewidth": 0,
              "ticks": ""
             }
            },
            "type": "scattergl"
           }
          ],
          "scattermap": [
           {
            "marker": {
             "colorbar": {
              "outlinewidth": 0,
              "ticks": ""
             }
            },
            "type": "scattermap"
           }
          ],
          "scattermapbox": [
           {
            "marker": {
             "colorbar": {
              "outlinewidth": 0,
              "ticks": ""
             }
            },
            "type": "scattermapbox"
           }
          ],
          "scatterpolar": [
           {
            "marker": {
             "colorbar": {
              "outlinewidth": 0,
              "ticks": ""
             }
            },
            "type": "scatterpolar"
           }
          ],
          "scatterpolargl": [
           {
            "marker": {
             "colorbar": {
              "outlinewidth": 0,
              "ticks": ""
             }
            },
            "type": "scatterpolargl"
           }
          ],
          "scatterternary": [
           {
            "marker": {
             "colorbar": {
              "outlinewidth": 0,
              "ticks": ""
             }
            },
            "type": "scatterternary"
           }
          ],
          "surface": [
           {
            "colorbar": {
             "outlinewidth": 0,
             "ticks": ""
            },
            "colorscale": [
             [
              0,
              "#0d0887"
             ],
             [
              0.1111111111111111,
              "#46039f"
             ],
             [
              0.2222222222222222,
              "#7201a8"
             ],
             [
              0.3333333333333333,
              "#9c179e"
             ],
             [
              0.4444444444444444,
              "#bd3786"
             ],
             [
              0.5555555555555556,
              "#d8576b"
             ],
             [
              0.6666666666666666,
              "#ed7953"
             ],
             [
              0.7777777777777778,
              "#fb9f3a"
             ],
             [
              0.8888888888888888,
              "#fdca26"
             ],
             [
              1,
              "#f0f921"
             ]
            ],
            "type": "surface"
           }
          ],
          "table": [
           {
            "cells": {
             "fill": {
              "color": "#EBF0F8"
             },
             "line": {
              "color": "white"
             }
            },
            "header": {
             "fill": {
              "color": "#C8D4E3"
             },
             "line": {
              "color": "white"
             }
            },
            "type": "table"
           }
          ]
         },
         "layout": {
          "annotationdefaults": {
           "arrowcolor": "#2a3f5f",
           "arrowhead": 0,
           "arrowwidth": 1
          },
          "autotypenumbers": "strict",
          "coloraxis": {
           "colorbar": {
            "outlinewidth": 0,
            "ticks": ""
           }
          },
          "colorscale": {
           "diverging": [
            [
             0,
             "#8e0152"
            ],
            [
             0.1,
             "#c51b7d"
            ],
            [
             0.2,
             "#de77ae"
            ],
            [
             0.3,
             "#f1b6da"
            ],
            [
             0.4,
             "#fde0ef"
            ],
            [
             0.5,
             "#f7f7f7"
            ],
            [
             0.6,
             "#e6f5d0"
            ],
            [
             0.7,
             "#b8e186"
            ],
            [
             0.8,
             "#7fbc41"
            ],
            [
             0.9,
             "#4d9221"
            ],
            [
             1,
             "#276419"
            ]
           ],
           "sequential": [
            [
             0,
             "#0d0887"
            ],
            [
             0.1111111111111111,
             "#46039f"
            ],
            [
             0.2222222222222222,
             "#7201a8"
            ],
            [
             0.3333333333333333,
             "#9c179e"
            ],
            [
             0.4444444444444444,
             "#bd3786"
            ],
            [
             0.5555555555555556,
             "#d8576b"
            ],
            [
             0.6666666666666666,
             "#ed7953"
            ],
            [
             0.7777777777777778,
             "#fb9f3a"
            ],
            [
             0.8888888888888888,
             "#fdca26"
            ],
            [
             1,
             "#f0f921"
            ]
           ],
           "sequentialminus": [
            [
             0,
             "#0d0887"
            ],
            [
             0.1111111111111111,
             "#46039f"
            ],
            [
             0.2222222222222222,
             "#7201a8"
            ],
            [
             0.3333333333333333,
             "#9c179e"
            ],
            [
             0.4444444444444444,
             "#bd3786"
            ],
            [
             0.5555555555555556,
             "#d8576b"
            ],
            [
             0.6666666666666666,
             "#ed7953"
            ],
            [
             0.7777777777777778,
             "#fb9f3a"
            ],
            [
             0.8888888888888888,
             "#fdca26"
            ],
            [
             1,
             "#f0f921"
            ]
           ]
          },
          "colorway": [
           "#636efa",
           "#EF553B",
           "#00cc96",
           "#ab63fa",
           "#FFA15A",
           "#19d3f3",
           "#FF6692",
           "#B6E880",
           "#FF97FF",
           "#FECB52"
          ],
          "font": {
           "color": "#2a3f5f"
          },
          "geo": {
           "bgcolor": "white",
           "lakecolor": "white",
           "landcolor": "#E5ECF6",
           "showlakes": true,
           "showland": true,
           "subunitcolor": "white"
          },
          "hoverlabel": {
           "align": "left"
          },
          "hovermode": "closest",
          "mapbox": {
           "style": "light"
          },
          "paper_bgcolor": "white",
          "plot_bgcolor": "#E5ECF6",
          "polar": {
           "angularaxis": {
            "gridcolor": "white",
            "linecolor": "white",
            "ticks": ""
           },
           "bgcolor": "#E5ECF6",
           "radialaxis": {
            "gridcolor": "white",
            "linecolor": "white",
            "ticks": ""
           }
          },
          "scene": {
           "xaxis": {
            "backgroundcolor": "#E5ECF6",
            "gridcolor": "white",
            "gridwidth": 2,
            "linecolor": "white",
            "showbackground": true,
            "ticks": "",
            "zerolinecolor": "white"
           },
           "yaxis": {
            "backgroundcolor": "#E5ECF6",
            "gridcolor": "white",
            "gridwidth": 2,
            "linecolor": "white",
            "showbackground": true,
            "ticks": "",
            "zerolinecolor": "white"
           },
           "zaxis": {
            "backgroundcolor": "#E5ECF6",
            "gridcolor": "white",
            "gridwidth": 2,
            "linecolor": "white",
            "showbackground": true,
            "ticks": "",
            "zerolinecolor": "white"
           }
          },
          "shapedefaults": {
           "line": {
            "color": "#2a3f5f"
           }
          },
          "ternary": {
           "aaxis": {
            "gridcolor": "white",
            "linecolor": "white",
            "ticks": ""
           },
           "baxis": {
            "gridcolor": "white",
            "linecolor": "white",
            "ticks": ""
           },
           "bgcolor": "#E5ECF6",
           "caxis": {
            "gridcolor": "white",
            "linecolor": "white",
            "ticks": ""
           }
          },
          "title": {
           "x": 0.05
          },
          "xaxis": {
           "automargin": true,
           "gridcolor": "white",
           "linecolor": "white",
           "ticks": "",
           "title": {
            "standoff": 15
           },
           "zerolinecolor": "white",
           "zerolinewidth": 2
          },
          "yaxis": {
           "automargin": true,
           "gridcolor": "white",
           "linecolor": "white",
           "ticks": "",
           "title": {
            "standoff": 15
           },
           "zerolinecolor": "white",
           "zerolinewidth": 2
          }
         }
        },
        "width": 900,
        "xaxis": {
         "anchor": "y",
         "domain": [
          0,
          0.94
         ],
         "gridcolor": "#1f292f",
         "nticks": 5,
         "rangeslider": {
          "visible": false
         }
        },
        "yaxis": {
         "anchor": "x",
         "domain": [
          0,
          1
         ],
         "gridcolor": "#1f292f"
        },
        "yaxis2": {
         "anchor": "x",
         "gridcolor": "#1f292f",
         "overlaying": "y",
         "side": "right"
        }
       }
      }
     },
     "metadata": {},
     "output_type": "display_data"
    }
   ],
   "source": [
    "df_plot = df_slim.iloc[70:100]\n",
    "cp = CandlePlot(df_plot, candles=True)\n",
    "\n",
    "trades = cp.df_plot[cp.df_plot.SIGNAL != NONE]\n",
    "\n",
    "markers = ['mid_c', 'TP', 'SL']\n",
    "marker_colors = ['#0000FF', '#00FF00', '#FF0000']\n",
    "\n",
    "for i in range(3):\n",
    "    cp.fig.add_trace(go.Scatter(\n",
    "        x = trades.sTime,\n",
    "        y = trades[markers[i]],\n",
    "        mode = 'markers',\n",
    "        marker=dict(color=marker_colors[i], size=12)\n",
    "    ))\n",
    "\n",
    "cp.show_plot(line_traces=[\"EMA_200\"], sec_traces=['RSI_14'], height=250)"
   ]
  },
  {
   "cell_type": "code",
   "execution_count": 24,
   "id": "48459b4f",
   "metadata": {},
   "outputs": [],
   "source": [
    "class Trade:\n",
    "    def __init__(self, row):\n",
    "        self.running = True\n",
    "        self.start_index = row.name\n",
    "        self.start_price = row.mid_c\n",
    "        self.trigger_price = row.mid_c\n",
    "        self.SIGNAL = row.SIGNAL\n",
    "        self.TP = row.TP\n",
    "        self.SL = row.SL\n",
    "        self.result = 0.0\n",
    "        self.end_time = row.time\n",
    "        self.start_time = row.time\n",
    "        self.duration = 0\n",
    "        \n",
    "    def close_trade(self, row, result, trigger_price):\n",
    "        self.running = False\n",
    "        self.result = result\n",
    "        self.end_time = row.time\n",
    "        self.trigger_price = trigger_price\n",
    "        \n",
    "    def update(self, row):\n",
    "        self.duration += 1\n",
    "        if self.SIGNAL == BUY:\n",
    "            if row.mid_h >= self.TP:\n",
    "                self.close_trade(row, PROFIT_FACTOR, row.mid_h)\n",
    "            elif row.mid_l <= self.SL:\n",
    "                self.close_trade(row, LOSS_FACTOR, row.mid_l)\n",
    "        if self.SIGNAL == SELL:\n",
    "            if row.mid_l <= self.TP:\n",
    "                self.close_trade(row, PROFIT_FACTOR, row.mid_l)\n",
    "            elif row.mid_h >= self.SL:\n",
    "                self.close_trade(row, LOSS_FACTOR, row.mid_h)    "
   ]
  },
  {
   "cell_type": "code",
   "execution_count": 25,
   "id": "f5fa22a7",
   "metadata": {},
   "outputs": [],
   "source": [
    "open_trades = []\n",
    "closed_trades = []\n",
    "\n",
    "for index, row in df_slim.iterrows():\n",
    "    for ot in open_trades:\n",
    "        ot.update(row)\n",
    "        if ot.running == False:\n",
    "            closed_trades.append(ot)\n",
    "    open_trades = [x for x in open_trades if x.running == True]\n",
    "    \n",
    "    if row.SIGNAL != NONE:\n",
    "        open_trades.append(Trade(row))    "
   ]
  },
  {
   "cell_type": "code",
   "execution_count": 26,
   "id": "4020ad76",
   "metadata": {},
   "outputs": [],
   "source": [
    "df_results = pd.DataFrame.from_dict([vars(x) for x in closed_trades])"
   ]
  },
  {
   "cell_type": "code",
   "execution_count": 27,
   "id": "bd745bed",
   "metadata": {},
   "outputs": [
    {
     "data": {
      "text/plain": [
       "np.float64(473.0)"
      ]
     },
     "execution_count": 27,
     "metadata": {},
     "output_type": "execute_result"
    }
   ],
   "source": [
    "df_results.result.sum()"
   ]
  },
  {
   "cell_type": "code",
   "execution_count": 28,
   "id": "7f6a9b79",
   "metadata": {},
   "outputs": [],
   "source": [
    "df_results.sort_values(by=\"start_index\", inplace=True)"
   ]
  },
  {
   "cell_type": "code",
   "execution_count": 31,
   "id": "0443a648",
   "metadata": {},
   "outputs": [
    {
     "ename": "FileNotFoundError",
     "evalue": "[Errno 2] No such file or directory: '../data/XAUUSD_M1.pkl'",
     "output_type": "error",
     "traceback": [
      "\u001b[31m---------------------------------------------------------------------------\u001b[39m",
      "\u001b[31mFileNotFoundError\u001b[39m                         Traceback (most recent call last)",
      "\u001b[36mCell\u001b[39m\u001b[36m \u001b[39m\u001b[32mIn[31]\u001b[39m\u001b[32m, line 1\u001b[39m\n\u001b[32m----> \u001b[39m\u001b[32m1\u001b[39m df_m5 = \u001b[43mpd\u001b[49m\u001b[43m.\u001b[49m\u001b[43mread_pickle\u001b[49m\u001b[43m(\u001b[49m\u001b[33;43m\"\u001b[39;49m\u001b[33;43m../data/XAUUSD_M1.pkl\u001b[39;49m\u001b[33;43m\"\u001b[39;49m\u001b[43m)\u001b[49m\n",
      "\u001b[36mFile \u001b[39m\u001b[32m~/live feed test folder/venv/lib/python3.12/site-packages/pandas/io/pickle.py:185\u001b[39m, in \u001b[36mread_pickle\u001b[39m\u001b[34m(filepath_or_buffer, compression, storage_options)\u001b[39m\n\u001b[32m    123\u001b[39m \u001b[38;5;250m\u001b[39m\u001b[33;03m\"\"\"\u001b[39;00m\n\u001b[32m    124\u001b[39m \u001b[33;03mLoad pickled pandas object (or any object) from file.\u001b[39;00m\n\u001b[32m    125\u001b[39m \n\u001b[32m   (...)\u001b[39m\u001b[32m    182\u001b[39m \u001b[33;03m4    4    9\u001b[39;00m\n\u001b[32m    183\u001b[39m \u001b[33;03m\"\"\"\u001b[39;00m\n\u001b[32m    184\u001b[39m excs_to_catch = (\u001b[38;5;167;01mAttributeError\u001b[39;00m, \u001b[38;5;167;01mImportError\u001b[39;00m, \u001b[38;5;167;01mModuleNotFoundError\u001b[39;00m, \u001b[38;5;167;01mTypeError\u001b[39;00m)\n\u001b[32m--> \u001b[39m\u001b[32m185\u001b[39m \u001b[38;5;28;01mwith\u001b[39;00m \u001b[43mget_handle\u001b[49m\u001b[43m(\u001b[49m\n\u001b[32m    186\u001b[39m \u001b[43m    \u001b[49m\u001b[43mfilepath_or_buffer\u001b[49m\u001b[43m,\u001b[49m\n\u001b[32m    187\u001b[39m \u001b[43m    \u001b[49m\u001b[33;43m\"\u001b[39;49m\u001b[33;43mrb\u001b[39;49m\u001b[33;43m\"\u001b[39;49m\u001b[43m,\u001b[49m\n\u001b[32m    188\u001b[39m \u001b[43m    \u001b[49m\u001b[43mcompression\u001b[49m\u001b[43m=\u001b[49m\u001b[43mcompression\u001b[49m\u001b[43m,\u001b[49m\n\u001b[32m    189\u001b[39m \u001b[43m    \u001b[49m\u001b[43mis_text\u001b[49m\u001b[43m=\u001b[49m\u001b[38;5;28;43;01mFalse\u001b[39;49;00m\u001b[43m,\u001b[49m\n\u001b[32m    190\u001b[39m \u001b[43m    \u001b[49m\u001b[43mstorage_options\u001b[49m\u001b[43m=\u001b[49m\u001b[43mstorage_options\u001b[49m\u001b[43m,\u001b[49m\n\u001b[32m    191\u001b[39m \u001b[43m\u001b[49m\u001b[43m)\u001b[49m \u001b[38;5;28;01mas\u001b[39;00m handles:\n\u001b[32m    192\u001b[39m     \u001b[38;5;66;03m# 1) try standard library Pickle\u001b[39;00m\n\u001b[32m    193\u001b[39m     \u001b[38;5;66;03m# 2) try pickle_compat (older pandas version) to handle subclass changes\u001b[39;00m\n\u001b[32m    194\u001b[39m     \u001b[38;5;66;03m# 3) try pickle_compat with latin-1 encoding upon a UnicodeDecodeError\u001b[39;00m\n\u001b[32m    196\u001b[39m     \u001b[38;5;28;01mtry\u001b[39;00m:\n\u001b[32m    197\u001b[39m         \u001b[38;5;66;03m# TypeError for Cython complaints about object.__new__ vs Tick.__new__\u001b[39;00m\n\u001b[32m    198\u001b[39m         \u001b[38;5;28;01mtry\u001b[39;00m:\n",
      "\u001b[36mFile \u001b[39m\u001b[32m~/live feed test folder/venv/lib/python3.12/site-packages/pandas/io/common.py:882\u001b[39m, in \u001b[36mget_handle\u001b[39m\u001b[34m(path_or_buf, mode, encoding, compression, memory_map, is_text, errors, storage_options)\u001b[39m\n\u001b[32m    873\u001b[39m         handle = \u001b[38;5;28mopen\u001b[39m(\n\u001b[32m    874\u001b[39m             handle,\n\u001b[32m    875\u001b[39m             ioargs.mode,\n\u001b[32m   (...)\u001b[39m\u001b[32m    878\u001b[39m             newline=\u001b[33m\"\u001b[39m\u001b[33m\"\u001b[39m,\n\u001b[32m    879\u001b[39m         )\n\u001b[32m    880\u001b[39m     \u001b[38;5;28;01melse\u001b[39;00m:\n\u001b[32m    881\u001b[39m         \u001b[38;5;66;03m# Binary mode\u001b[39;00m\n\u001b[32m--> \u001b[39m\u001b[32m882\u001b[39m         handle = \u001b[38;5;28;43mopen\u001b[39;49m\u001b[43m(\u001b[49m\u001b[43mhandle\u001b[49m\u001b[43m,\u001b[49m\u001b[43m \u001b[49m\u001b[43mioargs\u001b[49m\u001b[43m.\u001b[49m\u001b[43mmode\u001b[49m\u001b[43m)\u001b[49m\n\u001b[32m    883\u001b[39m     handles.append(handle)\n\u001b[32m    885\u001b[39m \u001b[38;5;66;03m# Convert BytesIO or file objects passed with an encoding\u001b[39;00m\n",
      "\u001b[31mFileNotFoundError\u001b[39m: [Errno 2] No such file or directory: '../data/XAUUSD_M1.pkl'"
     ]
    }
   ],
   "source": [
    "df_m5 = pd.read_pickle(\"../data/XAUUSD_M1.pkl\")"
   ]
  },
  {
   "cell_type": "code",
   "execution_count": null,
   "id": "de1da2fe",
   "metadata": {},
   "outputs": [],
   "source": [
    "df_m5.shape"
   ]
  },
  {
   "cell_type": "code",
   "execution_count": null,
   "id": "19afaaa4",
   "metadata": {},
   "outputs": [],
   "source": [
    "df_m5.time.max()"
   ]
  },
  {
   "cell_type": "code",
   "execution_count": null,
   "id": "a8b79e5b",
   "metadata": {},
   "outputs": [],
   "source": [
    "df_raw.time.max()"
   ]
  },
  {
   "cell_type": "code",
   "execution_count": null,
   "id": "9f63ad63",
   "metadata": {},
   "outputs": [],
   "source": [
    "from dateutil import parser"
   ]
  },
  {
   "cell_type": "code",
   "execution_count": null,
   "id": "e2d4d185",
   "metadata": {},
   "outputs": [],
   "source": [
    "time_min = parser.parse(\"2021-12-15T10:00:00\")\n",
    "time_max = parser.parse(\"2021-12-15T11:00:00\")\n",
    "df_m5_s = df_m5[(df_m5.time>=time_min)&(df_m5.time<=time_max)]\n",
    "df_raw_s = df_raw[(df_raw.time>=time_min)&(df_raw.time<=time_max)]"
   ]
  },
  {
   "cell_type": "code",
   "execution_count": null,
   "id": "0f7ff7a3",
   "metadata": {},
   "outputs": [],
   "source": [
    "df_m5_s"
   ]
  },
  {
   "cell_type": "code",
   "execution_count": null,
   "id": "5fc89088",
   "metadata": {},
   "outputs": [],
   "source": [
    "df_raw_s"
   ]
  },
  {
   "cell_type": "code",
   "execution_count": null,
   "id": "301f614e",
   "metadata": {},
   "outputs": [],
   "source": [
    "df_m5_slim = df_m5[['time','mid_h', 'mid_l' ]].copy()"
   ]
  },
  {
   "cell_type": "code",
   "execution_count": null,
   "id": "94d93243",
   "metadata": {},
   "outputs": [],
   "source": [
    "df_m5_slim.head()"
   ]
  },
  {
   "cell_type": "code",
   "execution_count": null,
   "id": "a534aa58",
   "metadata": {},
   "outputs": [],
   "source": [
    "df_signals = df_slim[df_slim.SIGNAL != NONE].copy() "
   ]
  },
  {
   "cell_type": "code",
   "execution_count": null,
   "id": "a634cf5b",
   "metadata": {},
   "outputs": [],
   "source": [
    "df_signals['m5_start'] = [x + dt.timedelta(hours=1) for x in df_signals.time]"
   ]
  },
  {
   "cell_type": "code",
   "execution_count": null,
   "id": "a87b9c39",
   "metadata": {},
   "outputs": [],
   "source": [
    "df_signals['start_index_h1'] = df_signals.index"
   ]
  },
  {
   "cell_type": "code",
   "execution_count": null,
   "id": "55b9d019",
   "metadata": {},
   "outputs": [],
   "source": [
    "df_signals.head()"
   ]
  },
  {
   "cell_type": "code",
   "execution_count": null,
   "id": "78d349b1",
   "metadata": {},
   "outputs": [],
   "source": [
    "df_signals.columns"
   ]
  },
  {
   "cell_type": "code",
   "execution_count": null,
   "id": "d16475b2",
   "metadata": {},
   "outputs": [],
   "source": [
    "df_signals.drop(['time', 'mid_o', 'mid_h', 'mid_l', 'ask_c', 'bid_c',\n",
    "                'ENGULFING', 'EMA_200', 'RSI_14', 'direction'], axis=1, inplace=True)"
   ]
  },
  {
   "cell_type": "code",
   "execution_count": null,
   "id": "5924a24c",
   "metadata": {},
   "outputs": [],
   "source": [
    "df_signals.head()"
   ]
  },
  {
   "cell_type": "code",
   "execution_count": null,
   "id": "8d3db758",
   "metadata": {},
   "outputs": [],
   "source": [
    "df_signals.rename(columns={\n",
    "    'mid_c' : 'start_price',\n",
    "    'm5_start' : 'time'\n",
    "}, inplace=True)"
   ]
  },
  {
   "cell_type": "code",
   "execution_count": null,
   "id": "aec9d5ae",
   "metadata": {},
   "outputs": [],
   "source": [
    "df_signals.head(2)"
   ]
  },
  {
   "cell_type": "code",
   "execution_count": null,
   "id": "ae7ca4af",
   "metadata": {},
   "outputs": [],
   "source": [
    "df_m5_slim.head(2)"
   ]
  },
  {
   "cell_type": "code",
   "execution_count": null,
   "id": "48ffdab0",
   "metadata": {},
   "outputs": [],
   "source": [
    "merged = pd.merge(left=df_m5_slim, right=df_signals, on='time', how='left')"
   ]
  },
  {
   "cell_type": "code",
   "execution_count": null,
   "id": "e82a939b",
   "metadata": {},
   "outputs": [],
   "source": [
    "merged.fillna(0, inplace=True)"
   ]
  },
  {
   "cell_type": "code",
   "execution_count": null,
   "id": "4b9fac68",
   "metadata": {},
   "outputs": [],
   "source": [
    "merged.SIGNAL = merged.SIGNAL.astype(int)\n",
    "merged.start_index_h1 = merged.start_index_h1.astype(int)"
   ]
  },
  {
   "cell_type": "code",
   "execution_count": null,
   "id": "d6b724e3",
   "metadata": {},
   "outputs": [],
   "source": [
    "merged.head()"
   ]
  },
  {
   "cell_type": "code",
   "execution_count": null,
   "id": "21750564",
   "metadata": {},
   "outputs": [],
   "source": [
    "class TradeM5:\n",
    "    def __init__(self, row):\n",
    "        self.running = True\n",
    "        self.start_index_m5 = row.name\n",
    "        self.start_index_h1 = row.start_index_h1\n",
    "        self.start_price = row.start_price\n",
    "        self.trigger_price = row.start_price\n",
    "        self.SIGNAL = row.SIGNAL\n",
    "        self.TP = row.TP\n",
    "        self.SL = row.SL\n",
    "        self.result = 0.0\n",
    "        self.end_time = row.time\n",
    "        self.start_time = row.time\n",
    "        self.duration = 1\n",
    "        \n",
    "    def close_trade(self, row, result, trigger_price):\n",
    "        self.running = False\n",
    "        self.result = result\n",
    "        self.end_time = row.time\n",
    "        self.trigger_price = trigger_price\n",
    "        \n",
    "    def update(self, row):\n",
    "        self.duration += 1\n",
    "        if self.SIGNAL == BUY:\n",
    "            if row.mid_h >= self.TP:\n",
    "                self.close_trade(row, PROFIT_FACTOR, row.mid_h)\n",
    "            elif row.mid_l <= self.SL:\n",
    "                self.close_trade(row, LOSS_FACTOR, row.mid_l)\n",
    "        if self.SIGNAL == SELL:\n",
    "            if row.mid_l <= self.TP:\n",
    "                self.close_trade(row, PROFIT_FACTOR, row.mid_l)\n",
    "            elif row.mid_h >= self.SL:\n",
    "                self.close_trade(row, LOSS_FACTOR, row.mid_h)   "
   ]
  },
  {
   "cell_type": "code",
   "execution_count": null,
   "id": "9899d481",
   "metadata": {},
   "outputs": [],
   "source": [
    "open_trades_m5 = []\n",
    "closed_trades_m5 = []\n",
    "\n",
    "for index, row in merged.iterrows():\n",
    "    for ot in open_trades_m5:\n",
    "        ot.update(row)\n",
    "        if ot.running == False:\n",
    "            closed_trades_m5.append(ot)\n",
    "    open_trades_m5 = [x for x in open_trades_m5 if x.running == True]\n",
    "    \n",
    "    if row.SIGNAL != NONE:\n",
    "        open_trades_m5.append(TradeM5(row))   "
   ]
  },
  {
   "cell_type": "code",
   "execution_count": null,
   "id": "0bb7407d",
   "metadata": {},
   "outputs": [],
   "source": [
    "df_res_m5 = pd.DataFrame.from_dict([vars(x) for x in closed_trades_m5])"
   ]
  },
  {
   "cell_type": "code",
   "execution_count": null,
   "id": "356f448c",
   "metadata": {},
   "outputs": [],
   "source": [
    "df_res_m5.head()"
   ]
  },
  {
   "cell_type": "code",
   "execution_count": null,
   "id": "8f4fb66c",
   "metadata": {},
   "outputs": [],
   "source": [
    "df_res_m5.result.sum()"
   ]
  },
  {
   "cell_type": "code",
   "execution_count": null,
   "id": "314355c3",
   "metadata": {},
   "outputs": [],
   "source": []
  },
  {
   "cell_type": "code",
   "execution_count": null,
   "id": "36fab442",
   "metadata": {},
   "outputs": [],
   "source": []
  },
  {
   "cell_type": "code",
   "execution_count": null,
   "id": "d9b1f5f0",
   "metadata": {},
   "outputs": [],
   "source": []
  },
  {
   "cell_type": "code",
   "execution_count": null,
   "id": "b3aae0b2",
   "metadata": {},
   "outputs": [],
   "source": []
  },
  {
   "cell_type": "code",
   "execution_count": null,
   "id": "990d4bde",
   "metadata": {},
   "outputs": [],
   "source": []
  },
  {
   "cell_type": "code",
   "execution_count": null,
   "id": "3f968cf3",
   "metadata": {},
   "outputs": [],
   "source": []
  }
 ],
 "metadata": {
  "kernelspec": {
   "display_name": "venv",
   "language": "python",
   "name": "python3"
  },
  "language_info": {
   "codemirror_mode": {
    "name": "ipython",
    "version": 3
   },
   "file_extension": ".py",
   "mimetype": "text/x-python",
   "name": "python",
   "nbconvert_exporter": "python",
   "pygments_lexer": "ipython3",
   "version": "3.12.3"
  }
 },
 "nbformat": 4,
 "nbformat_minor": 5
}
